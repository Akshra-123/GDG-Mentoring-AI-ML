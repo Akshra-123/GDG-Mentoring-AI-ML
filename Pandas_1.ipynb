{
  "nbformat": 4,
  "nbformat_minor": 0,
  "metadata": {
    "colab": {
      "provenance": []
    },
    "kernelspec": {
      "name": "python3",
      "display_name": "Python 3"
    },
    "language_info": {
      "name": "python"
    }
  },
  "cells": [
    {
      "cell_type": "code",
      "execution_count": null,
      "metadata": {
        "id": "xHvH_AEAOR-7"
      },
      "outputs": [],
      "source": [
        "# Series"
      ]
    },
    {
      "cell_type": "code",
      "source": [
        "import pandas as pd\n",
        "a = pd.Series(data=[1,2,3,4])  # or simply as pd.Series([1,2,3,4])\n",
        "print(a)\n",
        "print()\n",
        "print(a[0])"
      ],
      "metadata": {
        "colab": {
          "base_uri": "https://localhost:8080/"
        },
        "id": "qhj9GdowI8vQ",
        "outputId": "1f7eb643-838c-4cbe-a7bd-72933da46439"
      },
      "execution_count": null,
      "outputs": [
        {
          "output_type": "stream",
          "name": "stdout",
          "text": [
            "0    1\n",
            "1    2\n",
            "2    3\n",
            "3    4\n",
            "dtype: int64\n",
            "\n",
            "1\n"
          ]
        }
      ]
    },
    {
      "cell_type": "code",
      "source": [
        "import pandas as pd\n",
        "a = pd.Series([1,2,3,4],index=['a','d','f','g']) # we can write the index directly also\n",
        "print(a)"
      ],
      "metadata": {
        "colab": {
          "base_uri": "https://localhost:8080/"
        },
        "id": "ew8NGg6yOoWi",
        "outputId": "f85ff9d5-ae7e-446d-c95a-e123229a857c"
      },
      "execution_count": null,
      "outputs": [
        {
          "output_type": "stream",
          "name": "stdout",
          "text": [
            "a    1\n",
            "d    2\n",
            "f    3\n",
            "g    4\n",
            "dtype: int64\n"
          ]
        }
      ]
    },
    {
      "cell_type": "code",
      "source": [
        "# Sum of Series\n",
        "import pandas as pd\n",
        "a = pd.Series([1,2,3,4])\n",
        "b = pd.Series([4,5,6,7])\n",
        "print(a+b)\n",
        "# similarly other arithmetic operations can"
      ],
      "metadata": {
        "colab": {
          "base_uri": "https://localhost:8080/"
        },
        "id": "yCOXFNV2PAic",
        "outputId": "bfd473b0-e921-4a4f-872c-f7733025387a"
      },
      "execution_count": null,
      "outputs": [
        {
          "output_type": "stream",
          "name": "stdout",
          "text": [
            "0     5\n",
            "1     7\n",
            "2     9\n",
            "3    11\n",
            "dtype: int64\n"
          ]
        }
      ]
    },
    {
      "cell_type": "code",
      "source": [
        "# Another Example of Sum\n",
        "import pandas as pd\n",
        "a = pd.Series(['a','b','c'],[1,2,3])\n",
        "print(a)\n",
        "b = pd.Series(['d','e','f'])\n",
        "print(b)\n",
        "print(a+b)\n",
        "# Those having not the same index print NaN"
      ],
      "metadata": {
        "colab": {
          "base_uri": "https://localhost:8080/"
        },
        "id": "R4mH9OUkVP9Q",
        "outputId": "4fd512e8-ab77-4ade-8587-db5f58706ce5"
      },
      "execution_count": null,
      "outputs": [
        {
          "output_type": "stream",
          "name": "stdout",
          "text": [
            "1    a\n",
            "2    b\n",
            "3    c\n",
            "dtype: object\n",
            "0    d\n",
            "1    e\n",
            "2    f\n",
            "dtype: object\n",
            "0    NaN\n",
            "1     ae\n",
            "2     bf\n",
            "3    NaN\n",
            "dtype: object\n"
          ]
        }
      ]
    },
    {
      "cell_type": "code",
      "source": [
        "# When a Dictionary is taken instead of a list\n",
        "import pandas as pd\n",
        "a = pd.Series({\"a\":1,\"b\":2})\n",
        "print(a)\n",
        "# Taken the key as index and the value as datapoint"
      ],
      "metadata": {
        "colab": {
          "base_uri": "https://localhost:8080/"
        },
        "id": "Ig8F8hSTSU6X",
        "outputId": "a65086b4-1bf9-4538-f390-7b197ad5b913"
      },
      "execution_count": null,
      "outputs": [
        {
          "output_type": "stream",
          "name": "stdout",
          "text": [
            "a    1\n",
            "b    2\n",
            "dtype: int64\n"
          ]
        }
      ]
    },
    {
      "cell_type": "code",
      "source": [
        "# Another Example\n",
        "import pandas as pd\n",
        "a = pd.Series([print,len])\n",
        "print(a)"
      ],
      "metadata": {
        "colab": {
          "base_uri": "https://localhost:8080/"
        },
        "id": "KdO6QXpNTb3F",
        "outputId": "b58f6873-7321-44db-f863-9360d0fb48cc"
      },
      "execution_count": null,
      "outputs": [
        {
          "output_type": "stream",
          "name": "stdout",
          "text": [
            "0    <built-in function print>\n",
            "1      <built-in function len>\n",
            "dtype: object\n"
          ]
        }
      ]
    },
    {
      "cell_type": "code",
      "source": [
        "# Grabing Information from Series\n",
        "import pandas as pd\n",
        "a = pd.Series(['a','b','c','d'])\n",
        "print(a)\n",
        "print(a[2])"
      ],
      "metadata": {
        "colab": {
          "base_uri": "https://localhost:8080/"
        },
        "id": "JFn2Wo3WUUhE",
        "outputId": "586d1a38-20fb-41e9-fa27-007de075f7a2"
      },
      "execution_count": null,
      "outputs": [
        {
          "output_type": "stream",
          "name": "stdout",
          "text": [
            "0    a\n",
            "1    b\n",
            "2    c\n",
            "3    d\n",
            "dtype: object\n",
            "c\n"
          ]
        }
      ]
    },
    {
      "cell_type": "code",
      "source": [
        "# DataFrame"
      ],
      "metadata": {
        "id": "YIT25EcfJDg0"
      },
      "execution_count": null,
      "outputs": []
    },
    {
      "cell_type": "code",
      "source": [
        "# Making a Data Frame\n",
        "import pandas as pd\n",
        "import numpy as np\n",
        "from numpy.random import randn\n",
        "np.random.seed(501)\n",
        "A = pd.DataFrame(randn(3,5))\n",
        "print(A)\n",
        "print(type(A))"
      ],
      "metadata": {
        "colab": {
          "base_uri": "https://localhost:8080/"
        },
        "id": "IEv_gxSvJGyv",
        "outputId": "402960e9-9b8e-4c3e-d092-c85b25d83d2c"
      },
      "execution_count": null,
      "outputs": [
        {
          "output_type": "stream",
          "name": "stdout",
          "text": [
            "          0         1         2         3         4\n",
            "0  0.064409 -1.461810  0.732327  1.215830 -1.924833\n",
            "1 -0.459235  0.660056 -0.520329  1.319795  1.318132\n",
            "2 -0.762121  1.788256 -0.542495  0.082354 -0.569025\n",
            "<class 'pandas.core.frame.DataFrame'>\n"
          ]
        }
      ]
    },
    {
      "cell_type": "code",
      "source": [
        "# Naming Rows and Columns by ourselves\n",
        "import pandas as pd\n",
        "import numpy as np\n",
        "from numpy.random import randn\n",
        "np.random.seed(709)\n",
        "a=pd.DataFrame(randn(3,4),[\"A\",\"B\",\"C\"],[\"W\",\"X\",\"Y\",\"Z\"])\n",
        "print(a)"
      ],
      "metadata": {
        "colab": {
          "base_uri": "https://localhost:8080/"
        },
        "id": "GeL69GGhMldd",
        "outputId": "d413e18e-6f41-4f09-e8c1-171152ac3685"
      },
      "execution_count": null,
      "outputs": [
        {
          "output_type": "stream",
          "name": "stdout",
          "text": [
            "          W         X         Y         Z\n",
            "A  0.271990  1.631332 -0.021731 -0.162654\n",
            "B  1.996819 -1.411155  0.142697 -0.809855\n",
            "C  0.187481  0.243832 -1.281054 -1.244693\n"
          ]
        }
      ]
    },
    {
      "cell_type": "code",
      "source": [
        "# If we want to get any particular column or row"
      ],
      "metadata": {
        "id": "XlUfaxWqQeeS"
      },
      "execution_count": null,
      "outputs": []
    },
    {
      "cell_type": "code",
      "source": [
        "import pandas as pd\n",
        "import numpy as np\n",
        "from numpy.random import randn\n",
        "np.random.seed(23)\n",
        "A = pd.DataFrame(randn(3,4),['a','b','c'],['d','e','f','g'])\n",
        "print(A)\n",
        "print()\n",
        "print(A['e'])"
      ],
      "metadata": {
        "colab": {
          "base_uri": "https://localhost:8080/"
        },
        "id": "YPUL8A7cQucd",
        "outputId": "5a1779be-6ace-4172-b9a2-9c3415401cf3"
      },
      "execution_count": null,
      "outputs": [
        {
          "output_type": "stream",
          "name": "stdout",
          "text": [
            "          d         e         f         g\n",
            "a  0.666988  0.025813 -0.777619  0.948634\n",
            "b  0.701672 -1.051082 -0.367548 -1.137460\n",
            "c -1.322148  1.772258 -0.347459  0.670140\n",
            "\n",
            "a    0.025813\n",
            "b   -1.051082\n",
            "c    1.772258\n",
            "Name: e, dtype: float64\n"
          ]
        }
      ]
    },
    {
      "cell_type": "code",
      "source": [
        "# We can also print more than one column at one time\n",
        "import pandas as pd\n",
        "import numpy as np\n",
        "from numpy.random import randn\n",
        "np.random.seed(23)\n",
        "A = pd.DataFrame(randn(3,4),['a','b','c'],['d','e','f','g'])\n",
        "print(A)\n",
        "print()\n",
        "print(A[['e','f']])"
      ],
      "metadata": {
        "id": "TE9ieq62Pln8",
        "colab": {
          "base_uri": "https://localhost:8080/"
        },
        "outputId": "d07a18ae-cf25-4693-e48b-2e282de1afdf"
      },
      "execution_count": null,
      "outputs": [
        {
          "output_type": "stream",
          "name": "stdout",
          "text": [
            "          d         e         f         g\n",
            "a  0.666988  0.025813 -0.777619  0.948634\n",
            "b  0.701672 -1.051082 -0.367548 -1.137460\n",
            "c -1.322148  1.772258 -0.347459  0.670140\n",
            "\n",
            "          e         f\n",
            "a  0.025813 -0.777619\n",
            "b -1.051082 -0.367548\n",
            "c  1.772258 -0.347459\n"
          ]
        }
      ]
    },
    {
      "cell_type": "code",
      "source": [
        "# For accessing rows\n",
        "import pandas as pd\n",
        "import numpy as np\n",
        "from numpy.random import randn\n",
        "np.random.seed(302)\n",
        "A = pd.DataFrame(randn(3,4),['a','b','c'],['d','e','f','g'])\n",
        "print(A)\n",
        "print(A.loc['a'])\n",
        "print()\n",
        "print(type(A.loc['a']))"
      ],
      "metadata": {
        "colab": {
          "base_uri": "https://localhost:8080/"
        },
        "id": "nDUQevzyRhzy",
        "outputId": "6ebed068-c371-49ea-f382-7806208c3871"
      },
      "execution_count": null,
      "outputs": [
        {
          "output_type": "stream",
          "name": "stdout",
          "text": [
            "          d         e         f         g\n",
            "a  1.090693  0.457297  1.242307 -0.820925\n",
            "b  2.433195 -1.753825 -1.083163  0.134268\n",
            "c -0.467629 -0.666393 -0.534992 -0.071840\n",
            "d    1.090693\n",
            "e    0.457297\n",
            "f    1.242307\n",
            "g   -0.820925\n",
            "Name: a, dtype: float64\n",
            "\n",
            "<class 'pandas.core.series.Series'>\n"
          ]
        }
      ]
    },
    {
      "cell_type": "code",
      "source": [
        "# If we want to make a new column\n",
        "import pandas as pd\n",
        "import numpy as np\n",
        "from numpy.random import randn\n",
        "np.random.seed()\n",
        "A = pd.DataFrame(randn(3,5),['A','B','C'],['D','E','F','G','H'])\n",
        "print(A)\n",
        "A['new'] = A['D'] + A['H']\n",
        "print()\n",
        "print(A)"
      ],
      "metadata": {
        "colab": {
          "base_uri": "https://localhost:8080/"
        },
        "id": "ZxbR_lYXC9MJ",
        "outputId": "4b3a1008-0acb-47c6-c178-718103f4d19e"
      },
      "execution_count": null,
      "outputs": [
        {
          "output_type": "stream",
          "name": "stdout",
          "text": [
            "          D         E         F         G         H\n",
            "A -1.157103 -0.887258  0.089085 -0.308512 -1.012284\n",
            "B -0.221436 -0.629938  0.059377  0.033086 -1.500050\n",
            "C  1.729364 -0.962100 -0.980707 -0.390091 -0.400776\n",
            "\n",
            "          D         E         F         G         H       new\n",
            "A -1.157103 -0.887258  0.089085 -0.308512 -1.012284 -2.169387\n",
            "B -0.221436 -0.629938  0.059377  0.033086 -1.500050 -1.721485\n",
            "C  1.729364 -0.962100 -0.980707 -0.390091 -0.400776  1.328589\n"
          ]
        }
      ]
    },
    {
      "cell_type": "code",
      "source": [
        "# for removing or deleting any column + The inplace parameter\n",
        "import pandas as pd\n",
        "import numpy as np\n",
        "from numpy.random import randn\n",
        "np.random.seed()\n",
        "A = pd.DataFrame(randn(3,5),['A','B','C'],['D','E','F','G','H'])\n",
        "print(A)\n",
        "A['new'] = A['D'] + A['H']\n",
        "print()\n",
        "print(A)\n",
        "print()\n",
        "B= A.drop('D',axis=1,inplace=True) # for column we have to specify the axis as by default the axis taken is 0\n",
        "print()\n",
        "print()\n",
        "print(A)\n",
        "C= A.drop('A',axis=0)\n",
        "print(C)"
      ],
      "metadata": {
        "colab": {
          "base_uri": "https://localhost:8080/"
        },
        "id": "lF_scTNBDxSJ",
        "outputId": "ef460bc9-e8ee-404b-eb20-4a777d9af23a"
      },
      "execution_count": null,
      "outputs": [
        {
          "output_type": "stream",
          "name": "stdout",
          "text": [
            "          D         E         F         G         H\n",
            "A  1.022708  0.222197  1.177540 -0.279289 -0.290098\n",
            "B  0.404720 -0.294128  1.496659 -0.327536 -0.226439\n",
            "C  0.715353  1.061083  0.446354  0.927510  0.040587\n",
            "\n",
            "          D         E         F         G         H       new\n",
            "A  1.022708  0.222197  1.177540 -0.279289 -0.290098  0.732611\n",
            "B  0.404720 -0.294128  1.496659 -0.327536 -0.226439  0.178281\n",
            "C  0.715353  1.061083  0.446354  0.927510  0.040587  0.755940\n",
            "\n",
            "\n",
            "\n",
            "          E         F         G         H       new\n",
            "A  0.222197  1.177540 -0.279289 -0.290098  0.732611\n",
            "B -0.294128  1.496659 -0.327536 -0.226439  0.178281\n",
            "C  1.061083  0.446354  0.927510  0.040587  0.755940\n",
            "          E         F         G         H       new\n",
            "B -0.294128  1.496659 -0.327536 -0.226439  0.178281\n",
            "C  1.061083  0.446354  0.927510  0.040587  0.755940\n"
          ]
        }
      ]
    },
    {
      "cell_type": "code",
      "source": [
        "# the inplace parameter (when we want the changes to remain or not both cases)\n",
        "# When inplace = True\n",
        "import pandas as pd\n",
        "import numpy as np\n",
        "from numpy.random import randn\n",
        "np.random.seed()\n",
        "A = pd.DataFrame(randn(3,5),['A','B','C'],['D','E','F','G','H'])\n",
        "print(A)\n",
        "A['new'] = A['D'] + A['H']\n",
        "print()\n",
        "print(A)\n",
        "print()\n",
        "print(A.drop('new',axis=1,inplace=True)) # for column we have to specify the axis as by default the axis taken is 0\n",
        "print(A)"
      ],
      "metadata": {
        "colab": {
          "base_uri": "https://localhost:8080/"
        },
        "id": "hJdUpd3nSg0-",
        "outputId": "0c363ffe-ee8f-4130-bd08-8d4bf1db383a"
      },
      "execution_count": null,
      "outputs": [
        {
          "output_type": "stream",
          "name": "stdout",
          "text": [
            "          D         E         F         G         H\n",
            "A  0.694638  0.645445  0.348679  1.144830  0.813443\n",
            "B  1.050832  0.031304  1.975615 -0.825111  1.364512\n",
            "C -1.539490  0.038691  0.613253 -1.923931 -0.392505\n",
            "\n",
            "          D         E         F         G         H       new\n",
            "A  0.694638  0.645445  0.348679  1.144830  0.813443  1.508081\n",
            "B  1.050832  0.031304  1.975615 -0.825111  1.364512  2.415344\n",
            "C -1.539490  0.038691  0.613253 -1.923931 -0.392505 -1.931996\n",
            "\n",
            "None\n",
            "          D         E         F         G         H\n",
            "A  0.694638  0.645445  0.348679  1.144830  0.813443\n",
            "B  1.050832  0.031304  1.975615 -0.825111  1.364512\n",
            "C -1.539490  0.038691  0.613253 -1.923931 -0.392505\n"
          ]
        }
      ]
    },
    {
      "cell_type": "code",
      "source": [
        "import pandas as pd\n",
        "import numpy as np\n",
        "from numpy.random import randn\n",
        "np.random.seed(352)\n",
        "A = pd.DataFrame(randn(3,5),['A','B','C'],['D','E','F','G','H'])\n",
        "print(A)\n",
        "A['new'] = A['D'] + A['H']\n",
        "print(A)\n",
        "C= A.drop('new',axis=1,inplace=False)\n",
        "print(C)\n",
        "print()\n",
        "print(A)"
      ],
      "metadata": {
        "colab": {
          "base_uri": "https://localhost:8080/"
        },
        "id": "queD493LTF5h",
        "outputId": "dc4ee463-553b-48e8-c0ff-a383d8877679"
      },
      "execution_count": null,
      "outputs": [
        {
          "output_type": "stream",
          "name": "stdout",
          "text": [
            "          D         E         F         G         H\n",
            "A  0.172620  1.043568 -0.327230 -0.219900 -0.220106\n",
            "B  0.287964  0.320568 -0.851416 -0.105339 -0.509963\n",
            "C  0.254748  1.653968 -0.485787 -2.643664  1.081499\n",
            "          D         E         F         G         H       new\n",
            "A  0.172620  1.043568 -0.327230 -0.219900 -0.220106 -0.047487\n",
            "B  0.287964  0.320568 -0.851416 -0.105339 -0.509963 -0.221999\n",
            "C  0.254748  1.653968 -0.485787 -2.643664  1.081499  1.336247\n",
            "          D         E         F         G         H\n",
            "A  0.172620  1.043568 -0.327230 -0.219900 -0.220106\n",
            "B  0.287964  0.320568 -0.851416 -0.105339 -0.509963\n",
            "C  0.254748  1.653968 -0.485787 -2.643664  1.081499\n",
            "\n",
            "          D         E         F         G         H       new\n",
            "A  0.172620  1.043568 -0.327230 -0.219900 -0.220106 -0.047487\n",
            "B  0.287964  0.320568 -0.851416 -0.105339 -0.509963 -0.221999\n",
            "C  0.254748  1.653968 -0.485787 -2.643664  1.081499  1.336247\n"
          ]
        }
      ]
    },
    {
      "cell_type": "code",
      "source": [
        "# if we want to access a particular row\n",
        "import pandas as pd\n",
        "import numpy as np\n",
        "from numpy.random import randn\n",
        "np.random.seed()\n",
        "A = pd.DataFrame(randn(3,5),['A','B','C'],['D','E','F','G','H'])\n",
        "print(A)\n",
        "print()\n",
        "print(A.loc['C'])\n",
        "# or\n",
        "print()\n",
        "print(A.iloc[2]) # Under iloc we give the numerical value of the row"
      ],
      "metadata": {
        "colab": {
          "base_uri": "https://localhost:8080/"
        },
        "id": "BKaSn1DdXTlm",
        "outputId": "18ced912-1252-49e1-d5b6-07eb38593b06"
      },
      "execution_count": null,
      "outputs": [
        {
          "output_type": "stream",
          "name": "stdout",
          "text": [
            "          D         E         F         G         H\n",
            "A -0.695886  1.811463 -0.448688 -1.445824  0.984291\n",
            "B -0.264981  0.600180 -1.151619  0.549343  1.857479\n",
            "C -1.313149 -1.781108 -0.579498 -0.893579 -0.597661\n",
            "\n",
            "D   -1.313149\n",
            "E   -1.781108\n",
            "F   -0.579498\n",
            "G   -0.893579\n",
            "H   -0.597661\n",
            "Name: C, dtype: float64\n",
            "\n",
            "D   -1.313149\n",
            "E   -1.781108\n",
            "F   -0.579498\n",
            "G   -0.893579\n",
            "H   -0.597661\n",
            "Name: C, dtype: float64\n"
          ]
        }
      ]
    },
    {
      "cell_type": "code",
      "source": [
        "# if we want the value at particular column and row i.e. a single value\n",
        "import pandas as pd\n",
        "import numpy as np\n",
        "from numpy.random import randn\n",
        "np.random.seed()\n",
        "A = pd.DataFrame(randn(3,5),['A','B','C'],['D','E','F','G','H'])\n",
        "print(A)\n",
        "print()\n",
        "print(A.loc['A','D'])"
      ],
      "metadata": {
        "colab": {
          "base_uri": "https://localhost:8080/"
        },
        "id": "paCFdJoUHDKn",
        "outputId": "8e3b1868-644f-418b-e845-e8909ab46a21"
      },
      "execution_count": null,
      "outputs": [
        {
          "output_type": "stream",
          "name": "stdout",
          "text": [
            "          D         E         F         G         H\n",
            "A -1.284484 -0.043437 -1.163816 -1.731851 -0.574228\n",
            "B  1.147191  0.757086 -0.708333 -1.606382  1.041256\n",
            "C  0.731089 -1.252210  0.301994 -0.411534  1.059004\n",
            "\n",
            "-1.28448445166849\n"
          ]
        }
      ]
    },
    {
      "cell_type": "code",
      "source": [
        "# if a subset is to be printed from the dataframe\n",
        "import pandas as pd\n",
        "import numpy as np\n",
        "from numpy.random import randn\n",
        "np.random.seed()\n",
        "A = pd.DataFrame(randn(3,5),['A','B','C'],['D','E','F','G','H'])\n",
        "print(A)\n",
        "B = A.loc[['A','B'],['D','F']]\n",
        "print(B)"
      ],
      "metadata": {
        "colab": {
          "base_uri": "https://localhost:8080/"
        },
        "id": "0SLpVfD9IAeI",
        "outputId": "55ee99b7-919b-4ab3-b234-eb2ca7a12bb2"
      },
      "execution_count": null,
      "outputs": [
        {
          "output_type": "stream",
          "name": "stdout",
          "text": [
            "          D         E         F         G         H\n",
            "A -0.045650  0.347405 -0.564642 -1.768740 -0.929820\n",
            "B -2.009829  0.396082 -1.348493  0.811948  0.760261\n",
            "C -0.111427  0.297976 -1.085838  0.333414 -0.433008\n",
            "          D         F\n",
            "A -0.045650 -0.564642\n",
            "B -2.009829 -1.348493\n"
          ]
        }
      ]
    },
    {
      "cell_type": "code",
      "source": [
        "# Shape parameter\n",
        "import pandas as pd\n",
        "import numpy as np\n",
        "from numpy.random import randn\n",
        "np.random.seed()\n",
        "A = pd.DataFrame(randn(3,5),['A','B','C'],['D','E','F','G','H'])\n",
        "A.shape"
      ],
      "metadata": {
        "colab": {
          "base_uri": "https://localhost:8080/"
        },
        "id": "kxCp9ItaWkQv",
        "outputId": "f9bd8ccb-94f0-465e-da51-120d868e5dc8"
      },
      "execution_count": null,
      "outputs": [
        {
          "output_type": "execute_result",
          "data": {
            "text/plain": [
              "(3, 5)"
            ]
          },
          "metadata": {},
          "execution_count": 3
        }
      ]
    },
    {
      "cell_type": "code",
      "source": [
        "# Conditional Selection"
      ],
      "metadata": {
        "id": "zrdA6F1J0UOC"
      },
      "execution_count": null,
      "outputs": []
    },
    {
      "cell_type": "code",
      "source": [
        "import pandas as pd\n",
        "import numpy as np\n",
        "from numpy.random import randn\n",
        "np.random.seed(23)\n",
        "A = pd.DataFrame(randn(3,5),['a','b','c'],['q','r','s','t','u'])\n",
        "print(A)\n",
        "print(A > 0) # return true where the condition is true and NaN when it is false\n",
        "# or we can also write the above statement as\n",
        "print()\n",
        "bool_df  = A>0\n",
        "print(bool_df)\n",
        "print()\n",
        "print(A[A>0]) # return the values which satisfy the condition and NaN for those that don't\n",
        "print()\n",
        "S=A[A['t']>0]['s']\n",
        "print(S)\n",
        "print()\n",
        "# we can also do the above same operation with multiple columns also\n",
        "T = A[A['t']>0][['s','u']]\n",
        "print(T)\n",
        "result=A[A['t']>0]\n",
        "print(result)\n",
        "print()\n",
        "print()\n",
        "print(result['s'])"
      ],
      "metadata": {
        "colab": {
          "base_uri": "https://localhost:8080/"
        },
        "id": "UowiphpW6s4t",
        "outputId": "7f60eb17-40ba-4c6d-e454-e69449523222"
      },
      "execution_count": null,
      "outputs": [
        {
          "output_type": "stream",
          "name": "stdout",
          "text": [
            "          q         r         s         t         u\n",
            "a  0.666988  0.025813 -0.777619  0.948634  0.701672\n",
            "b -1.051082 -0.367548 -1.137460 -1.322148  1.772258\n",
            "c -0.347459  0.670140  0.322272  0.060343 -1.043450\n",
            "       q      r      s      t      u\n",
            "a   True   True  False   True   True\n",
            "b  False  False  False  False   True\n",
            "c  False   True   True   True  False\n",
            "\n",
            "       q      r      s      t      u\n",
            "a   True   True  False   True   True\n",
            "b  False  False  False  False   True\n",
            "c  False   True   True   True  False\n",
            "\n",
            "          q         r         s         t         u\n",
            "a  0.666988  0.025813       NaN  0.948634  0.701672\n",
            "b       NaN       NaN       NaN       NaN  1.772258\n",
            "c       NaN  0.670140  0.322272  0.060343       NaN\n",
            "\n",
            "a   -0.777619\n",
            "c    0.322272\n",
            "Name: s, dtype: float64\n",
            "\n",
            "          s         u\n",
            "a -0.777619  0.701672\n",
            "c  0.322272 -1.043450\n",
            "          q         r         s         t         u\n",
            "a  0.666988  0.025813 -0.777619  0.948634  0.701672\n",
            "c -0.347459  0.670140  0.322272  0.060343 -1.043450\n",
            "\n",
            "\n",
            "a   -0.777619\n",
            "c    0.322272\n",
            "Name: s, dtype: float64\n"
          ]
        }
      ]
    },
    {
      "cell_type": "code",
      "source": [
        "# Anothr way to perform same operation\n",
        "\"\"\"T = A[A['t']>0][['s','u']]\n",
        "print(T)\"\"\"\n",
        "# we can also perform the above operation the other way\n",
        "import pandas as pd\n",
        "import numpy as np\n",
        "from numpy.random import randn\n",
        "np.random.seed(23)\n",
        "A = pd.DataFrame(randn(3,5),['a','b','c'],['q','r','s','t','u'])\n",
        "print(A)\n",
        "bool_A = A>0\n",
        "series = ['r','s']\n",
        "bool_series = A[bool_A]\n",
        "print(bool_series)\n",
        "print(bool_series[series])"
      ],
      "metadata": {
        "colab": {
          "base_uri": "https://localhost:8080/"
        },
        "id": "AIi8k3CLbwtW",
        "outputId": "77cb0e34-bfc1-4524-9b26-0b1c52741b7f"
      },
      "execution_count": null,
      "outputs": [
        {
          "output_type": "stream",
          "name": "stdout",
          "text": [
            "          q         r         s         t         u\n",
            "a  0.666988  0.025813 -0.777619  0.948634  0.701672\n",
            "b -1.051082 -0.367548 -1.137460 -1.322148  1.772258\n",
            "c -0.347459  0.670140  0.322272  0.060343 -1.043450\n",
            "          q         r         s         t         u\n",
            "a  0.666988  0.025813       NaN  0.948634  0.701672\n",
            "b       NaN       NaN       NaN       NaN  1.772258\n",
            "c       NaN  0.670140  0.322272  0.060343       NaN\n",
            "          r         s\n",
            "a  0.025813       NaN\n",
            "b       NaN       NaN\n",
            "c  0.670140  0.322272\n"
          ]
        }
      ]
    },
    {
      "cell_type": "code",
      "source": [
        "# we can also check more than one condition at one time using And and or operator\n",
        "import pandas as pd\n",
        "import numpy as np\n",
        "from numpy.random import randn\n",
        "np.random.seed(405)\n",
        "A=pd.DataFrame(randn(3,5),['A','B','C'],['D','E','F','G','H'])\n",
        "print(A)\n",
        "print()\n",
        "B = A[(A['E']>0) & (A['F']>0)] # and operator\n",
        "print(B)\n",
        "print()\n",
        "C = A[(A['E']>0) | (A['F']>0)] # or operator\n",
        "print(C)"
      ],
      "metadata": {
        "colab": {
          "base_uri": "https://localhost:8080/"
        },
        "id": "GCaBzfq44L2i",
        "outputId": "d3751b60-f6a4-4464-965a-ca8ca6adb747"
      },
      "execution_count": null,
      "outputs": [
        {
          "output_type": "stream",
          "name": "stdout",
          "text": [
            "          D         E         F         G         H\n",
            "A -1.058828  0.962639 -0.596105 -0.821484 -0.790039\n",
            "B  0.682657  1.103070  1.457715 -0.435065  0.096447\n",
            "C -1.527553 -0.683933 -0.896006 -0.502820  0.808904\n",
            "\n",
            "          D        E         F         G         H\n",
            "B  0.682657  1.10307  1.457715 -0.435065  0.096447\n",
            "\n",
            "          D         E         F         G         H\n",
            "A -1.058828  0.962639 -0.596105 -0.821484 -0.790039\n",
            "B  0.682657  1.103070  1.457715 -0.435065  0.096447\n"
          ]
        }
      ]
    },
    {
      "cell_type": "code",
      "source": [
        "# We can also reset the index\n",
        "import pandas as pd\n",
        "import numpy as np\n",
        "from numpy.random import randn\n",
        "np.random.seed(405)\n",
        "A=pd.DataFrame(randn(3,5),['A','B','C'],['D','E','F','G','H'])\n",
        "print(A)\n",
        "print()\n",
        "print()\n",
        "print(A.reset_index()) # but this will not affect the actual dataframe\n",
        "print()\n",
        "print(A)  # if we want to change the actual index also then inplace=True\n",
        "print()\n",
        "print(A.reset_index(inplace=False))"
      ],
      "metadata": {
        "colab": {
          "base_uri": "https://localhost:8080/"
        },
        "id": "BcDGc8eN7Y45",
        "outputId": "ce20dc6c-d51c-4cc0-d9ef-bddb072d35cd"
      },
      "execution_count": null,
      "outputs": [
        {
          "output_type": "stream",
          "name": "stdout",
          "text": [
            "          D         E         F         G         H\n",
            "A -1.058828  0.962639 -0.596105 -0.821484 -0.790039\n",
            "B  0.682657  1.103070  1.457715 -0.435065  0.096447\n",
            "C -1.527553 -0.683933 -0.896006 -0.502820  0.808904\n",
            "\n",
            "\n",
            "  index         D         E         F         G         H\n",
            "0     A -1.058828  0.962639 -0.596105 -0.821484 -0.790039\n",
            "1     B  0.682657  1.103070  1.457715 -0.435065  0.096447\n",
            "2     C -1.527553 -0.683933 -0.896006 -0.502820  0.808904\n",
            "\n",
            "          D         E         F         G         H\n",
            "A -1.058828  0.962639 -0.596105 -0.821484 -0.790039\n",
            "B  0.682657  1.103070  1.457715 -0.435065  0.096447\n",
            "C -1.527553 -0.683933 -0.896006 -0.502820  0.808904\n",
            "\n",
            "  index         D         E         F         G         H\n",
            "0     A -1.058828  0.962639 -0.596105 -0.821484 -0.790039\n",
            "1     B  0.682657  1.103070  1.457715 -0.435065  0.096447\n",
            "2     C -1.527553 -0.683933 -0.896006 -0.502820  0.808904\n"
          ]
        }
      ]
    },
    {
      "cell_type": "code",
      "source": [
        "# set index\n",
        "import pandas as pd\n",
        "import numpy as np\n",
        "from numpy.random import randn\n",
        "np.random.seed(405)\n",
        "A=pd.DataFrame(randn(3,5),['A','B','C'],['D','E','F','G','H'])\n",
        "print(A)\n",
        "print()\n",
        "States = 'na jfh dsnjv '.split()\n",
        "print(States)\n",
        "print()\n",
        "A['new'] = States\n",
        "print(A)\n",
        "print()\n",
        "print(A.set_index('new'))\n"
      ],
      "metadata": {
        "colab": {
          "base_uri": "https://localhost:8080/"
        },
        "id": "7sj6XoW-9QI6",
        "outputId": "3f670c87-6f77-4097-eb4f-6aed6832272d"
      },
      "execution_count": null,
      "outputs": [
        {
          "output_type": "stream",
          "name": "stdout",
          "text": [
            "          D         E         F         G         H\n",
            "A -1.058828  0.962639 -0.596105 -0.821484 -0.790039\n",
            "B  0.682657  1.103070  1.457715 -0.435065  0.096447\n",
            "C -1.527553 -0.683933 -0.896006 -0.502820  0.808904\n",
            "\n",
            "['na', 'jfh', 'dsnjv']\n",
            "\n",
            "          D         E         F         G         H    new\n",
            "A -1.058828  0.962639 -0.596105 -0.821484 -0.790039     na\n",
            "B  0.682657  1.103070  1.457715 -0.435065  0.096447    jfh\n",
            "C -1.527553 -0.683933 -0.896006 -0.502820  0.808904  dsnjv\n",
            "\n",
            "              D         E         F         G         H\n",
            "new                                                    \n",
            "na    -1.058828  0.962639 -0.596105 -0.821484 -0.790039\n",
            "jfh    0.682657  1.103070  1.457715 -0.435065  0.096447\n",
            "dsnjv -1.527553 -0.683933 -0.896006 -0.502820  0.808904\n"
          ]
        }
      ]
    },
    {
      "cell_type": "code",
      "source": [
        "# Index_hierarchy"
      ],
      "metadata": {
        "id": "CDGjLwsMGsZv"
      },
      "execution_count": null,
      "outputs": []
    },
    {
      "cell_type": "code",
      "source": [
        "import pandas as pd\n",
        "import numpy as np\n",
        "from numpy.random import randn\n",
        "A = pd.DataFrame(randn(3,5))\n",
        "print(A)"
      ],
      "metadata": {
        "colab": {
          "base_uri": "https://localhost:8080/"
        },
        "id": "cv7rMwyBGupj",
        "outputId": "9c271102-826b-4738-f2e7-2f49339945f3"
      },
      "execution_count": null,
      "outputs": [
        {
          "output_type": "stream",
          "name": "stdout",
          "text": [
            "          0         1         2         3         4\n",
            "0 -1.009942  0.441736  1.128877 -1.838068 -0.938769\n",
            "1 -0.201841  1.045371  0.538162  0.812119  0.241106\n",
            "2 -0.952510 -0.136267  1.267248  0.173634 -1.223255\n"
          ]
        }
      ]
    },
    {
      "cell_type": "code",
      "source": [
        "Outside=['G1','G1','G1','G2','G2','G2']\n",
        "Inside=(1,2,3,1,2,3)\n",
        "print(Outside)\n",
        "print(Inside)\n",
        "print()\n",
        "hier_1=list(zip(Outside,Inside))\n",
        "print(hier_1)\n",
        "print()\n",
        "hier_index=pd.MultiIndex.from_tuples(hier_1)\n",
        "print(hier_index)\n",
        "A=pd.DataFrame(randn(6,2),hier_index,(\"A\",\"B\"))\n",
        "print(A)"
      ],
      "metadata": {
        "colab": {
          "base_uri": "https://localhost:8080/"
        },
        "id": "UHOloooCB4nM",
        "outputId": "6b74c5b7-3373-4c32-f8db-5533bce0e01a"
      },
      "execution_count": null,
      "outputs": [
        {
          "output_type": "stream",
          "name": "stdout",
          "text": [
            "['G1', 'G1', 'G1', 'G2', 'G2', 'G2']\n",
            "(1, 2, 3, 1, 2, 3)\n",
            "\n",
            "[('G1', 1), ('G1', 2), ('G1', 3), ('G2', 1), ('G2', 2), ('G2', 3)]\n",
            "\n",
            "MultiIndex([('G1', 1),\n",
            "            ('G1', 2),\n",
            "            ('G1', 3),\n",
            "            ('G2', 1),\n",
            "            ('G2', 2),\n",
            "            ('G2', 3)],\n",
            "           )\n",
            "             A         B\n",
            "G1 1 -0.274561  0.170717\n",
            "   2 -1.314293 -0.558010\n",
            "   3 -0.124896 -0.446738\n",
            "G2 1  0.760933  0.639297\n",
            "   2 -0.509228  0.150114\n",
            "   3  2.140965  0.343649\n"
          ]
        }
      ]
    },
    {
      "cell_type": "code",
      "source": [
        "# Calling data from a multi level indexing\n",
        "outside =[\"G1\",\"G1\",\"G1\",\"G2\",\"G2\",\"G2\"]\n",
        "inside =[1,2,3,1,2,3]\n",
        "hier_1=list(zip(outside,inside))\n",
        "hier_index=pd.MultiIndex.from_tuples(hier_1)\n",
        "import pandas as pd\n",
        "import numpy as np\n",
        "from numpy.random import randn\n",
        "np.random.seed(302)\n",
        "A=pd.DataFrame(randn(6,3),hier_index,[\"A\",\"B\",\"C\"])\n",
        "print(A)\n",
        "print()\n",
        "# one single row ie the most outward\n",
        "B=A.loc[\"G1\"]\n",
        "print(B)\n",
        "print()\n",
        "# for going more inside\n",
        "C=A.loc[\"G1\"].loc[1]\n",
        "print(C)\n",
        "print()\n",
        "D=A.loc[\"G1\"].loc[1].loc[\"A\"]\n",
        "print(D)"
      ],
      "metadata": {
        "colab": {
          "base_uri": "https://localhost:8080/"
        },
        "id": "-LZFWuPEEmbH",
        "outputId": "d5a2e32f-577c-405e-ac25-8c6c2a490163"
      },
      "execution_count": null,
      "outputs": [
        {
          "output_type": "stream",
          "name": "stdout",
          "text": [
            "             A         B         C\n",
            "G1 1  1.090693  0.457297  1.242307\n",
            "   2 -0.820925  2.433195 -1.753825\n",
            "   3 -1.083163  0.134268 -0.467629\n",
            "G2 1 -0.666393 -0.534992 -0.071840\n",
            "   2  0.644213  0.516145  0.124934\n",
            "   3 -1.867127 -0.739112 -0.385037\n",
            "\n",
            "          A         B         C\n",
            "1  1.090693  0.457297  1.242307\n",
            "2 -0.820925  2.433195 -1.753825\n",
            "3 -1.083163  0.134268 -0.467629\n",
            "\n",
            "A    1.090693\n",
            "B    0.457297\n",
            "C    1.242307\n",
            "Name: 1, dtype: float64\n",
            "\n",
            "1.0906928020142175\n"
          ]
        }
      ]
    },
    {
      "cell_type": "code",
      "source": [
        "# giving names to index\n",
        "import pandas as pd\n",
        "import numpy as np\n",
        "from numpy.random import randn\n",
        "outside=[\"G1\",\"G1\",\"G1\",\"G2\",\"G2\",\"G2\"]\n",
        "inside=[1,2,3,1,2,3]\n",
        "hier_1=list(zip(outside,inside))\n",
        "hier_index=pd.MultiIndex.from_tuples(hier_1)\n",
        "A=pd.DataFrame(randn(6,2),hier_index,[\"A\",\"B\"])\n",
        "print(A)\n",
        "A.index.names=\"Groups\",\"Number\"\n",
        "print(A)"
      ],
      "metadata": {
        "colab": {
          "base_uri": "https://localhost:8080/"
        },
        "id": "iJh5xxdTH86U",
        "outputId": "4fa363ab-ccd2-4ff9-9d71-c4042047a5ac"
      },
      "execution_count": null,
      "outputs": [
        {
          "output_type": "stream",
          "name": "stdout",
          "text": [
            "             A         B\n",
            "G1 1 -0.188180  0.398109\n",
            "   2 -2.615048  0.209170\n",
            "   3  0.862083 -1.360515\n",
            "G2 1  0.251754 -0.441157\n",
            "   2 -0.099936  0.143989\n",
            "   3 -0.238717 -0.068009\n",
            "                      A         B\n",
            "Groups Number                    \n",
            "G1     1      -0.188180  0.398109\n",
            "       2      -2.615048  0.209170\n",
            "       3       0.862083 -1.360515\n",
            "G2     1       0.251754 -0.441157\n",
            "       2      -0.099936  0.143989\n",
            "       3      -0.238717 -0.068009\n"
          ]
        }
      ]
    },
    {
      "cell_type": "code",
      "source": [
        "# Cross section\n",
        "import pandas as pd\n",
        "import numpy as np\n",
        "from numpy.random import randn\n",
        "outside=[\"G1\",\"G1\",\"G1\",\"G2\",\"G2\",\"G2\"]\n",
        "inside=[1,2,3,1,2,3]\n",
        "hier_1=list(zip(outside,inside))\n",
        "hier_index=pd.MultiIndex.from_tuples(hier_1)\n",
        "A=pd.DataFrame(randn(6,2),hier_index,[\"A\",\"B\"])\n",
        "print(A)\n",
        "A.index.names=\"Groups\",\"Number\"\n",
        "print(A)\n",
        "print(A.xs(\"G1\"))\n",
        "A.xs(1,level=\"Number\")"
      ],
      "metadata": {
        "colab": {
          "base_uri": "https://localhost:8080/",
          "height": 490
        },
        "id": "vrwkYFugRksP",
        "outputId": "4a3e837e-411c-4d06-ec5e-7f104e46cb52"
      },
      "execution_count": null,
      "outputs": [
        {
          "output_type": "stream",
          "name": "stdout",
          "text": [
            "             A         B\n",
            "G1 1  0.867055  0.350420\n",
            "   2 -0.487972  1.358266\n",
            "   3 -0.998113  0.862722\n",
            "G2 1 -2.611000  1.794214\n",
            "   2 -0.323552  1.813543\n",
            "   3  0.320166 -0.118819\n",
            "                      A         B\n",
            "Groups Number                    \n",
            "G1     1       0.867055  0.350420\n",
            "       2      -0.487972  1.358266\n",
            "       3      -0.998113  0.862722\n",
            "G2     1      -2.611000  1.794214\n",
            "       2      -0.323552  1.813543\n",
            "       3       0.320166 -0.118819\n",
            "               A         B\n",
            "Number                    \n",
            "1       0.867055  0.350420\n",
            "2      -0.487972  1.358266\n",
            "3      -0.998113  0.862722\n"
          ]
        },
        {
          "output_type": "execute_result",
          "data": {
            "text/plain": [
              "               A         B\n",
              "Groups                    \n",
              "G1      0.867055  0.350420\n",
              "G2     -2.611000  1.794214"
            ],
            "text/html": [
              "\n",
              "  <div id=\"df-06ad5658-407a-47a5-a890-a0e308644036\" class=\"colab-df-container\">\n",
              "    <div>\n",
              "<style scoped>\n",
              "    .dataframe tbody tr th:only-of-type {\n",
              "        vertical-align: middle;\n",
              "    }\n",
              "\n",
              "    .dataframe tbody tr th {\n",
              "        vertical-align: top;\n",
              "    }\n",
              "\n",
              "    .dataframe thead th {\n",
              "        text-align: right;\n",
              "    }\n",
              "</style>\n",
              "<table border=\"1\" class=\"dataframe\">\n",
              "  <thead>\n",
              "    <tr style=\"text-align: right;\">\n",
              "      <th></th>\n",
              "      <th>A</th>\n",
              "      <th>B</th>\n",
              "    </tr>\n",
              "    <tr>\n",
              "      <th>Groups</th>\n",
              "      <th></th>\n",
              "      <th></th>\n",
              "    </tr>\n",
              "  </thead>\n",
              "  <tbody>\n",
              "    <tr>\n",
              "      <th>G1</th>\n",
              "      <td>0.867055</td>\n",
              "      <td>0.350420</td>\n",
              "    </tr>\n",
              "    <tr>\n",
              "      <th>G2</th>\n",
              "      <td>-2.611000</td>\n",
              "      <td>1.794214</td>\n",
              "    </tr>\n",
              "  </tbody>\n",
              "</table>\n",
              "</div>\n",
              "    <div class=\"colab-df-buttons\">\n",
              "\n",
              "  <div class=\"colab-df-container\">\n",
              "    <button class=\"colab-df-convert\" onclick=\"convertToInteractive('df-06ad5658-407a-47a5-a890-a0e308644036')\"\n",
              "            title=\"Convert this dataframe to an interactive table.\"\n",
              "            style=\"display:none;\">\n",
              "\n",
              "  <svg xmlns=\"http://www.w3.org/2000/svg\" height=\"24px\" viewBox=\"0 -960 960 960\">\n",
              "    <path d=\"M120-120v-720h720v720H120Zm60-500h600v-160H180v160Zm220 220h160v-160H400v160Zm0 220h160v-160H400v160ZM180-400h160v-160H180v160Zm440 0h160v-160H620v160ZM180-180h160v-160H180v160Zm440 0h160v-160H620v160Z\"/>\n",
              "  </svg>\n",
              "    </button>\n",
              "\n",
              "  <style>\n",
              "    .colab-df-container {\n",
              "      display:flex;\n",
              "      gap: 12px;\n",
              "    }\n",
              "\n",
              "    .colab-df-convert {\n",
              "      background-color: #E8F0FE;\n",
              "      border: none;\n",
              "      border-radius: 50%;\n",
              "      cursor: pointer;\n",
              "      display: none;\n",
              "      fill: #1967D2;\n",
              "      height: 32px;\n",
              "      padding: 0 0 0 0;\n",
              "      width: 32px;\n",
              "    }\n",
              "\n",
              "    .colab-df-convert:hover {\n",
              "      background-color: #E2EBFA;\n",
              "      box-shadow: 0px 1px 2px rgba(60, 64, 67, 0.3), 0px 1px 3px 1px rgba(60, 64, 67, 0.15);\n",
              "      fill: #174EA6;\n",
              "    }\n",
              "\n",
              "    .colab-df-buttons div {\n",
              "      margin-bottom: 4px;\n",
              "    }\n",
              "\n",
              "    [theme=dark] .colab-df-convert {\n",
              "      background-color: #3B4455;\n",
              "      fill: #D2E3FC;\n",
              "    }\n",
              "\n",
              "    [theme=dark] .colab-df-convert:hover {\n",
              "      background-color: #434B5C;\n",
              "      box-shadow: 0px 1px 3px 1px rgba(0, 0, 0, 0.15);\n",
              "      filter: drop-shadow(0px 1px 2px rgba(0, 0, 0, 0.3));\n",
              "      fill: #FFFFFF;\n",
              "    }\n",
              "  </style>\n",
              "\n",
              "    <script>\n",
              "      const buttonEl =\n",
              "        document.querySelector('#df-06ad5658-407a-47a5-a890-a0e308644036 button.colab-df-convert');\n",
              "      buttonEl.style.display =\n",
              "        google.colab.kernel.accessAllowed ? 'block' : 'none';\n",
              "\n",
              "      async function convertToInteractive(key) {\n",
              "        const element = document.querySelector('#df-06ad5658-407a-47a5-a890-a0e308644036');\n",
              "        const dataTable =\n",
              "          await google.colab.kernel.invokeFunction('convertToInteractive',\n",
              "                                                    [key], {});\n",
              "        if (!dataTable) return;\n",
              "\n",
              "        const docLinkHtml = 'Like what you see? Visit the ' +\n",
              "          '<a target=\"_blank\" href=https://colab.research.google.com/notebooks/data_table.ipynb>data table notebook</a>'\n",
              "          + ' to learn more about interactive tables.';\n",
              "        element.innerHTML = '';\n",
              "        dataTable['output_type'] = 'display_data';\n",
              "        await google.colab.output.renderOutput(dataTable, element);\n",
              "        const docLink = document.createElement('div');\n",
              "        docLink.innerHTML = docLinkHtml;\n",
              "        element.appendChild(docLink);\n",
              "      }\n",
              "    </script>\n",
              "  </div>\n",
              "\n",
              "\n",
              "<div id=\"df-f528be86-e5a5-43ae-8f7c-60bf5ded32eb\">\n",
              "  <button class=\"colab-df-quickchart\" onclick=\"quickchart('df-f528be86-e5a5-43ae-8f7c-60bf5ded32eb')\"\n",
              "            title=\"Suggest charts\"\n",
              "            style=\"display:none;\">\n",
              "\n",
              "<svg xmlns=\"http://www.w3.org/2000/svg\" height=\"24px\"viewBox=\"0 0 24 24\"\n",
              "     width=\"24px\">\n",
              "    <g>\n",
              "        <path d=\"M19 3H5c-1.1 0-2 .9-2 2v14c0 1.1.9 2 2 2h14c1.1 0 2-.9 2-2V5c0-1.1-.9-2-2-2zM9 17H7v-7h2v7zm4 0h-2V7h2v10zm4 0h-2v-4h2v4z\"/>\n",
              "    </g>\n",
              "</svg>\n",
              "  </button>\n",
              "\n",
              "<style>\n",
              "  .colab-df-quickchart {\n",
              "      --bg-color: #E8F0FE;\n",
              "      --fill-color: #1967D2;\n",
              "      --hover-bg-color: #E2EBFA;\n",
              "      --hover-fill-color: #174EA6;\n",
              "      --disabled-fill-color: #AAA;\n",
              "      --disabled-bg-color: #DDD;\n",
              "  }\n",
              "\n",
              "  [theme=dark] .colab-df-quickchart {\n",
              "      --bg-color: #3B4455;\n",
              "      --fill-color: #D2E3FC;\n",
              "      --hover-bg-color: #434B5C;\n",
              "      --hover-fill-color: #FFFFFF;\n",
              "      --disabled-bg-color: #3B4455;\n",
              "      --disabled-fill-color: #666;\n",
              "  }\n",
              "\n",
              "  .colab-df-quickchart {\n",
              "    background-color: var(--bg-color);\n",
              "    border: none;\n",
              "    border-radius: 50%;\n",
              "    cursor: pointer;\n",
              "    display: none;\n",
              "    fill: var(--fill-color);\n",
              "    height: 32px;\n",
              "    padding: 0;\n",
              "    width: 32px;\n",
              "  }\n",
              "\n",
              "  .colab-df-quickchart:hover {\n",
              "    background-color: var(--hover-bg-color);\n",
              "    box-shadow: 0 1px 2px rgba(60, 64, 67, 0.3), 0 1px 3px 1px rgba(60, 64, 67, 0.15);\n",
              "    fill: var(--button-hover-fill-color);\n",
              "  }\n",
              "\n",
              "  .colab-df-quickchart-complete:disabled,\n",
              "  .colab-df-quickchart-complete:disabled:hover {\n",
              "    background-color: var(--disabled-bg-color);\n",
              "    fill: var(--disabled-fill-color);\n",
              "    box-shadow: none;\n",
              "  }\n",
              "\n",
              "  .colab-df-spinner {\n",
              "    border: 2px solid var(--fill-color);\n",
              "    border-color: transparent;\n",
              "    border-bottom-color: var(--fill-color);\n",
              "    animation:\n",
              "      spin 1s steps(1) infinite;\n",
              "  }\n",
              "\n",
              "  @keyframes spin {\n",
              "    0% {\n",
              "      border-color: transparent;\n",
              "      border-bottom-color: var(--fill-color);\n",
              "      border-left-color: var(--fill-color);\n",
              "    }\n",
              "    20% {\n",
              "      border-color: transparent;\n",
              "      border-left-color: var(--fill-color);\n",
              "      border-top-color: var(--fill-color);\n",
              "    }\n",
              "    30% {\n",
              "      border-color: transparent;\n",
              "      border-left-color: var(--fill-color);\n",
              "      border-top-color: var(--fill-color);\n",
              "      border-right-color: var(--fill-color);\n",
              "    }\n",
              "    40% {\n",
              "      border-color: transparent;\n",
              "      border-right-color: var(--fill-color);\n",
              "      border-top-color: var(--fill-color);\n",
              "    }\n",
              "    60% {\n",
              "      border-color: transparent;\n",
              "      border-right-color: var(--fill-color);\n",
              "    }\n",
              "    80% {\n",
              "      border-color: transparent;\n",
              "      border-right-color: var(--fill-color);\n",
              "      border-bottom-color: var(--fill-color);\n",
              "    }\n",
              "    90% {\n",
              "      border-color: transparent;\n",
              "      border-bottom-color: var(--fill-color);\n",
              "    }\n",
              "  }\n",
              "</style>\n",
              "\n",
              "  <script>\n",
              "    async function quickchart(key) {\n",
              "      const quickchartButtonEl =\n",
              "        document.querySelector('#' + key + ' button');\n",
              "      quickchartButtonEl.disabled = true;  // To prevent multiple clicks.\n",
              "      quickchartButtonEl.classList.add('colab-df-spinner');\n",
              "      try {\n",
              "        const charts = await google.colab.kernel.invokeFunction(\n",
              "            'suggestCharts', [key], {});\n",
              "      } catch (error) {\n",
              "        console.error('Error during call to suggestCharts:', error);\n",
              "      }\n",
              "      quickchartButtonEl.classList.remove('colab-df-spinner');\n",
              "      quickchartButtonEl.classList.add('colab-df-quickchart-complete');\n",
              "    }\n",
              "    (() => {\n",
              "      let quickchartButtonEl =\n",
              "        document.querySelector('#df-f528be86-e5a5-43ae-8f7c-60bf5ded32eb button');\n",
              "      quickchartButtonEl.style.display =\n",
              "        google.colab.kernel.accessAllowed ? 'block' : 'none';\n",
              "    })();\n",
              "  </script>\n",
              "</div>\n",
              "\n",
              "    </div>\n",
              "  </div>\n"
            ]
          },
          "metadata": {},
          "execution_count": 6
        }
      ]
    },
    {
      "cell_type": "code",
      "source": [
        "# Missing Data"
      ],
      "metadata": {
        "id": "Nibx92LbbY7g"
      },
      "execution_count": null,
      "outputs": []
    },
    {
      "cell_type": "code",
      "source": [
        "import pandas as pd\n",
        "dict={\"X\":[1,2,np.nan],\"Y\":[4,np.nan,np.nan],\"Z\":[1,2,3]}\n",
        "A=pd.DataFrame(dict)\n",
        "print(A)\n",
        "print()\n",
        "print()\n",
        "B=A.dropna() # dropna function will return only those rows not having nan\n",
        "print(B)\n",
        "print()\n",
        "print()\n",
        "C=A.dropna(axis=1)\n",
        "print(C)\n",
        "print()\n",
        "print()\n",
        "# Threshold\n",
        "D=A.dropna(thresh=2) # thres ki value agr 2 hai toh mtlb atleat 2 values toh essi honi chayiye row ke ander jo nan na ho\n",
        "print(D)\n",
        "print()\n",
        "print()\n",
        "# We can also fill a value\n",
        "E=A.fillna(value=\"Fill value\")\n",
        "print(E)\n",
        "print()\n",
        "print()\n",
        "# If wanna fill different values\n",
        "F=A[\"X\"].fillna(value=(A[\"X\"].mean()))\n",
        "print(F)"
      ],
      "metadata": {
        "colab": {
          "base_uri": "https://localhost:8080/"
        },
        "id": "e5nHQ0BKVi8S",
        "outputId": "eedbfdc3-27ec-4932-d874-2dd6973e0ae8"
      },
      "execution_count": null,
      "outputs": [
        {
          "output_type": "stream",
          "name": "stdout",
          "text": [
            "     X    Y  Z\n",
            "0  1.0  4.0  1\n",
            "1  2.0  NaN  2\n",
            "2  NaN  NaN  3\n",
            "\n",
            "\n",
            "     X    Y  Z\n",
            "0  1.0  4.0  1\n",
            "\n",
            "\n",
            "   Z\n",
            "0  1\n",
            "1  2\n",
            "2  3\n",
            "\n",
            "\n",
            "     X    Y  Z\n",
            "0  1.0  4.0  1\n",
            "1  2.0  NaN  2\n",
            "\n",
            "\n",
            "            X           Y  Z\n",
            "0         1.0         4.0  1\n",
            "1         2.0  Fill value  2\n",
            "2  Fill value  Fill value  3\n",
            "\n",
            "\n",
            "0    1.0\n",
            "1    2.0\n",
            "2    1.5\n",
            "Name: X, dtype: float64\n"
          ]
        }
      ]
    },
    {
      "cell_type": "code",
      "source": [
        "# Group-by (It allows to group by rows based off a column and perform any operation)"
      ],
      "metadata": {
        "id": "ffo7HG80ZA1i"
      },
      "execution_count": null,
      "outputs": []
    },
    {
      "cell_type": "code",
      "source": [
        "import pandas as pd\n",
        "dict={\"Z\":[\"Google\",\"Google\",\"Microsoft\",\"Microsoft\"],\"X\":[1,2,3,2],\"Y\":[\"S\",\"S\",\"T\",\"T\"]}\n",
        "A=pd.DataFrame(dict)\n",
        "print(A)\n",
        "print()\n",
        "print()\n",
        "B=A.groupby(\"Z\")\n",
        "print(B)\n",
        "C=B.mean()\n",
        "print(C)\n",
        "print()\n",
        "print()\n",
        "D=B.sum()\n",
        "print(D)\n",
        "print()\n",
        "print()\n",
        "# Similarly we can perform any other operation also\n",
        "# If we want to get any particular value\n",
        "E=B.sum().loc[\"Microsoft\"]\n",
        "print(E)"
      ],
      "metadata": {
        "colab": {
          "base_uri": "https://localhost:8080/"
        },
        "id": "nlqENIHcaJ4-",
        "outputId": "7786054a-44db-472f-ee88-700cd19a2009"
      },
      "execution_count": null,
      "outputs": [
        {
          "output_type": "stream",
          "name": "stdout",
          "text": [
            "           Z  X  Y\n",
            "0     Google  1  S\n",
            "1     Google  2  S\n",
            "2  Microsoft  3  T\n",
            "3  Microsoft  2  T\n",
            "\n",
            "\n",
            "<pandas.core.groupby.generic.DataFrameGroupBy object at 0x7d724206ce50>\n",
            "             X\n",
            "Z             \n",
            "Google     1.5\n",
            "Microsoft  2.5\n",
            "\n",
            "\n",
            "           X\n",
            "Z           \n",
            "Google     3\n",
            "Microsoft  5\n",
            "\n",
            "\n",
            "X    5\n",
            "Name: Microsoft, dtype: int64\n"
          ]
        },
        {
          "output_type": "stream",
          "name": "stderr",
          "text": [
            "<ipython-input-7-cf921be4c20f>:9: FutureWarning: The default value of numeric_only in DataFrameGroupBy.mean is deprecated. In a future version, numeric_only will default to False. Either specify numeric_only or select only columns which should be valid for the function.\n",
            "  C=B.mean()\n",
            "<ipython-input-7-cf921be4c20f>:13: FutureWarning: The default value of numeric_only in DataFrameGroupBy.sum is deprecated. In a future version, numeric_only will default to False. Either specify numeric_only or select only columns which should be valid for the function.\n",
            "  D=B.sum()\n",
            "<ipython-input-7-cf921be4c20f>:19: FutureWarning: The default value of numeric_only in DataFrameGroupBy.sum is deprecated. In a future version, numeric_only will default to False. Either specify numeric_only or select only columns which should be valid for the function.\n",
            "  E=B.sum().loc[\"Microsoft\"]\n"
          ]
        }
      ]
    },
    {
      "cell_type": "code",
      "source": [
        "# The operation we performed above can be performed in a single line only\n",
        "import pandas as pd\n",
        "A=pd.DataFrame({\"Fruits\":[\"Apple\",\"Apple\",\"Mango\",\"Mango\",\"Banana\",\"Banana\"],\"Price\":[42,56,79,94,100,1000]})\n",
        "print(A)\n",
        "print()\n",
        "print()\n",
        "B=A.groupby(\"Fruits\").sum().loc[\"Mango\"]\n",
        "print(B)"
      ],
      "metadata": {
        "colab": {
          "base_uri": "https://localhost:8080/"
        },
        "id": "Rrg48SJBb2d5",
        "outputId": "84edeff2-068a-4477-d61b-ad012dc70c97"
      },
      "execution_count": null,
      "outputs": [
        {
          "output_type": "stream",
          "name": "stdout",
          "text": [
            "   Fruits  Price\n",
            "0   Apple     42\n",
            "1   Apple     56\n",
            "2   Mango     79\n",
            "3   Mango     94\n",
            "4  Banana    100\n",
            "5  Banana   1000\n",
            "\n",
            "\n",
            "Price    173\n",
            "Name: Mango, dtype: int64\n"
          ]
        }
      ]
    },
    {
      "cell_type": "code",
      "source": [
        "# Someother methods of groupby\n",
        "import pandas as pd\n",
        "A=pd.DataFrame({\"Fruits\":[\"Apple\",\"Apple\",\"Apple\",\"Mango\",\"Mango\",\"Banana\",\"Banana\"],\"Price\":[42,56,65,79,94,100,1000]})\n",
        "# Count method to count how many instances are there like for apple there are two and likewise\n",
        "B=A.groupby(\"Fruits\").count()\n",
        "print(B)\n",
        "print()\n",
        "print()\n",
        "C=A.groupby(\"Fruits\").max()\n",
        "print(C)\n",
        "print()\n",
        "print()\n",
        "D=A.groupby(\"Fruits\").min()\n",
        "print(D)\n",
        "print()\n",
        "print()\n",
        "E=A.groupby(\"Fruits\").describe()\n",
        "print(E)\n",
        "print()\n",
        "print()\n",
        "F=A.groupby(\"Fruits\").describe().transpose()\n",
        "print(F)"
      ],
      "metadata": {
        "colab": {
          "base_uri": "https://localhost:8080/"
        },
        "id": "odKWM4o6hPvK",
        "outputId": "6e77ccd8-5a8e-4749-b4ec-aaea40c480ff"
      },
      "execution_count": null,
      "outputs": [
        {
          "output_type": "stream",
          "name": "stdout",
          "text": [
            "        Price\n",
            "Fruits       \n",
            "Apple       3\n",
            "Banana      2\n",
            "Mango       2\n",
            "\n",
            "\n",
            "        Price\n",
            "Fruits       \n",
            "Apple      65\n",
            "Banana   1000\n",
            "Mango      94\n",
            "\n",
            "\n",
            "        Price\n",
            "Fruits       \n",
            "Apple      42\n",
            "Banana    100\n",
            "Mango      79\n",
            "\n",
            "\n",
            "       Price                                                              \n",
            "       count        mean         std    min     25%    50%     75%     max\n",
            "Fruits                                                                    \n",
            "Apple    3.0   54.333333   11.590226   42.0   49.00   56.0   60.50    65.0\n",
            "Banana   2.0  550.000000  636.396103  100.0  325.00  550.0  775.00  1000.0\n",
            "Mango    2.0   86.500000   10.606602   79.0   82.75   86.5   90.25    94.0\n",
            "\n",
            "\n",
            "Fruits           Apple       Banana      Mango\n",
            "Price count   3.000000     2.000000   2.000000\n",
            "      mean   54.333333   550.000000  86.500000\n",
            "      std    11.590226   636.396103  10.606602\n",
            "      min    42.000000   100.000000  79.000000\n",
            "      25%    49.000000   325.000000  82.750000\n",
            "      50%    56.000000   550.000000  86.500000\n",
            "      75%    60.500000   775.000000  90.250000\n",
            "      max    65.000000  1000.000000  94.000000\n"
          ]
        }
      ]
    },
    {
      "cell_type": "code",
      "source": [
        "# Merging , joining and concatenating Data-Frames"
      ],
      "metadata": {
        "id": "USqKFXEjjAaS"
      },
      "execution_count": null,
      "outputs": []
    },
    {
      "cell_type": "code",
      "source": [
        "#Concatenation\n",
        "import pandas as pd\n",
        "A=pd.DataFrame({\"Fruits\":[\"Apple\",\"Apple\",\"Mango\",\"Mango\",\"Banana\",\"Banana\"],\"Price\":[42,56,79,94,100,1000]},index=[1,2,3,4,5,6])\n",
        "B=pd.DataFrame({\"Fruits\":[\"Google\",\"Google\",\"Microsoft\",\"Microsoft\",\"Amazon\",\"Amazon\"],\"Price\":[1,2,3,2,5,7]},index=[7,8,9,10,11,12])\n",
        "print(A)\n",
        "print()\n",
        "print()\n",
        "B=pd.concat([A,B],axis=0)\n",
        "print(B)\n",
        "print()\n",
        "print()\n",
        "C=pd.concat([A,B],axis=1)\n",
        "print(C)"
      ],
      "metadata": {
        "colab": {
          "base_uri": "https://localhost:8080/"
        },
        "id": "D-QjQBGej8s8",
        "outputId": "b0bc5354-7888-450e-a6ad-b51cc00300f9"
      },
      "execution_count": null,
      "outputs": [
        {
          "output_type": "stream",
          "name": "stdout",
          "text": [
            "   Fruits  Price\n",
            "1   Apple     42\n",
            "2   Apple     56\n",
            "3   Mango     79\n",
            "4   Mango     94\n",
            "5  Banana    100\n",
            "6  Banana   1000\n",
            "\n",
            "\n",
            "       Fruits  Price\n",
            "1       Apple     42\n",
            "2       Apple     56\n",
            "3       Mango     79\n",
            "4       Mango     94\n",
            "5      Banana    100\n",
            "6      Banana   1000\n",
            "7      Google      1\n",
            "8      Google      2\n",
            "9   Microsoft      3\n",
            "10  Microsoft      2\n",
            "11     Amazon      5\n",
            "12     Amazon      7\n",
            "\n",
            "\n",
            "    Fruits   Price     Fruits  Price\n",
            "1    Apple    42.0      Apple     42\n",
            "2    Apple    56.0      Apple     56\n",
            "3    Mango    79.0      Mango     79\n",
            "4    Mango    94.0      Mango     94\n",
            "5   Banana   100.0     Banana    100\n",
            "6   Banana  1000.0     Banana   1000\n",
            "7      NaN     NaN     Google      1\n",
            "8      NaN     NaN     Google      2\n",
            "9      NaN     NaN  Microsoft      3\n",
            "10     NaN     NaN  Microsoft      2\n",
            "11     NaN     NaN     Amazon      5\n",
            "12     NaN     NaN     Amazon      7\n"
          ]
        }
      ]
    },
    {
      "cell_type": "code",
      "source": [
        "# Merging\n",
        "import pandas as pd\n",
        "A=pd.DataFrame({\"Fruits\":[\"Apple\",\"Apple\",\"Mango\",\"Mango\",\"Banana\",\"Banana\"],\"Price\":[42,56,79,94,100,1000],\"key1\":[\"k0\",\"k1\",\"k2\",\"k3\",\"k4\",\"k6\"],\"key2\":[\"k7\",\"k8\",\"k9\",\"k10\",\"k11\",\"k12\"]},index=[1,2,3,4,5,6])\n",
        "B=pd.DataFrame({\"Fruits\":[\"Google\",\"Google\",\"Microsoft\",\"Microsoft\",\"Amazon\",\"Amazon\"],\"Price\":[1,2,3,2,5,7],\"key1\":[\"k0\",\"k1\",\"k2\",\"k3\",\"k4\",\"k9\"],\"key2\":[\"k7\",\"k8\",\"k9\",\"k10\",\"k11\",\"k12\"]},index=[7,8,9,10,11,12])\n",
        "C=pd.merge(A,B,how='inner',on='key1') # how=inner performs operations like intersection\n",
        "print(C)\n",
        "print()\n",
        "print()\n",
        "D=pd.merge(A,B,how='outer',on='key1') # how=outer performs operations like union\n",
        "print(D)\n",
        "print()\n",
        "print()\n",
        "E=pd.merge(A,B,how='left',on='key1') # how=left performs opertions like left-right\n",
        "print(E)\n",
        "print()\n",
        "print()\n",
        "F=pd.merge(A,B,how='right',on='key1') # how=right performs opertions like right-left\n",
        "print(F)\n",
        "print()\n",
        "print()\n",
        "# We can also specify two key inside on method\n",
        "G=pd.merge(A,B,on=['key1','key2'])\n",
        "print(G)"
      ],
      "metadata": {
        "colab": {
          "base_uri": "https://localhost:8080/"
        },
        "id": "MLeKPyXYrjCu",
        "outputId": "6b6f4aab-23ff-49f2-8252-e78d36062643"
      },
      "execution_count": null,
      "outputs": [
        {
          "output_type": "stream",
          "name": "stdout",
          "text": [
            "  Fruits_x  Price_x key1 key2_x   Fruits_y  Price_y key2_y\n",
            "0    Apple       42   k0     k7     Google        1     k7\n",
            "1    Apple       56   k1     k8     Google        2     k8\n",
            "2    Mango       79   k2     k9  Microsoft        3     k9\n",
            "3    Mango       94   k3    k10  Microsoft        2    k10\n",
            "4   Banana      100   k4    k11     Amazon        5    k11\n",
            "\n",
            "\n",
            "  Fruits_x  Price_x key1 key2_x   Fruits_y  Price_y key2_y\n",
            "0    Apple     42.0   k0     k7     Google      1.0     k7\n",
            "1    Apple     56.0   k1     k8     Google      2.0     k8\n",
            "2    Mango     79.0   k2     k9  Microsoft      3.0     k9\n",
            "3    Mango     94.0   k3    k10  Microsoft      2.0    k10\n",
            "4   Banana    100.0   k4    k11     Amazon      5.0    k11\n",
            "5   Banana   1000.0   k6    k12        NaN      NaN    NaN\n",
            "6      NaN      NaN   k9    NaN     Amazon      7.0    k12\n",
            "\n",
            "\n",
            "  Fruits_x  Price_x key1 key2_x   Fruits_y  Price_y key2_y\n",
            "0    Apple       42   k0     k7     Google      1.0     k7\n",
            "1    Apple       56   k1     k8     Google      2.0     k8\n",
            "2    Mango       79   k2     k9  Microsoft      3.0     k9\n",
            "3    Mango       94   k3    k10  Microsoft      2.0    k10\n",
            "4   Banana      100   k4    k11     Amazon      5.0    k11\n",
            "5   Banana     1000   k6    k12        NaN      NaN    NaN\n",
            "\n",
            "\n",
            "  Fruits_x  Price_x key1 key2_x   Fruits_y  Price_y key2_y\n",
            "0    Apple     42.0   k0     k7     Google        1     k7\n",
            "1    Apple     56.0   k1     k8     Google        2     k8\n",
            "2    Mango     79.0   k2     k9  Microsoft        3     k9\n",
            "3    Mango     94.0   k3    k10  Microsoft        2    k10\n",
            "4   Banana    100.0   k4    k11     Amazon        5    k11\n",
            "5      NaN      NaN   k9    NaN     Amazon        7    k12\n",
            "\n",
            "\n",
            "  Fruits_x  Price_x key1 key2   Fruits_y  Price_y\n",
            "0    Apple       42   k0   k7     Google        1\n",
            "1    Apple       56   k1   k8     Google        2\n",
            "2    Mango       79   k2   k9  Microsoft        3\n",
            "3    Mango       94   k3  k10  Microsoft        2\n",
            "4   Banana      100   k4  k11     Amazon        5\n"
          ]
        }
      ]
    },
    {
      "cell_type": "code",
      "source": [
        "# Joining\n",
        "import pandas as pd\n",
        "A=pd.DataFrame({\"Fruits\":[\"Apple\",\"Apple\",\"Mango\",\"Mango\",\"Banana\",\"Banana\"],\"Price\":[42,56,79,94,100,1000],\"key\":[\"k0\",\"k1\",\"k2\",\"k3\",\"k4\",\"k5\"]})\n",
        "B=pd.DataFrame({\"Fruits\":[\"Google\",\"Google\",\"Microsoft\",\"Microsoft\",\"Amazon\",\"Amazon\"],\"Price\":[1,2,3,2,5,7],\"key\":[\"k0\",\"k1\",\"k2\",\"k3\",\"k4\",\"k6\"]})\n",
        "A.set_index('key',inplace=True)\n",
        "B.set_index('key',inplace=True)\n",
        "C=A.join(B,lsuffix='B',rsuffix='A',how='inner',on='key')\n",
        "print(C)"
      ],
      "metadata": {
        "colab": {
          "base_uri": "https://localhost:8080/"
        },
        "id": "T24bR8XjxZfF",
        "outputId": "146ceb27-5b9d-4b01-d4de-fd773b8d0606"
      },
      "execution_count": null,
      "outputs": [
        {
          "output_type": "stream",
          "name": "stdout",
          "text": [
            "    FruitsB  PriceB    FruitsA  PriceA\n",
            "key                                   \n",
            "k0    Apple      42     Google       1\n",
            "k1    Apple      56     Google       2\n",
            "k2    Mango      79  Microsoft       3\n",
            "k3    Mango      94  Microsoft       2\n",
            "k4   Banana     100     Amazon       5\n"
          ]
        }
      ]
    },
    {
      "cell_type": "code",
      "source": [
        "import pandas as pd\n",
        "A=pd.DataFrame({\"Fruits\":[\"Apple\",\"Apple\",\"Mango\",\"Mango\",\"Banana\",\"Banana\"],\"Price\":[42,56,79,94,100,1000],\"key1\":[\"k0\",\"k1\",\"k2\",\"k3\",\"k4\",\"k6\"],\"key2\":[\"k7\",\"k8\",\"k9\",\"k10\",\"k11\",\"k12\"]},index=[1,2,3,4,5,6])\n",
        "B=pd.DataFrame({\"Fruits\":[\"Google\",\"Google\",\"Microsoft\",\"Microsoft\",\"Amazon\",\"Amazon\"],\"Price\":[1,2,3,2,5,7],\"key1\":[\"k0\",\"k1\",\"k2\",\"k3\",\"k4\",\"k9\"],\"key2\":[\"k7\",\"k8\",\"k9\",\"k10\",\"k11\",\"k12\"]},index=[7,8,9,10,11,12])\n",
        "C=pd.merge(A,B,how='inner',on=['key1','key2']) # how=inner performs operations like intersection\n",
        "print(C)"
      ],
      "metadata": {
        "colab": {
          "base_uri": "https://localhost:8080/"
        },
        "id": "rxf8RQqgx6-w",
        "outputId": "a9bf3ba0-c23a-4060-9a42-d86dba904b3c"
      },
      "execution_count": null,
      "outputs": [
        {
          "output_type": "stream",
          "name": "stdout",
          "text": [
            "  Fruits_x  Price_x key1 key2   Fruits_y  Price_y\n",
            "0    Apple       42   k0   k7     Google        1\n",
            "1    Apple       56   k1   k8     Google        2\n",
            "2    Mango       79   k2   k9  Microsoft        3\n",
            "3    Mango       94   k3  k10  Microsoft        2\n",
            "4   Banana      100   k4  k11     Amazon        5\n"
          ]
        }
      ]
    },
    {
      "cell_type": "code",
      "source": [
        "# Operations"
      ],
      "metadata": {
        "id": "38ntJcD3MqSy"
      },
      "execution_count": null,
      "outputs": []
    },
    {
      "cell_type": "code",
      "source": [
        "import pandas as pd\n",
        "A=pd.DataFrame({\"Col1\":[1,2,3,4],\"Col2\":[44,55,66,44],\"Col3\":[\"abc\",\"def\",\"abc\",\"fek\"]})\n",
        "print(A)\n",
        "print()\n",
        "print()\n",
        "B=A[\"Col2\"].unique()  # or A[\"Col2\"].nunique()\n",
        "print(B)\n",
        "print()\n",
        "print()\n",
        "C=len(A['Col3'].unique())\n",
        "print(C)\n",
        "print()\n",
        "print()\n",
        "D=A['Col2'].value_counts()\n",
        "print(D)"
      ],
      "metadata": {
        "colab": {
          "base_uri": "https://localhost:8080/"
        },
        "id": "Hn5jVUrqMsEU",
        "outputId": "62b419bb-dd98-4f39-e808-cb38fb7b5dcb"
      },
      "execution_count": null,
      "outputs": [
        {
          "output_type": "stream",
          "name": "stdout",
          "text": [
            "   Col1  Col2 Col3\n",
            "0     1    44  abc\n",
            "1     2    55  def\n",
            "2     3    66  abc\n",
            "3     4    44  fek\n",
            "\n",
            "\n",
            "[44 55 66]\n",
            "\n",
            "\n",
            "3\n",
            "\n",
            "\n",
            "44    2\n",
            "55    1\n",
            "66    1\n",
            "Name: Col2, dtype: int64\n"
          ]
        }
      ]
    },
    {
      "cell_type": "code",
      "source": [
        "# Conditional Selection"
      ],
      "metadata": {
        "id": "QHAsqNRkNhma"
      },
      "execution_count": null,
      "outputs": []
    },
    {
      "cell_type": "code",
      "source": [
        "import pandas as pd\n",
        "A=pd.DataFrame({\"Col1\":[1,2,3,4],\"Col2\":[44,55,66,44],\"Col3\":[\"abc\",\"def\",\"abc\",\"fek\"]})\n",
        "print(A)\n",
        "print()\n",
        "print()\n",
        "B=A[A['Col2']>55]\n",
        "print(B)\n",
        "print()\n",
        "print()\n",
        "# And operator\n",
        "C=A[(A['Col2']>55) & (A['Col1']>2)]\n",
        "print(C)\n",
        "print()\n",
        "print()\n",
        "# Or operator\n",
        "D=A[(A['Col1']>2) | (A['Col2']>55)]\n",
        "print(D)"
      ],
      "metadata": {
        "colab": {
          "base_uri": "https://localhost:8080/"
        },
        "id": "ZH9bzQ95OATz",
        "outputId": "0b242a6e-db9c-4b7f-a6e7-30cc4839c7fd"
      },
      "execution_count": null,
      "outputs": [
        {
          "output_type": "stream",
          "name": "stdout",
          "text": [
            "   Col1  Col2 Col3\n",
            "0     1    44  abc\n",
            "1     2    55  def\n",
            "2     3    66  abc\n",
            "3     4    44  fek\n",
            "\n",
            "\n",
            "   Col1  Col2 Col3\n",
            "2     3    66  abc\n",
            "\n",
            "\n",
            "   Col1  Col2 Col3\n",
            "2     3    66  abc\n",
            "\n",
            "\n",
            "   Col1  Col2 Col3\n",
            "2     3    66  abc\n",
            "3     4    44  fek\n"
          ]
        }
      ]
    },
    {
      "cell_type": "code",
      "source": [
        "# Apply Method (when we want to apply our own method)\n",
        "def method(x):\n",
        "  return x**2\n",
        "import pandas as pd\n",
        "A=pd.DataFrame({\"Col1\":[1,2,3,4],\"Col2\":[44,55,66,44],\"Col3\":[3,4,5,6]})\n",
        "B=A.apply(method)\n",
        "print(B)"
      ],
      "metadata": {
        "id": "IekWgbzkTF3E",
        "colab": {
          "base_uri": "https://localhost:8080/"
        },
        "outputId": "5a409b4c-137b-409b-d080-6c72cb5456f3"
      },
      "execution_count": null,
      "outputs": [
        {
          "output_type": "stream",
          "name": "stdout",
          "text": [
            "   Col1  Col2  Col3\n",
            "0     1  1936     9\n",
            "1     4  3025    16\n",
            "2     9  4356    25\n",
            "3    16  1936    36\n"
          ]
        }
      ]
    },
    {
      "cell_type": "code",
      "source": [
        "# built in functions\n",
        "A=pd.DataFrame({\"a\":[1,2,3],\"b\":[\"abc\",\"def\",\"ghi\"]})\n",
        "A[\"b\"].apply(len)"
      ],
      "metadata": {
        "colab": {
          "base_uri": "https://localhost:8080/"
        },
        "id": "6F_LNEX1WCDE",
        "outputId": "a2b2de3c-24fe-4c27-c458-b24fba89f715"
      },
      "execution_count": null,
      "outputs": [
        {
          "output_type": "execute_result",
          "data": {
            "text/plain": [
              "0    3\n",
              "1    3\n",
              "2    3\n",
              "Name: b, dtype: int64"
            ]
          },
          "metadata": {},
          "execution_count": 9
        }
      ]
    },
    {
      "cell_type": "code",
      "source": [
        "import pandas as pd\n",
        "A=pd.DataFrame({\"a\":[1,2,3],\"b\":[4,5,6]})\n",
        "B=A.apply(lambda x : x**2)\n",
        "print(B)"
      ],
      "metadata": {
        "colab": {
          "base_uri": "https://localhost:8080/"
        },
        "id": "Z4ei6hOu5OYU",
        "outputId": "8943476d-2b7e-44b8-9908-80796c8947ed"
      },
      "execution_count": null,
      "outputs": [
        {
          "output_type": "stream",
          "name": "stdout",
          "text": [
            "   a   b\n",
            "0  1  16\n",
            "1  4  25\n",
            "2  9  36\n"
          ]
        }
      ]
    },
    {
      "cell_type": "code",
      "source": [
        "import pandas as pd\n",
        "A=pd.DataFrame({\"a\":[1,2,3],\"b\":[4,5,6]})\n",
        "B=A.columns\n",
        "print(B)\n",
        "C=A.index\n",
        "print(C)"
      ],
      "metadata": {
        "colab": {
          "base_uri": "https://localhost:8080/"
        },
        "id": "V8y1kk097sXp",
        "outputId": "75ac3e3d-2b56-418a-b9d7-1f3189c9ae26"
      },
      "execution_count": null,
      "outputs": [
        {
          "output_type": "stream",
          "name": "stdout",
          "text": [
            "Index(['a', 'b'], dtype='object')\n",
            "RangeIndex(start=0, stop=3, step=1)\n"
          ]
        }
      ]
    },
    {
      "cell_type": "code",
      "source": [
        "import pandas as pd\n",
        "A=pd.DataFrame({\"a\":[1,-2,3],\"b\":[5,4,6]})\n",
        "B=A.sort_values(\"b\")\n",
        "print(B)\n",
        "C=A.isnull()\n",
        "print(C)"
      ],
      "metadata": {
        "colab": {
          "base_uri": "https://localhost:8080/"
        },
        "id": "7qAQPbKM8UxD",
        "outputId": "c61b400d-ff08-41c4-b861-1cc3bde3742c"
      },
      "execution_count": null,
      "outputs": [
        {
          "output_type": "stream",
          "name": "stdout",
          "text": [
            "   a  b\n",
            "1 -2  4\n",
            "0  1  5\n",
            "2  3  6\n",
            "       a      b\n",
            "0  False  False\n",
            "1  False  False\n",
            "2  False  False\n"
          ]
        }
      ]
    },
    {
      "cell_type": "code",
      "source": [
        "# pivot_table\n",
        "import pandas as pd\n",
        "A=pd.DataFrame({\"a\":[1,2,1,2],\"b\":[\"ab\",\"ab\",\"cd\",\"cd\"],\"c\":[12,34,21,34]})\n",
        "print(A)\n",
        "print()\n",
        "print()\n",
        "print()\n",
        "print()\n",
        "B=A.pivot_table(values=[\"c\"],index=[\"b\"],columns=[\"a\"])\n",
        "print(B)"
      ],
      "metadata": {
        "colab": {
          "base_uri": "https://localhost:8080/"
        },
        "id": "iUQ9VIYx9ieJ",
        "outputId": "9ec69fa5-f4e7-48ba-db21-46fd7e13b5ae"
      },
      "execution_count": null,
      "outputs": [
        {
          "output_type": "stream",
          "name": "stdout",
          "text": [
            "   a   b   c\n",
            "0  1  ab  12\n",
            "1  2  ab  34\n",
            "2  1  cd  21\n",
            "3  2  cd  34\n",
            "\n",
            "\n",
            "\n",
            "\n",
            "     c    \n",
            "a    1   2\n",
            "b         \n",
            "ab  12  34\n",
            "cd  21  34\n"
          ]
        }
      ]
    }
  ]
}