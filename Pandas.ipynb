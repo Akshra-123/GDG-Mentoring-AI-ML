{
  "nbformat": 4,
  "nbformat_minor": 0,
  "metadata": {
    "colab": {
      "provenance": []
    },
    "kernelspec": {
      "name": "python3",
      "display_name": "Python 3"
    },
    "language_info": {
      "name": "python"
    }
  },
  "cells": [
    {
      "cell_type": "code",
      "execution_count": null,
      "metadata": {
        "id": "0SSU7Dq4m1w1"
      },
      "outputs": [],
      "source": [
        "# Series (1-D data-structure)"
      ]
    },
    {
      "cell_type": "code",
      "source": [
        "print(pd.__version__)"
      ],
      "metadata": {
        "colab": {
          "base_uri": "https://localhost:8080/"
        },
        "id": "WSjHkEZhqTqd",
        "outputId": "e459cec6-047e-4e6d-ca70-3e4d040117c4"
      },
      "execution_count": null,
      "outputs": [
        {
          "output_type": "stream",
          "name": "stdout",
          "text": [
            "2.0.3\n"
          ]
        }
      ]
    },
    {
      "cell_type": "code",
      "source": [
        "import pandas as pd\n",
        "a=[9,8,7,6,5,4]\n",
        "b=pd.Series(a)\n",
        "# We can change the data type of b also\n",
        "c=pd.Series(a,dtype=\"f\")\n",
        "print(b)\n",
        "print(type(b))\n",
        "print(c[0:2])"
      ],
      "metadata": {
        "colab": {
          "base_uri": "https://localhost:8080/"
        },
        "id": "0uaA1X176YOg",
        "outputId": "92e22e48-6380-4d80-97f5-4f16ec94d613"
      },
      "execution_count": null,
      "outputs": [
        {
          "output_type": "stream",
          "name": "stdout",
          "text": [
            "0    9\n",
            "1    8\n",
            "2    7\n",
            "3    6\n",
            "4    5\n",
            "5    4\n",
            "dtype: int64\n",
            "<class 'pandas.core.series.Series'>\n",
            "0    9.0\n",
            "1    8.0\n",
            "dtype: float32\n"
          ]
        }
      ]
    },
    {
      "cell_type": "code",
      "source": [
        "|# indexing\n",
        "import pandas as pd\n",
        "a=[9,8,7,6,5,4]\n",
        "b=pd.Series(a)\n",
        "print(b)\n",
        "print()\n",
        "print(b[2])"
      ],
      "metadata": {
        "colab": {
          "base_uri": "https://localhost:8080/"
        },
        "id": "qeWSaMv7oXR8",
        "outputId": "18f68ad3-0d08-4628-b12c-881a412a5c45"
      },
      "execution_count": null,
      "outputs": [
        {
          "output_type": "stream",
          "name": "stdout",
          "text": [
            "0    9\n",
            "1    8\n",
            "2    7\n",
            "3    6\n",
            "4    5\n",
            "5    4\n",
            "dtype: int64\n",
            "\n",
            "7\n"
          ]
        }
      ]
    },
    {
      "cell_type": "code",
      "source": [
        "# We can also change the index of elements if not want 0,1,2,3\n",
        "import pandas as pd\n",
        "a=[1,2,3,4]\n",
        "b=pd.Series(a,index=['a','s','d','f'])\n",
        "print(b)\n"
      ],
      "metadata": {
        "colab": {
          "base_uri": "https://localhost:8080/"
        },
        "id": "YgbsCCyoqHj4",
        "outputId": "c5d1860f-bff7-4580-b5f7-f1c426c4fece"
      },
      "execution_count": null,
      "outputs": [
        {
          "output_type": "stream",
          "name": "stdout",
          "text": [
            "a    1\n",
            "s    2\n",
            "d    3\n",
            "f    4\n",
            "dtype: int64\n"
          ]
        }
      ]
    },
    {
      "cell_type": "code",
      "source": [
        "# we can also give a name to our data\n",
        "import pandas as pd\n",
        "a=[1,2,3,4]\n",
        "b=pd.Series(a,name=\"hello\")\n",
        "print(b)"
      ],
      "metadata": {
        "colab": {
          "base_uri": "https://localhost:8080/"
        },
        "id": "OBOh9dSerM7B",
        "outputId": "6b26d23c-2408-43cf-f086-6ea39f049c19"
      },
      "execution_count": null,
      "outputs": [
        {
          "output_type": "stream",
          "name": "stdout",
          "text": [
            "0    1\n",
            "1    2\n",
            "2    3\n",
            "3    4\n",
            "Name: hello, dtype: int64\n"
          ]
        }
      ]
    },
    {
      "cell_type": "code",
      "source": [
        "# instead of list we can also use other data types like dictionary,tuples etc.\n",
        "import pandas as pd\n",
        "a={'name':['alia','mahi'],'class':[3,4],'roll_no':[12,13]}\n",
        "b=pd.Series(a,name=\"Students Details\")\n",
        "print(b)\n",
        "# in the output we get the output as data_type=object which usually comes when we use collective data\n",
        "# containing all i.e. strings,float,int etc"
      ],
      "metadata": {
        "colab": {
          "base_uri": "https://localhost:8080/"
        },
        "id": "U0Rwp9ArsFGM",
        "outputId": "1fa22fdd-7801-4654-b94f-54b44668897a"
      },
      "execution_count": null,
      "outputs": [
        {
          "output_type": "stream",
          "name": "stdout",
          "text": [
            "name       [alia, mahi]\n",
            "class            [3, 4]\n",
            "roll_no        [12, 13]\n",
            "Name: Students Details, dtype: object\n"
          ]
        }
      ]
    },
    {
      "cell_type": "code",
      "source": [
        "# when we want a single element at all places\n",
        "import pandas as pd\n",
        "a=pd.Series(12,index=['a','b','c','d'])\n",
        "print(a)"
      ],
      "metadata": {
        "colab": {
          "base_uri": "https://localhost:8080/"
        },
        "id": "oavUU4Q_3ni9",
        "outputId": "7bfceeae-0302-49e6-f657-ec2f0070aaa9"
      },
      "execution_count": null,
      "outputs": [
        {
          "output_type": "stream",
          "name": "stdout",
          "text": [
            "a    12\n",
            "b    12\n",
            "c    12\n",
            "d    12\n",
            "dtype: int64\n"
          ]
        }
      ]
    },
    {
      "cell_type": "code",
      "source": [
        "# why pandas and not numpy arrays\n",
        "import pandas as pd\n",
        "a=pd.Series([1,2,3,4])\n",
        "b=pd.Series([2,3,4,5,6])\n",
        "print(a+b)\n",
        "# in numpy if we try to add two arrays not of same size we get broadcasting error but here we can add and in the output if there is\n",
        "# no element we get NaN which means no element"
      ],
      "metadata": {
        "colab": {
          "base_uri": "https://localhost:8080/"
        },
        "id": "PexoQ3xI4bg3",
        "outputId": "a1ef6fd8-31c8-4ef3-f72c-4ee4d5c33d77"
      },
      "execution_count": null,
      "outputs": [
        {
          "output_type": "stream",
          "name": "stdout",
          "text": [
            "0    3.0\n",
            "1    5.0\n",
            "2    7.0\n",
            "3    9.0\n",
            "4    NaN\n",
            "dtype: float64\n"
          ]
        }
      ]
    },
    {
      "cell_type": "code",
      "source": [
        "# Data-Frames (2-D data-structure)"
      ],
      "metadata": {
        "id": "lVEFeREl4ebM"
      },
      "execution_count": null,
      "outputs": []
    },
    {
      "cell_type": "code",
      "source": [
        "# making a data-frame\n",
        "import pandas as pd\n",
        "a=pd.DataFrame([1,2,3,4])\n",
        "print(a)\n",
        "print(type(a))\n",
        "# in the output 0 represents column name we can give our own required name also"
      ],
      "metadata": {
        "colab": {
          "base_uri": "https://localhost:8080/"
        },
        "id": "uuKK1_uj68d1",
        "outputId": "7f56c30f-1ca0-4066-e774-6d65f16b23de"
      },
      "execution_count": null,
      "outputs": [
        {
          "output_type": "stream",
          "name": "stdout",
          "text": [
            "   0\n",
            "0  1\n",
            "1  2\n",
            "2  3\n",
            "3  4\n",
            "<class 'pandas.core.frame.DataFrame'>\n"
          ]
        }
      ]
    },
    {
      "cell_type": "code",
      "source": [
        "import pandas as pd\n",
        "a=pd.DataFrame({\"c\":[1,2,3],\"d\":[4,5,6]})\n",
        "print(a)\n",
        "print(type(a))\n",
        "# if the data in the dictionary is not equal we will get error.....can try"
      ],
      "metadata": {
        "id": "P_HXPFoD8NgM",
        "colab": {
          "base_uri": "https://localhost:8080/"
        },
        "outputId": "8501e84f-9b1b-4d95-e9e3-c57f39e6b2a3"
      },
      "execution_count": null,
      "outputs": [
        {
          "output_type": "stream",
          "name": "stdout",
          "text": [
            "   c  d\n",
            "0  1  4\n",
            "1  2  5\n",
            "2  3  6\n",
            "<class 'pandas.core.frame.DataFrame'>\n"
          ]
        }
      ]
    },
    {
      "cell_type": "code",
      "source": [
        "# if I want only one column values\n",
        "# we can also give index if want\n",
        "import pandas as pd\n",
        "a=pd.DataFrame({\"c\":[1,2,3],\"d\":[4,5,6]},columns=['d'],index=['q','w','e'])\n",
        "print(a)"
      ],
      "metadata": {
        "colab": {
          "base_uri": "https://localhost:8080/"
        },
        "id": "U2RLyAbMJHLq",
        "outputId": "20a3f09c-dc29-43ec-a628-2c86ffe29d52"
      },
      "execution_count": null,
      "outputs": [
        {
          "output_type": "stream",
          "name": "stdout",
          "text": [
            "   d\n",
            "q  4\n",
            "w  5\n",
            "e  6\n"
          ]
        }
      ]
    },
    {
      "cell_type": "code",
      "source": [
        "# if we want any particular data\n",
        "import pandas as pd\n",
        "a=pd.DataFrame({\"c\":[1,2,3],\"d\":[4,5,6]},index=['q','w','e'])\n",
        "print(a['c']['w'])"
      ],
      "metadata": {
        "colab": {
          "base_uri": "https://localhost:8080/"
        },
        "id": "UXdjYFQCR-dh",
        "outputId": "693d147e-b553-447f-cd2c-dd0cb992b94a"
      },
      "execution_count": null,
      "outputs": [
        {
          "output_type": "stream",
          "name": "stdout",
          "text": [
            "2\n"
          ]
        }
      ]
    },
    {
      "cell_type": "code",
      "source": [
        "# using lists in lists\n",
        "import pandas as pd\n",
        "a=[[1,2,3,4],[5,6,7,8]]\n",
        "b=pd.DataFrame(a)\n",
        "print(b)"
      ],
      "metadata": {
        "id": "c7vpS_mFSeGY",
        "colab": {
          "base_uri": "https://localhost:8080/"
        },
        "outputId": "1ce569b0-8889-47c5-efca-742da8e19f72"
      },
      "execution_count": null,
      "outputs": [
        {
          "output_type": "stream",
          "name": "stdout",
          "text": [
            "   0  1  2  3\n",
            "0  1  2  3  4\n",
            "1  5  6  7  8\n"
          ]
        }
      ]
    },
    {
      "cell_type": "code",
      "source": [
        "# we can create a data frame using two series also\n",
        "import pandas as pd\n",
        "a={\"s\":pd.Series([1,2,3,4]),\"d\":pd.Series([9,8,7,6])}\n",
        "b=pd.DataFrame(a)\n",
        "print(b)"
      ],
      "metadata": {
        "colab": {
          "base_uri": "https://localhost:8080/"
        },
        "id": "5DsyBv3DEW9i",
        "outputId": "adebce05-6cf6-4b8d-a6ec-02800f80f31e"
      },
      "execution_count": null,
      "outputs": [
        {
          "output_type": "stream",
          "name": "stdout",
          "text": [
            "   s  d\n",
            "0  1  9\n",
            "1  2  8\n",
            "2  3  7\n",
            "3  4  6\n"
          ]
        }
      ]
    },
    {
      "cell_type": "code",
      "source": [
        "# Arithmetic Operators"
      ],
      "metadata": {
        "id": "K55uX5rhXRkV"
      },
      "execution_count": null,
      "outputs": []
    },
    {
      "cell_type": "code",
      "source": [
        "# Addition of two data frames\n",
        "import pandas as pd\n",
        "a=pd.DataFrame({\"A\":[1,2,3],\"B\":[4,5,6]})\n",
        "print(a)\n",
        "a[\"C\"]=a[\"A\"]+a[\"B\"]\n",
        "print(a)"
      ],
      "metadata": {
        "colab": {
          "base_uri": "https://localhost:8080/"
        },
        "id": "YJG23mYfYO2V",
        "outputId": "fe9876ca-b971-47d7-b0f5-f171842f17d1"
      },
      "execution_count": null,
      "outputs": [
        {
          "output_type": "stream",
          "name": "stdout",
          "text": [
            "   A  B\n",
            "0  1  4\n",
            "1  2  5\n",
            "2  3  6\n",
            "   A  B  C\n",
            "0  1  4  5\n",
            "1  2  5  7\n",
            "2  3  6  9\n"
          ]
        }
      ]
    },
    {
      "cell_type": "code",
      "source": [
        "# Subraction\n",
        "import pandas as pd\n",
        "a=pd.DataFrame({\"A\":[1,2,3],\"B\":[4,5,6]})\n",
        "print(a)\n",
        "a[\"C\"]=a[\"A\"]-a[\"B\"]\n",
        "print(a)\n",
        "# Similarly other arithmetic operations can be performed here"
      ],
      "metadata": {
        "colab": {
          "base_uri": "https://localhost:8080/"
        },
        "id": "R93VW-UbYqnP",
        "outputId": "08f4edcd-700c-4129-f2ac-24d0436f20ee"
      },
      "execution_count": null,
      "outputs": [
        {
          "output_type": "stream",
          "name": "stdout",
          "text": [
            "   A  B\n",
            "0  1  4\n",
            "1  2  5\n",
            "2  3  6\n",
            "   A  B  C\n",
            "0  1  4 -3\n",
            "1  2  5 -3\n",
            "2  3  6 -3\n"
          ]
        }
      ]
    },
    {
      "cell_type": "code",
      "source": [
        "# Logical operations"
      ],
      "metadata": {
        "id": "E4iqLA8HZH7M"
      },
      "execution_count": null,
      "outputs": []
    },
    {
      "cell_type": "code",
      "source": [
        "import pandas as pd\n",
        "a=pd.DataFrame({\"A\":[1,2,3],\"B\":[4,5,6]})\n",
        "print(a)\n",
        "a[\"C\"]=a[\"A\"]<=2\n",
        "\n",
        "a[\"D\"]=a[\"B\"]>=5\n",
        "print(a)"
      ],
      "metadata": {
        "colab": {
          "base_uri": "https://localhost:8080/"
        },
        "id": "3tSy5PhWZLTA",
        "outputId": "d842bdd7-763a-4bab-b81b-c5d1180ee61c"
      },
      "execution_count": null,
      "outputs": [
        {
          "output_type": "stream",
          "name": "stdout",
          "text": [
            "   A  B\n",
            "0  1  4\n",
            "1  2  5\n",
            "2  3  6\n",
            "   A  B      C      D\n",
            "0  1  4   True  False\n",
            "1  2  5   True   True\n",
            "2  3  6  False   True\n"
          ]
        }
      ]
    },
    {
      "cell_type": "code",
      "source": [
        "# Insertion"
      ],
      "metadata": {
        "id": "2cmiv0Hwbz9n"
      },
      "execution_count": null,
      "outputs": []
    },
    {
      "cell_type": "code",
      "source": [
        "import pandas as pd\n",
        "a=pd.DataFrame({\"A\":[1,2,3],\"B\":[4,5,6]})\n",
        "print(a)\n",
        "# while inserting data if data is not equal in number then we will get an error\n",
        "# the 3 values are written as index_no. , place where to write , what to write\n",
        "a.insert(2,\"C\",[2,3,4])\n",
        "print(a)\n",
        "# if want to create the duplicate copy of existing column\n",
        "a.insert(3,\"D\",a[\"A\"])\n",
        "print(a)\n",
        "# if want to copy an existing column with limited data\n",
        "a[\"E\"]=a[\"A\"][:2]\n",
        "print(a)"
      ],
      "metadata": {
        "colab": {
          "base_uri": "https://localhost:8080/"
        },
        "id": "f5RfieYPb2Au",
        "outputId": "7e59ea92-2e7a-415c-9307-23fe6be6f60e"
      },
      "execution_count": null,
      "outputs": [
        {
          "output_type": "stream",
          "name": "stdout",
          "text": [
            "   A  B\n",
            "0  1  4\n",
            "1  2  5\n",
            "2  3  6\n",
            "   A  B  C\n",
            "0  1  4  2\n",
            "1  2  5  3\n",
            "2  3  6  4\n",
            "   A  B  C  D\n",
            "0  1  4  2  1\n",
            "1  2  5  3  2\n",
            "2  3  6  4  3\n",
            "   A  B  C  D    E\n",
            "0  1  4  2  1  1.0\n",
            "1  2  5  3  2  2.0\n",
            "2  3  6  4  3  NaN\n"
          ]
        }
      ]
    },
    {
      "cell_type": "code",
      "source": [
        "# Deletion (using pop function and del keyword)"
      ],
      "metadata": {
        "id": "ip_Uk_5gfPBm"
      },
      "execution_count": null,
      "outputs": []
    },
    {
      "cell_type": "code",
      "source": [
        "# pop function\n",
        "import pandas as pd\n",
        "a=pd.DataFrame({\"A\":[1,2,3],\"B\":[4,5,6],\"C\":[7,8,9]})\n",
        "print(a)\n",
        "b=a.pop(\"B\")\n",
        "print(a)\n",
        "print(b)"
      ],
      "metadata": {
        "colab": {
          "base_uri": "https://localhost:8080/"
        },
        "id": "U7TZzKs2ekGn",
        "outputId": "7a5b0b18-5a2c-416c-8880-5f800fdbfbf5"
      },
      "execution_count": null,
      "outputs": [
        {
          "output_type": "stream",
          "name": "stdout",
          "text": [
            "   A  B  C\n",
            "0  1  4  7\n",
            "1  2  5  8\n",
            "2  3  6  9\n",
            "   A  C\n",
            "0  1  7\n",
            "1  2  8\n",
            "2  3  9\n",
            "0    4\n",
            "1    5\n",
            "2    6\n",
            "Name: B, dtype: int64\n"
          ]
        }
      ]
    },
    {
      "cell_type": "code",
      "source": [
        "# del keyword\n",
        "import pandas as pd\n",
        "a=pd.DataFrame({\"A\":[1,2,3],\"B\":[4,5,6],\"C\":[7,8,9]})\n",
        "print(a)\n",
        "del a[\"B\"]\n",
        "print(a)"
      ],
      "metadata": {
        "colab": {
          "base_uri": "https://localhost:8080/"
        },
        "id": "f6HgJFiIgK52",
        "outputId": "639c3e76-5285-4fc1-f583-fd7b24da7a33"
      },
      "execution_count": null,
      "outputs": [
        {
          "output_type": "stream",
          "name": "stdout",
          "text": [
            "   A  B  C\n",
            "0  1  4  7\n",
            "1  2  5  8\n",
            "2  3  6  9\n",
            "   A  C\n",
            "0  1  7\n",
            "1  2  8\n",
            "2  3  9\n"
          ]
        }
      ]
    },
    {
      "cell_type": "code",
      "source": [
        "# CSV Files"
      ],
      "metadata": {
        "id": "3nPrj16TjJuI"
      },
      "execution_count": null,
      "outputs": []
    },
    {
      "cell_type": "code",
      "source": [
        "import pandas as pd\n",
        "a=pd.DataFrame({\"A\":[1,2,3],\"B\":[4,5,6]})\n",
        "print(a)\n",
        "b=a.to_csv(\"B.csv\",index=False,header=[1,2,3])\n",
        "print(B)"
      ],
      "metadata": {
        "colab": {
          "base_uri": "https://localhost:8080/",
          "height": 408
        },
        "id": "T6siYp8ilkcd",
        "outputId": "132a5e1b-9f27-43c8-d8ea-70cd222413d1"
      },
      "execution_count": null,
      "outputs": [
        {
          "output_type": "stream",
          "name": "stdout",
          "text": [
            "   A  B\n",
            "0  1  4\n",
            "1  2  5\n",
            "2  3  6\n"
          ]
        },
        {
          "output_type": "error",
          "ename": "ValueError",
          "evalue": "Writing 2 cols but got 3 aliases",
          "traceback": [
            "\u001b[0;31m---------------------------------------------------------------------------\u001b[0m",
            "\u001b[0;31mValueError\u001b[0m                                Traceback (most recent call last)",
            "\u001b[0;32m<ipython-input-27-113f4e46c136>\u001b[0m in \u001b[0;36m<cell line: 4>\u001b[0;34m()\u001b[0m\n\u001b[1;32m      2\u001b[0m \u001b[0ma\u001b[0m\u001b[0;34m=\u001b[0m\u001b[0mpd\u001b[0m\u001b[0;34m.\u001b[0m\u001b[0mDataFrame\u001b[0m\u001b[0;34m(\u001b[0m\u001b[0;34m{\u001b[0m\u001b[0;34m\"A\"\u001b[0m\u001b[0;34m:\u001b[0m\u001b[0;34m[\u001b[0m\u001b[0;36m1\u001b[0m\u001b[0;34m,\u001b[0m\u001b[0;36m2\u001b[0m\u001b[0;34m,\u001b[0m\u001b[0;36m3\u001b[0m\u001b[0;34m]\u001b[0m\u001b[0;34m,\u001b[0m\u001b[0;34m\"B\"\u001b[0m\u001b[0;34m:\u001b[0m\u001b[0;34m[\u001b[0m\u001b[0;36m4\u001b[0m\u001b[0;34m,\u001b[0m\u001b[0;36m5\u001b[0m\u001b[0;34m,\u001b[0m\u001b[0;36m6\u001b[0m\u001b[0;34m]\u001b[0m\u001b[0;34m}\u001b[0m\u001b[0;34m)\u001b[0m\u001b[0;34m\u001b[0m\u001b[0;34m\u001b[0m\u001b[0m\n\u001b[1;32m      3\u001b[0m \u001b[0mprint\u001b[0m\u001b[0;34m(\u001b[0m\u001b[0ma\u001b[0m\u001b[0;34m)\u001b[0m\u001b[0;34m\u001b[0m\u001b[0;34m\u001b[0m\u001b[0m\n\u001b[0;32m----> 4\u001b[0;31m \u001b[0mb\u001b[0m\u001b[0;34m=\u001b[0m\u001b[0ma\u001b[0m\u001b[0;34m.\u001b[0m\u001b[0mto_csv\u001b[0m\u001b[0;34m(\u001b[0m\u001b[0;34m\"B.csv\"\u001b[0m\u001b[0;34m,\u001b[0m\u001b[0mindex\u001b[0m\u001b[0;34m=\u001b[0m\u001b[0;32mFalse\u001b[0m\u001b[0;34m,\u001b[0m\u001b[0mheader\u001b[0m\u001b[0;34m=\u001b[0m\u001b[0;34m[\u001b[0m\u001b[0;36m1\u001b[0m\u001b[0;34m,\u001b[0m\u001b[0;36m2\u001b[0m\u001b[0;34m,\u001b[0m\u001b[0;36m3\u001b[0m\u001b[0;34m]\u001b[0m\u001b[0;34m)\u001b[0m\u001b[0;34m\u001b[0m\u001b[0;34m\u001b[0m\u001b[0m\n\u001b[0m\u001b[1;32m      5\u001b[0m \u001b[0mprint\u001b[0m\u001b[0;34m(\u001b[0m\u001b[0mB\u001b[0m\u001b[0;34m)\u001b[0m\u001b[0;34m\u001b[0m\u001b[0;34m\u001b[0m\u001b[0m\n",
            "\u001b[0;32m/usr/local/lib/python3.10/dist-packages/pandas/core/generic.py\u001b[0m in \u001b[0;36mto_csv\u001b[0;34m(self, path_or_buf, sep, na_rep, float_format, columns, header, index, index_label, mode, encoding, compression, quoting, quotechar, lineterminator, chunksize, date_format, doublequote, escapechar, decimal, errors, storage_options)\u001b[0m\n\u001b[1;32m   3770\u001b[0m         )\n\u001b[1;32m   3771\u001b[0m \u001b[0;34m\u001b[0m\u001b[0m\n\u001b[0;32m-> 3772\u001b[0;31m         return DataFrameRenderer(formatter).to_csv(\n\u001b[0m\u001b[1;32m   3773\u001b[0m             \u001b[0mpath_or_buf\u001b[0m\u001b[0;34m,\u001b[0m\u001b[0;34m\u001b[0m\u001b[0;34m\u001b[0m\u001b[0m\n\u001b[1;32m   3774\u001b[0m             \u001b[0mlineterminator\u001b[0m\u001b[0;34m=\u001b[0m\u001b[0mlineterminator\u001b[0m\u001b[0;34m,\u001b[0m\u001b[0;34m\u001b[0m\u001b[0;34m\u001b[0m\u001b[0m\n",
            "\u001b[0;32m/usr/local/lib/python3.10/dist-packages/pandas/io/formats/format.py\u001b[0m in \u001b[0;36mto_csv\u001b[0;34m(self, path_or_buf, encoding, sep, columns, index_label, mode, compression, quoting, quotechar, lineterminator, chunksize, date_format, doublequote, escapechar, errors, storage_options)\u001b[0m\n\u001b[1;32m   1184\u001b[0m             \u001b[0mformatter\u001b[0m\u001b[0;34m=\u001b[0m\u001b[0mself\u001b[0m\u001b[0;34m.\u001b[0m\u001b[0mfmt\u001b[0m\u001b[0;34m,\u001b[0m\u001b[0;34m\u001b[0m\u001b[0;34m\u001b[0m\u001b[0m\n\u001b[1;32m   1185\u001b[0m         )\n\u001b[0;32m-> 1186\u001b[0;31m         \u001b[0mcsv_formatter\u001b[0m\u001b[0;34m.\u001b[0m\u001b[0msave\u001b[0m\u001b[0;34m(\u001b[0m\u001b[0;34m)\u001b[0m\u001b[0;34m\u001b[0m\u001b[0;34m\u001b[0m\u001b[0m\n\u001b[0m\u001b[1;32m   1187\u001b[0m \u001b[0;34m\u001b[0m\u001b[0m\n\u001b[1;32m   1188\u001b[0m         \u001b[0;32mif\u001b[0m \u001b[0mcreated_buffer\u001b[0m\u001b[0;34m:\u001b[0m\u001b[0;34m\u001b[0m\u001b[0;34m\u001b[0m\u001b[0m\n",
            "\u001b[0;32m/usr/local/lib/python3.10/dist-packages/pandas/io/formats/csvs.py\u001b[0m in \u001b[0;36msave\u001b[0;34m(self)\u001b[0m\n\u001b[1;32m    257\u001b[0m             )\n\u001b[1;32m    258\u001b[0m \u001b[0;34m\u001b[0m\u001b[0m\n\u001b[0;32m--> 259\u001b[0;31m             \u001b[0mself\u001b[0m\u001b[0;34m.\u001b[0m\u001b[0m_save\u001b[0m\u001b[0;34m(\u001b[0m\u001b[0;34m)\u001b[0m\u001b[0;34m\u001b[0m\u001b[0;34m\u001b[0m\u001b[0m\n\u001b[0m\u001b[1;32m    260\u001b[0m \u001b[0;34m\u001b[0m\u001b[0m\n\u001b[1;32m    261\u001b[0m     \u001b[0;32mdef\u001b[0m \u001b[0m_save\u001b[0m\u001b[0;34m(\u001b[0m\u001b[0mself\u001b[0m\u001b[0;34m)\u001b[0m \u001b[0;34m->\u001b[0m \u001b[0;32mNone\u001b[0m\u001b[0;34m:\u001b[0m\u001b[0;34m\u001b[0m\u001b[0;34m\u001b[0m\u001b[0m\n",
            "\u001b[0;32m/usr/local/lib/python3.10/dist-packages/pandas/io/formats/csvs.py\u001b[0m in \u001b[0;36m_save\u001b[0;34m(self)\u001b[0m\n\u001b[1;32m    261\u001b[0m     \u001b[0;32mdef\u001b[0m \u001b[0m_save\u001b[0m\u001b[0;34m(\u001b[0m\u001b[0mself\u001b[0m\u001b[0;34m)\u001b[0m \u001b[0;34m->\u001b[0m \u001b[0;32mNone\u001b[0m\u001b[0;34m:\u001b[0m\u001b[0;34m\u001b[0m\u001b[0;34m\u001b[0m\u001b[0m\n\u001b[1;32m    262\u001b[0m         \u001b[0;32mif\u001b[0m \u001b[0mself\u001b[0m\u001b[0;34m.\u001b[0m\u001b[0m_need_to_save_header\u001b[0m\u001b[0;34m:\u001b[0m\u001b[0;34m\u001b[0m\u001b[0;34m\u001b[0m\u001b[0m\n\u001b[0;32m--> 263\u001b[0;31m             \u001b[0mself\u001b[0m\u001b[0;34m.\u001b[0m\u001b[0m_save_header\u001b[0m\u001b[0;34m(\u001b[0m\u001b[0;34m)\u001b[0m\u001b[0;34m\u001b[0m\u001b[0;34m\u001b[0m\u001b[0m\n\u001b[0m\u001b[1;32m    264\u001b[0m         \u001b[0mself\u001b[0m\u001b[0;34m.\u001b[0m\u001b[0m_save_body\u001b[0m\u001b[0;34m(\u001b[0m\u001b[0;34m)\u001b[0m\u001b[0;34m\u001b[0m\u001b[0;34m\u001b[0m\u001b[0m\n\u001b[1;32m    265\u001b[0m \u001b[0;34m\u001b[0m\u001b[0m\n",
            "\u001b[0;32m/usr/local/lib/python3.10/dist-packages/pandas/io/formats/csvs.py\u001b[0m in \u001b[0;36m_save_header\u001b[0;34m(self)\u001b[0m\n\u001b[1;32m    266\u001b[0m     \u001b[0;32mdef\u001b[0m \u001b[0m_save_header\u001b[0m\u001b[0;34m(\u001b[0m\u001b[0mself\u001b[0m\u001b[0;34m)\u001b[0m \u001b[0;34m->\u001b[0m \u001b[0;32mNone\u001b[0m\u001b[0;34m:\u001b[0m\u001b[0;34m\u001b[0m\u001b[0;34m\u001b[0m\u001b[0m\n\u001b[1;32m    267\u001b[0m         \u001b[0;32mif\u001b[0m \u001b[0;32mnot\u001b[0m \u001b[0mself\u001b[0m\u001b[0;34m.\u001b[0m\u001b[0mhas_mi_columns\u001b[0m \u001b[0;32mor\u001b[0m \u001b[0mself\u001b[0m\u001b[0;34m.\u001b[0m\u001b[0m_has_aliases\u001b[0m\u001b[0;34m:\u001b[0m\u001b[0;34m\u001b[0m\u001b[0;34m\u001b[0m\u001b[0m\n\u001b[0;32m--> 268\u001b[0;31m             \u001b[0mself\u001b[0m\u001b[0;34m.\u001b[0m\u001b[0mwriter\u001b[0m\u001b[0;34m.\u001b[0m\u001b[0mwriterow\u001b[0m\u001b[0;34m(\u001b[0m\u001b[0mself\u001b[0m\u001b[0;34m.\u001b[0m\u001b[0mencoded_labels\u001b[0m\u001b[0;34m)\u001b[0m\u001b[0;34m\u001b[0m\u001b[0;34m\u001b[0m\u001b[0m\n\u001b[0m\u001b[1;32m    269\u001b[0m         \u001b[0;32melse\u001b[0m\u001b[0;34m:\u001b[0m\u001b[0;34m\u001b[0m\u001b[0;34m\u001b[0m\u001b[0m\n\u001b[1;32m    270\u001b[0m             \u001b[0;32mfor\u001b[0m \u001b[0mrow\u001b[0m \u001b[0;32min\u001b[0m \u001b[0mself\u001b[0m\u001b[0;34m.\u001b[0m\u001b[0m_generate_multiindex_header_rows\u001b[0m\u001b[0;34m(\u001b[0m\u001b[0;34m)\u001b[0m\u001b[0;34m:\u001b[0m\u001b[0;34m\u001b[0m\u001b[0;34m\u001b[0m\u001b[0m\n",
            "\u001b[0;32m/usr/local/lib/python3.10/dist-packages/pandas/io/formats/csvs.py\u001b[0m in \u001b[0;36mencoded_labels\u001b[0;34m(self)\u001b[0m\n\u001b[1;32m    229\u001b[0m \u001b[0;34m\u001b[0m\u001b[0m\n\u001b[1;32m    230\u001b[0m         \u001b[0;32mif\u001b[0m \u001b[0;32mnot\u001b[0m \u001b[0mself\u001b[0m\u001b[0;34m.\u001b[0m\u001b[0mhas_mi_columns\u001b[0m \u001b[0;32mor\u001b[0m \u001b[0mself\u001b[0m\u001b[0;34m.\u001b[0m\u001b[0m_has_aliases\u001b[0m\u001b[0;34m:\u001b[0m\u001b[0;34m\u001b[0m\u001b[0;34m\u001b[0m\u001b[0m\n\u001b[0;32m--> 231\u001b[0;31m             \u001b[0mencoded_labels\u001b[0m \u001b[0;34m+=\u001b[0m \u001b[0mlist\u001b[0m\u001b[0;34m(\u001b[0m\u001b[0mself\u001b[0m\u001b[0;34m.\u001b[0m\u001b[0mwrite_cols\u001b[0m\u001b[0;34m)\u001b[0m\u001b[0;34m\u001b[0m\u001b[0;34m\u001b[0m\u001b[0m\n\u001b[0m\u001b[1;32m    232\u001b[0m \u001b[0;34m\u001b[0m\u001b[0m\n\u001b[1;32m    233\u001b[0m         \u001b[0;32mreturn\u001b[0m \u001b[0mencoded_labels\u001b[0m\u001b[0;34m\u001b[0m\u001b[0;34m\u001b[0m\u001b[0m\n",
            "\u001b[0;32m/usr/local/lib/python3.10/dist-packages/pandas/io/formats/csvs.py\u001b[0m in \u001b[0;36mwrite_cols\u001b[0;34m(self)\u001b[0m\n\u001b[1;32m    211\u001b[0m             \u001b[0;32massert\u001b[0m \u001b[0;32mnot\u001b[0m \u001b[0misinstance\u001b[0m\u001b[0;34m(\u001b[0m\u001b[0mself\u001b[0m\u001b[0;34m.\u001b[0m\u001b[0mheader\u001b[0m\u001b[0;34m,\u001b[0m \u001b[0mbool\u001b[0m\u001b[0;34m)\u001b[0m\u001b[0;34m\u001b[0m\u001b[0;34m\u001b[0m\u001b[0m\n\u001b[1;32m    212\u001b[0m             \u001b[0;32mif\u001b[0m \u001b[0mlen\u001b[0m\u001b[0;34m(\u001b[0m\u001b[0mself\u001b[0m\u001b[0;34m.\u001b[0m\u001b[0mheader\u001b[0m\u001b[0;34m)\u001b[0m \u001b[0;34m!=\u001b[0m \u001b[0mlen\u001b[0m\u001b[0;34m(\u001b[0m\u001b[0mself\u001b[0m\u001b[0;34m.\u001b[0m\u001b[0mcols\u001b[0m\u001b[0;34m)\u001b[0m\u001b[0;34m:\u001b[0m\u001b[0;34m\u001b[0m\u001b[0;34m\u001b[0m\u001b[0m\n\u001b[0;32m--> 213\u001b[0;31m                 raise ValueError(\n\u001b[0m\u001b[1;32m    214\u001b[0m                     \u001b[0;34mf\"Writing {len(self.cols)} cols but got {len(self.header)} aliases\"\u001b[0m\u001b[0;34m\u001b[0m\u001b[0;34m\u001b[0m\u001b[0m\n\u001b[1;32m    215\u001b[0m                 )\n",
            "\u001b[0;31mValueError\u001b[0m: Writing 2 cols but got 3 aliases"
          ]
        }
      ]
    },
    {
      "cell_type": "code",
      "source": [
        "# LeetCode Problems"
      ],
      "metadata": {
        "id": "JJkTEeS9rYdV"
      },
      "execution_count": null,
      "outputs": []
    },
    {
      "cell_type": "code",
      "source": [
        "# Write a solution to select the name and age of the student with student_id = 101\n",
        "\n",
        "'''\n",
        "DataFrame students\n",
        "+-------------+--------+\n",
        "| Column Name | Type   |\n",
        "+-------------+--------+\n",
        "| student_id  | int    |\n",
        "| name        | object |\n",
        "| age         | int    |\n",
        "+-------------+--------+\n",
        "\n",
        "Input:\n",
        "+------------+---------+-----+\n",
        "| student_id | name    | age |\n",
        "+------------+---------+-----+\n",
        "| 101        | Ulysses | 13  |\n",
        "| 53         | William | 10  |\n",
        "| 128        | Henry   | 6   |\n",
        "| 3          | Henry   | 11  |\n",
        "+------------+---------+-----+\n",
        "'''\n",
        "\n",
        "import pandas as pd\n",
        "\n",
        "def selectData(students: pd.DataFrame) -> pd.DataFrame:\n",
        "    student_info=students[students['student_id']==101][['name','age']]\n",
        "    return student_info"
      ],
      "metadata": {
        "id": "0rW6Ag4hsFep"
      },
      "execution_count": null,
      "outputs": []
    },
    {
      "cell_type": "code",
      "source": [],
      "metadata": {
        "id": "2JErFtQeYtky"
      },
      "execution_count": null,
      "outputs": []
    }
  ]
}