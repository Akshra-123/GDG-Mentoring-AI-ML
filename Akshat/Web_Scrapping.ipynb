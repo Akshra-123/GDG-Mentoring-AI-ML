{
  "nbformat": 4,
  "nbformat_minor": 0,
  "metadata": {
    "colab": {
      "provenance": []
    },
    "kernelspec": {
      "name": "python3",
      "display_name": "Python 3"
    },
    "language_info": {
      "name": "python"
    }
  },
  "cells": [
    {
      "cell_type": "code",
      "source": [
        "!pip install requests\n",
        "!pip isntall beutifulsoup4"
      ],
      "metadata": {
        "id": "7I1oYqXC4JzP",
        "colab": {
          "base_uri": "https://localhost:8080/"
        },
        "outputId": "a5d3cd68-b3c4-4a2a-f455-c85cdeacfebe"
      },
      "execution_count": null,
      "outputs": [
        {
          "output_type": "stream",
          "name": "stdout",
          "text": [
            "Requirement already satisfied: requests in /usr/local/lib/python3.10/dist-packages (2.32.3)\n",
            "Requirement already satisfied: charset-normalizer<4,>=2 in /usr/local/lib/python3.10/dist-packages (from requests) (3.4.0)\n",
            "Requirement already satisfied: idna<4,>=2.5 in /usr/local/lib/python3.10/dist-packages (from requests) (3.10)\n",
            "Requirement already satisfied: urllib3<3,>=1.21.1 in /usr/local/lib/python3.10/dist-packages (from requests) (2.2.3)\n",
            "Requirement already satisfied: certifi>=2017.4.17 in /usr/local/lib/python3.10/dist-packages (from requests) (2024.8.30)\n",
            "ERROR: unknown command \"isntall\" - maybe you meant \"install\"\n"
          ]
        }
      ]
    },
    {
      "cell_type": "code",
      "execution_count": null,
      "metadata": {
        "id": "c6ylIWu918-J"
      },
      "outputs": [],
      "source": [
        "url = \"https://www.amazon.in/Samsung-Thunder-Storage-Corning-Gorilla/dp/B0D812G7FL/ref=sr_1_1_sspa?crid=1A4S4K9905H41&dib=eyJ2IjoiMSJ9.VkcI2UoonPAw18HMAtoVoYeiSOJVDmbxNUIJgt6sP0fiec8kgIDYhFawXRbT4IZ-I0FRmj9YoedZ7rRwGcNeqHBtcRbl1A5TtscjQDPNb7HxUegZvO3Tt7W5edqfn53MK3I3mYHBurYl9k95dQdajtzxN_QWScNNjPfj13o1osKYz1s6CFhuvH3IspOI-WEdC82YNHDZ2BxP9CGFEUXFAxOGTi11_3ddQbFVPX7UYfA.QF1Pkso4lCzKbitn9m5p34aAuwrsDgsc9F7P-PrGLZQ&dib_tag=se&keywords=mobile%2Bphones&qid=1732964843&sprefix=mobile%2Bphon%2Caps%2C300&sr=8-1-spons&sp_csd=d2lkZ2V0TmFtZT1zcF9hdGY&th=1\""
      ]
    },
    {
      "cell_type": "code",
      "source": [
        "import requests\n",
        "from bs4 import BeautifulSoup"
      ],
      "metadata": {
        "id": "AjpiCcCR39gH"
      },
      "execution_count": null,
      "outputs": []
    },
    {
      "cell_type": "code",
      "source": [
        "response = requests.get(url)\n",
        "\n",
        "content = BeautifulSoup(response.content,\"html.parser\")\n",
        "print(content)"
      ],
      "metadata": {
        "colab": {
          "base_uri": "https://localhost:8080/"
        },
        "id": "CV8JhWq64gNz",
        "outputId": "326ee836-ad70-4fe0-ed49-14cdc0707166"
      },
      "execution_count": null,
      "outputs": [
        {
          "output_type": "stream",
          "name": "stdout",
          "text": [
            "<html>\n",
            "<head>\n",
            "<meta content=\"text/html;charset=utf-8\" http-equiv=\"Content-Type\"/>\n",
            "<title>503 - Service Unavailable Error</title>\n",
            "<style type=\"text/css\">\n",
            "            a:link { font-family: verdana,arial,helvetica,sans-serif; color: #004B91; }\n",
            "            a:visited { font-family: verdana,arial,helvetica,sans-serif; color: #996633; }\n",
            "            a:active { font-family: verdana,arial,helvetica,sans-serif; color: #FF9933; }\n",
            "        </style>\n",
            "</head>\n",
            "<body bgcolor=\"#FFFFFF\" style=\"font-family: verdana,arial,helvetica,sans-serif;\" text=\"#000000\">\n",
            "<!--\n",
            "            To discuss automated access to Amazon data please contact api-services-support@amazon.com.\n",
            "        -->\n",
            "<center>\n",
            "<a href=\"/ref=cs_503_logo\">\n",
            "<img alt=\"Amazon\" border=\"0\" src=\"https://images-eu.ssl-images-amazon.com/images/G/31/ShoppingPortal/logo._TTD_.png\"/>\n",
            "</a>\n",
            "<table align=\"center\" border=\"0\" style=\"margin-top: 20px;\">\n",
            "<tr>\n",
            "<td>\n",
            "<img border=\"0\" height=\"35\" src=\"https://images-eu.ssl-images-amazon.com/images/G/31/x-locale/common/kailey-kitty._TTD_.gif\" width=\"40\"/>\n",
            "</td>\n",
            "<td>\n",
            "<b style=\"color:#E47911\">We're sorry </b>\n",
            "<br/>\n",
            "                        An error occurred when we tried to process your request.\n",
            "                        <br/><br/>\n",
            "                        we're working on the problem and expect to resolve it shortly. Please note that if you were trying to place an order, it will not have been processed at this time. Please try again later.\n",
            "                        <br/><br/>\n",
            "<img border=\"0\" height=\"9\" src=\"https://images-eu.ssl-images-amazon.com/images/G/31/x-locale/common/orange-arrow._TTD_.gif\" width=\"10\"/>\n",
            "<b><a href=\"/ref=cs_503_link\">Click here to return to the Amazon home page</a></b>\n",
            "</td>\n",
            "</tr>\n",
            "</table>\n",
            "</center>\n",
            "</body>\n",
            "</html>\n",
            "<!-- e8438242 -->\n"
          ]
        }
      ]
    },
    {
      "cell_type": "markdown",
      "source": [],
      "metadata": {
        "id": "esnsqYR01Slo"
      }
    },
    {
      "cell_type": "code",
      "source": [
        "cons=content.select(\"ul.a-unordered-list a-vertical a-spacing-mini\")\n",
        "#son=content.select(\"ul.a-unordered-list.a-vertical.a-spacing-mini > li\"\n",
        "for con in cons:\n",
        "  print(con.text.strip())\n"
      ],
      "metadata": {
        "id": "NZSTwEs04sMy"
      },
      "execution_count": null,
      "outputs": []
    },
    {
      "cell_type": "code",
      "source": [
        "from bs4 import BeautifulSoup\n",
        "import requests\n",
        "\n",
        "url = \"https://www.amazon.in/Samsung-Thunder-Storage-Corning-Gorilla/dp/B0D812G7FL/ref=sr_1_1_sspa?crid=1A4S4K9905H41&dib=eyJ2IjoiMSJ9.VkcI2UoonPAw18HMAtoVoYeiSOJVDmbxNUIJgt6sP0fiec8kgIDYhFawXRbT4IZ-I0FRmj9YoedZ7rRwGcNeqHBtcRbl1A5TtscjQDPNb7HxUegZvO3Tt7W5edqfn53MK3I3mYHBurYl9k95dQdajtzxN_QWScNNjPfj13o1osKYz1s6CFhuvH3IspOI-WEdC82YNHDZ2BxP9CGFEUXFAxOGTi11_3ddQbFVPX7UYfA.QF1Pkso4lCzKbitn9m5p34aAuwrsDgsc9F7P-PrGLZQ&dib_tag=se&keywords=mobile%2Bphones&qid=1732964843&sprefix=mobile%2Bphon%2Caps%2C300&sr=8-1-spons&sp_csd=d2lkZ2V0TmFtZT1zcF9hdGY&th=1\"\n",
        "headers = {\"User-Agent\": \"Mozilla/5.0\"}\n",
        "response = requests.get(url, headers=headers)\n",
        "soup = BeautifulSoup(response.content, \"html.parser\")\n",
        "\n",
        "# Correct selector\n",
        "features = soup.select(\"ul.a-unordered-list.a-vertical.a-spacing-mini\")\n",
        "for feature in features:\n",
        "    print(feature.text.strip())"
      ],
      "metadata": {
        "id": "OhPO66-ZeYeV"
      },
      "execution_count": null,
      "outputs": []
    },
    {
      "cell_type": "code",
      "source": [],
      "metadata": {
        "id": "-KlYIgF92mbt"
      },
      "execution_count": null,
      "outputs": []
    },
    {
      "cell_type": "code",
      "source": [],
      "metadata": {
        "id": "BZgzaZG84AcH"
      },
      "execution_count": null,
      "outputs": []
    }
  ]
}