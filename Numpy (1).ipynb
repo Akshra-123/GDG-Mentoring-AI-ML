{
  "nbformat": 4,
  "nbformat_minor": 0,
  "metadata": {
    "colab": {
      "provenance": []
    },
    "kernelspec": {
      "name": "python3",
      "display_name": "Python 3"
    },
    "language_info": {
      "name": "python"
    }
  },
  "cells": [
    {
      "cell_type": "code",
      "execution_count": null,
      "metadata": {
        "colab": {
          "base_uri": "https://localhost:8080/"
        },
        "id": "UmEXTqkYhD7e",
        "outputId": "9bedf84b-6898-410b-fd32-138cb347b59a"
      },
      "outputs": [
        {
          "output_type": "stream",
          "name": "stdout",
          "text": [
            "[1 2 3 5]\n",
            "<class 'numpy.ndarray'>\n",
            "1.25.2\n"
          ]
        }
      ],
      "source": [
        "# 1 and 2 shell represents the array and list in python\n",
        "import numpy as np\n",
        "x=np.array([1,2,3,5])\n",
        "print(x)\n",
        "print(type(x))\n",
        "print(np.__version__)"
      ]
    },
    {
      "cell_type": "code",
      "source": [
        "y=[1,2,3,4]\n",
        "print(y)\n",
        "print(type(y))\n",
        "\n",
        "# Difference between list and array\n",
        "# same type of values are only allowed in array while a list can accumulate different types"
      ],
      "metadata": {
        "colab": {
          "base_uri": "https://localhost:8080/"
        },
        "id": "X5IzHqayhXEG",
        "outputId": "33d59045-97bf-4b7e-922c-2d3a1dc8546b"
      },
      "execution_count": null,
      "outputs": [
        {
          "output_type": "stream",
          "name": "stdout",
          "text": [
            "[1, 2, 3, 4]\n",
            "<class 'list'>\n"
          ]
        }
      ]
    },
    {
      "cell_type": "code",
      "source": [
        "%%timeit  # it will display the time taken for the execution of the whole code\n",
        "# getting the time difference\n",
        "import numpy as np\n",
        "%timeit x = np.array([1,2,3,4]) # display the time taken by a single line\n",
        "%timeit x = list([1,2,3,4])"
      ],
      "metadata": {
        "colab": {
          "base_uri": "https://localhost:8080/"
        },
        "id": "Y4X_gmaksBpM",
        "outputId": "603171ec-ac5d-49eb-c32b-2241df1ca89e"
      },
      "execution_count": null,
      "outputs": [
        {
          "output_type": "stream",
          "name": "stdout",
          "text": [
            "1.02 µs ± 307 ns per loop (mean ± std. dev. of 7 runs, 1000000 loops each)\n",
            "164 ns ± 5.79 ns per loop (mean ± std. dev. of 7 runs, 1000000 loops each)\n",
            "785 ns ± 6.22 ns per loop (mean ± std. dev. of 7 runs, 1000000 loops each)\n",
            "182 ns ± 39.1 ns per loop (mean ± std. dev. of 7 runs, 10000000 loops each)\n",
            "974 ns ± 321 ns per loop (mean ± std. dev. of 7 runs, 1000000 loops each)\n",
            "181 ns ± 39.7 ns per loop (mean ± std. dev. of 7 runs, 10000000 loops each)\n",
            "996 ns ± 316 ns per loop (mean ± std. dev. of 7 runs, 1000000 loops each)\n",
            "181 ns ± 37.7 ns per loop (mean ± std. dev. of 7 runs, 10000000 loops each)\n",
            "799 ns ± 12.4 ns per loop (mean ± std. dev. of 7 runs, 1000000 loops each)\n",
            "178 ns ± 36.1 ns per loop (mean ± std. dev. of 7 runs, 10000000 loops each)\n",
            "790 ns ± 8.43 ns per loop (mean ± std. dev. of 7 runs, 1000000 loops each)\n",
            "181 ns ± 41 ns per loop (mean ± std. dev. of 7 runs, 10000000 loops each)\n",
            "997 ns ± 313 ns per loop (mean ± std. dev. of 7 runs, 1000000 loops each)\n",
            "180 ns ± 36.1 ns per loop (mean ± std. dev. of 7 runs, 10000000 loops each)\n",
            "925 ns ± 310 ns per loop (mean ± std. dev. of 7 runs, 1000000 loops each)\n",
            "226 ns ± 80.3 ns per loop (mean ± std. dev. of 7 runs, 1000000 loops each)\n",
            "20.1 s ± 4.41 s per loop (mean ± std. dev. of 7 runs, 1 loop each)\n"
          ]
        }
      ]
    },
    {
      "cell_type": "code",
      "source": [
        "x=np.arange(1,9,0.4) # arrange function provides us an array from the starting to the ending point work almost same as range function\n",
        "print(x)\n",
        "\n",
        "# Decimal steps are also allowed in arange while not so in range only integer steps can be taken"
      ],
      "metadata": {
        "colab": {
          "base_uri": "https://localhost:8080/"
        },
        "id": "hhYKlZzpxiem",
        "outputId": "a5483100-b23f-42aa-f63d-602ab17e7153"
      },
      "execution_count": null,
      "outputs": [
        {
          "output_type": "stream",
          "name": "stdout",
          "text": [
            "[1 2 3 4 5 6 7 8]\n"
          ]
        }
      ]
    },
    {
      "cell_type": "code",
      "source": [
        "# Creating numpy array\n",
        "import numpy as np\n",
        "x=np.array([1,2,3,4])\n",
        "print(x)\n",
        "print(type(x))\n",
        "x   # writing x only makes it clear that x is an array"
      ],
      "metadata": {
        "colab": {
          "base_uri": "https://localhost:8080/"
        },
        "id": "jdIDQWgsonSO",
        "outputId": "0adb97b4-684b-496e-d2e0-5e26edabe1f5"
      },
      "execution_count": null,
      "outputs": [
        {
          "output_type": "stream",
          "name": "stdout",
          "text": [
            "[1 2 3 4]\n",
            "<class 'numpy.ndarray'>\n"
          ]
        },
        {
          "output_type": "execute_result",
          "data": {
            "text/plain": [
              "array([1, 2, 3, 4])"
            ]
          },
          "metadata": {},
          "execution_count": 6
        }
      ]
    },
    {
      "cell_type": "code",
      "source": [
        "# we can also directly import array from numpy\n",
        "import numpy as np\n",
        "from numpy import array\n",
        "x=array([1,2,3,4])\n",
        "print(x)"
      ],
      "metadata": {
        "colab": {
          "base_uri": "https://localhost:8080/"
        },
        "id": "h591yChIExpz",
        "outputId": "3e120075-5a4e-480c-bb6f-9e2aa15912e0"
      },
      "execution_count": null,
      "outputs": [
        {
          "output_type": "stream",
          "name": "stdout",
          "text": [
            "[1 2 3 4]\n"
          ]
        }
      ]
    },
    {
      "cell_type": "code",
      "source": [
        " # when we want the user to decide the elements of array\n",
        " import numpy as np\n",
        " l=[]\n",
        " for i in range(1,5):\n",
        "  int_1=int(input(\"Enter no:\")) #if we don't write int here then we will get the input as strings\n",
        "  l.append(int_1)\n",
        "print(np.array(l))"
      ],
      "metadata": {
        "colab": {
          "base_uri": "https://localhost:8080/"
        },
        "id": "ExeUfsiaqppU",
        "outputId": "432102de-6b31-41b5-f4d4-52a46d3b50f7"
      },
      "execution_count": null,
      "outputs": [
        {
          "output_type": "stream",
          "name": "stdout",
          "text": [
            "Enter no:23\n",
            "Enter no:12\n",
            "Enter no:34\n",
            "Enter no:45\n",
            "[23 12 34 45]\n"
          ]
        }
      ]
    },
    {
      "cell_type": "code",
      "source": [
        "# how to get the dimension of the array\n",
        "#for that we will use ndim function\n",
        "import numpy as np\n",
        "x=np.array([1,2,3,4])\n",
        "print(x)\n",
        "print(x.ndim) # it shows the dimension of the array"
      ],
      "metadata": {
        "colab": {
          "base_uri": "https://localhost:8080/"
        },
        "id": "uZW3J8dosSMu",
        "outputId": "1559bf1c-f15f-4c0e-aa14-721839c871d3"
      },
      "execution_count": null,
      "outputs": [
        {
          "output_type": "stream",
          "name": "stdout",
          "text": [
            "[1 2 3 4]\n",
            "1\n"
          ]
        }
      ]
    },
    {
      "cell_type": "code",
      "source": [
        "# Creating 2-D array\n",
        "import numpy as np\n",
        "x=np.array([[1,2,3,4],[2,3,4,5]]) # here we can enter single list also or more than 2 lists but it should be kept in mind that the no of elements in every list must be same\n",
        "y=np.array([[1,2,3,5]])\n",
        "z=np.array([[1,2,3,4],[2,3,4,5],[4,54,4,5]])\n",
        "print(x)\n",
        "print(x.ndim)\n",
        "print(y)\n",
        "print(y.ndim)\n",
        "print(z)\n",
        "print(z.ndim)"
      ],
      "metadata": {
        "colab": {
          "base_uri": "https://localhost:8080/"
        },
        "id": "a8yY3PX2tM4N",
        "outputId": "0f6860a0-02cb-4950-8d9b-e18b010d79e2"
      },
      "execution_count": null,
      "outputs": [
        {
          "output_type": "stream",
          "name": "stdout",
          "text": [
            "[[1 2 3 4]\n",
            " [2 3 4 5]]\n",
            "2\n",
            "[[1 2 3 5]]\n",
            "2\n",
            "[[ 1  2  3  4]\n",
            " [ 2  3  4  5]\n",
            " [ 4 54  4  5]]\n",
            "2\n"
          ]
        }
      ]
    },
    {
      "cell_type": "code",
      "source": [
        "# creating 3D array\n",
        "import numpy as np\n",
        "x=np.array([[1,2,3,4],[5,6,7,8]])\n",
        "print(x)\n",
        "print(x.ndim)"
      ],
      "metadata": {
        "colab": {
          "base_uri": "https://localhost:8080/"
        },
        "id": "jXhr9_VTwZNp",
        "outputId": "0417e1e1-dd9b-4cd7-f44b-f2815b05c8d0"
      },
      "execution_count": null,
      "outputs": [
        {
          "output_type": "stream",
          "name": "stdout",
          "text": [
            "[[1 2 3 4]\n",
            " [5 6 7 8]]\n",
            "2\n"
          ]
        }
      ]
    },
    {
      "cell_type": "code",
      "source": [
        "# creating more dimensional array\n",
        "import numpy as np\n",
        "x=np.array([1,2,3,4] , ndmin=2)\n",
        "print(x)\n",
        "print(x.ndim)\n",
        "print(x.shape)\n",
        "\n",
        "print(np.array([1,2,3,4]))"
      ],
      "metadata": {
        "colab": {
          "base_uri": "https://localhost:8080/"
        },
        "id": "W4cIJ4Bew5gL",
        "outputId": "6e4ddbb0-632e-4804-d859-b69a20e3c4c0"
      },
      "execution_count": null,
      "outputs": [
        {
          "output_type": "stream",
          "name": "stdout",
          "text": [
            "[[1 2 3 4]]\n",
            "2\n",
            "(1, 4)\n",
            "[1 2 3 4]\n"
          ]
        }
      ]
    },
    {
      "cell_type": "code",
      "source": [
        "# Creating array with all elements as 0 with zeros function\n",
        "import numpy as np\n",
        "x=np.zeros(4)\n",
        "print(x)\n",
        "y=np.zeros((3,2)) # the values represent rows and columns respectively\n",
        "print()\n",
        "print(y)\n",
        "print(y.ndim)"
      ],
      "metadata": {
        "colab": {
          "base_uri": "https://localhost:8080/"
        },
        "id": "vAfFKlVnyweL",
        "outputId": "cad637ed-8f75-415f-aff2-e89fc7aad81f"
      },
      "execution_count": null,
      "outputs": [
        {
          "output_type": "stream",
          "name": "stdout",
          "text": [
            "[0. 0. 0. 0.]\n",
            "\n",
            "[[0. 0.]\n",
            " [0. 0.]\n",
            " [0. 0.]]\n",
            "2\n"
          ]
        }
      ]
    },
    {
      "cell_type": "code",
      "source": [
        "# Creating array with all elements as 1 using ones function\n",
        "import numpy as np\n",
        "x=np.ones(2)\n",
        "print(x)\n",
        "y=np.ones((3,4))\n",
        "print(y)\n",
        "print(y.ndim)"
      ],
      "metadata": {
        "colab": {
          "base_uri": "https://localhost:8080/"
        },
        "id": "S8BPmbrpzfp6",
        "outputId": "39dec8a2-7859-4f73-c80a-11d65c302651"
      },
      "execution_count": null,
      "outputs": [
        {
          "output_type": "stream",
          "name": "stdout",
          "text": [
            "[1. 1.]\n",
            "[[1. 1. 1. 1.]\n",
            " [1. 1. 1. 1.]\n",
            " [1. 1. 1. 1.]]\n",
            "2\n"
          ]
        }
      ]
    },
    {
      "cell_type": "code",
      "source": [
        "# Creating an empty array using empty function\n",
        "import numpy as np\n",
        "a=np.empty(3)\n",
        "print(a) # output will be the values already present and empty function will not give any new value"
      ],
      "metadata": {
        "colab": {
          "base_uri": "https://localhost:8080/"
        },
        "id": "SV4AORD809-6",
        "outputId": "6ee48e84-cb2c-401a-eb58-6a6173b8b1da"
      },
      "execution_count": null,
      "outputs": [
        {
          "output_type": "stream",
          "name": "stdout",
          "text": [
            "[1. 1. 1.]\n"
          ]
        }
      ]
    },
    {
      "cell_type": "code",
      "source": [
        "# Creating an array based on range values using arange function\n",
        "import numpy as np\n",
        "x=np.arange(4,12)\n",
        "print(x)\n",
        "print()\n",
        "print(x.ndim)"
      ],
      "metadata": {
        "colab": {
          "base_uri": "https://localhost:8080/"
        },
        "id": "Y-klfTcj-awm",
        "outputId": "ac07ff66-1350-4873-89e0-28b2f9aecddf"
      },
      "execution_count": null,
      "outputs": [
        {
          "output_type": "stream",
          "name": "stdout",
          "text": [
            "[ 4  5  6  7  8  9 10 11]\n",
            "\n",
            "1\n"
          ]
        }
      ]
    },
    {
      "cell_type": "code",
      "source": [
        "# Creating an identity matrix using eye function\n",
        "import numpy as np\n",
        "x=np.eye(4)\n",
        "print(x)"
      ],
      "metadata": {
        "colab": {
          "base_uri": "https://localhost:8080/"
        },
        "id": "Ke8AwfR7Db9S",
        "outputId": "413290f5-66df-42ae-a19d-d22e27af6548"
      },
      "execution_count": null,
      "outputs": [
        {
          "output_type": "stream",
          "name": "stdout",
          "text": [
            "[[1. 0. 0. 0.]\n",
            " [0. 1. 0. 0.]\n",
            " [0. 0. 1. 0.]\n",
            " [0. 0. 0. 1.]]\n"
          ]
        }
      ]
    },
    {
      "cell_type": "code",
      "source": [
        "# creating an array with values that are spaced linearly with specific intervals using linspace function\n",
        "import numpy as np\n",
        "x=np.linspace(1,20,7)\n",
        "print(x)"
      ],
      "metadata": {
        "colab": {
          "base_uri": "https://localhost:8080/"
        },
        "id": "pAKalM8fEwYE",
        "outputId": "fb40b1ad-61ee-44ab-dc98-0967fef48da4"
      },
      "execution_count": null,
      "outputs": [
        {
          "output_type": "stream",
          "name": "stdout",
          "text": [
            "[ 1.          4.16666667  7.33333333 10.5        13.66666667 16.83333333\n",
            " 20.        ]\n"
          ]
        }
      ]
    },
    {
      "cell_type": "code",
      "source": [
        "# Creating numpy array using random function"
      ],
      "metadata": {
        "id": "OcKyfpLLuq3F"
      },
      "execution_count": null,
      "outputs": []
    },
    {
      "cell_type": "code",
      "source": [
        "# (rand function) create a random number between 0 and 1 only  (0,1]\n",
        "import numpy as np\n",
        "#1-D array is created\n",
        "x=np.random.rand(5)\n",
        "print(x)\n",
        "print(x.ndim)\n",
        "#2-D array is created\n",
        "y=np.random.rand(3,4)\n",
        "print(y)\n",
        "print(y.ndim)"
      ],
      "metadata": {
        "colab": {
          "base_uri": "https://localhost:8080/"
        },
        "id": "udDg56jMtwmm",
        "outputId": "ac1c8507-843d-4d0f-dd06-db491c92826e"
      },
      "execution_count": null,
      "outputs": [
        {
          "output_type": "stream",
          "name": "stdout",
          "text": [
            "[1.27656203e-01 6.71361292e-04 4.51844798e-01 5.25837904e-01\n",
            " 9.76193446e-01]\n",
            "1\n",
            "[[0.95321499 0.59276247 0.13487011 0.66329936]\n",
            " [0.07545707 0.42201949 0.95817599 0.84784069]\n",
            " [0.60034355 0.09712127 0.92845495 0.91007845]]\n",
            "2\n"
          ]
        }
      ]
    },
    {
      "cell_type": "code",
      "source": [
        "# (randn function) create a random no very close to 0 may be +ve or -ve\n",
        "import numpy as np\n",
        "x=np.random.randn(5)\n",
        "print(x)\n",
        "print(x.ndim)\n",
        "y=np.random.randn(3,5)\n",
        "print(y)\n",
        "print(y.ndim)"
      ],
      "metadata": {
        "colab": {
          "base_uri": "https://localhost:8080/"
        },
        "id": "2KAGh5vQxRjM",
        "outputId": "e1749460-e83e-4aad-acf6-e4a7071a813e"
      },
      "execution_count": null,
      "outputs": [
        {
          "output_type": "stream",
          "name": "stdout",
          "text": [
            "[-1.18719607  0.35335979 -0.19474105 -1.6272101  -1.52210457]\n",
            "1\n",
            "[[ 0.57531836  0.31926032  1.2686248  -0.81730008  0.01765461]\n",
            " [ 0.55545326  0.27707343 -0.09204834 -1.13165223 -1.68396587]\n",
            " [-0.8086438   0.23746716 -0.62885272 -1.05633799  1.18047822]]\n",
            "2\n"
          ]
        }
      ]
    },
    {
      "cell_type": "code",
      "source": [
        "# (ranf function) generate a random number between 0 and 1 but 1 is not included this time  (0,1)\n",
        "import numpy as np\n",
        "x=np.random.ranf(5)\n",
        "print(x)"
      ],
      "metadata": {
        "colab": {
          "base_uri": "https://localhost:8080/"
        },
        "id": "V5Elizx9ybLk",
        "outputId": "751b0816-191e-4f62-ce05-69371ed18338"
      },
      "execution_count": null,
      "outputs": [
        {
          "output_type": "stream",
          "name": "stdout",
          "text": [
            "[0.71370388 0.72548074 0.60060688 0.21969774 0.25177135]\n"
          ]
        }
      ]
    },
    {
      "cell_type": "code",
      "source": [
        "# (randint function) generate a random number between any two values and we can also specify the number of values that we want in between them\n",
        "x=np.random.randint(2,30,4)\n",
        "# 2 defines the starting value 30 the last value and 4 is the no of values that we want in between these values\n",
        "print(x)\n",
        "print(x.ndim)"
      ],
      "metadata": {
        "colab": {
          "base_uri": "https://localhost:8080/"
        },
        "id": "z8gt6A09zv1e",
        "outputId": "84ce7a20-6512-4420-a5b3-59a78fd1e00c"
      },
      "execution_count": null,
      "outputs": [
        {
          "output_type": "stream",
          "name": "stdout",
          "text": [
            "[15 25 15 22]\n",
            "1\n"
          ]
        }
      ]
    },
    {
      "cell_type": "code",
      "source": [
        "# Determination of Datatype"
      ],
      "metadata": {
        "id": "g05rkbhh6LWH"
      },
      "execution_count": null,
      "outputs": []
    },
    {
      "cell_type": "code",
      "source": [
        "# we use dtype function to determine the data type of array\n",
        "x=np.array([1,2,3,4])\n",
        "print(x.dtype)\n",
        "y=np.array([2,3,4,5.9,5.6])\n",
        "print(y.dtype)\n",
        "z=np.array([\"a\",\"c\",\"d\"])\n",
        "print(z.dtype) # in the output U1 shows string data type"
      ],
      "metadata": {
        "colab": {
          "base_uri": "https://localhost:8080/"
        },
        "id": "LVOYl5vr6LcQ",
        "outputId": "8d852cf3-8a1d-4dc5-8f22-174f4b0558f0"
      },
      "execution_count": null,
      "outputs": [
        {
          "output_type": "stream",
          "name": "stdout",
          "text": [
            "int64\n",
            "float64\n",
            "<U1\n"
          ]
        }
      ]
    },
    {
      "cell_type": "code",
      "source": [
        "# Conversion from one data type to another"
      ],
      "metadata": {
        "id": "xqDU9m8T_cLV"
      },
      "execution_count": null,
      "outputs": []
    },
    {
      "cell_type": "code",
      "source": [
        "import numpy as np\n",
        "x=np.array([1,2,3,4])\n",
        "print(x)\n",
        "x=np.array([1,2,3,4],dtype=np.float64)\n",
        "print(x.dtype)\n",
        "print(x)"
      ],
      "metadata": {
        "colab": {
          "base_uri": "https://localhost:8080/"
        },
        "id": "jQlD5OJB_i52",
        "outputId": "23fa5b61-bbd1-4a02-bdf1-8b0bb88f4a9e"
      },
      "execution_count": null,
      "outputs": [
        {
          "output_type": "stream",
          "name": "stdout",
          "text": [
            "[1 2 3 4]\n",
            "float64\n",
            "[1. 2. 3. 4.]\n"
          ]
        }
      ]
    },
    {
      "cell_type": "code",
      "source": [
        "x=np.array([1,2,3,4],dtype='B')\n",
        "print(x.dtype)\n",
        "print(x) # in the output b represents byte literal"
      ],
      "metadata": {
        "colab": {
          "base_uri": "https://localhost:8080/"
        },
        "id": "DIjUIR67AUz1",
        "outputId": "2869da1f-0a8a-4d18-c938-2acb942a35b6"
      },
      "execution_count": null,
      "outputs": [
        {
          "output_type": "stream",
          "name": "stdout",
          "text": [
            "uint8\n",
            "[1 2 3 4]\n"
          ]
        }
      ]
    },
    {
      "cell_type": "code",
      "source": [
        "# Datatype as function\n",
        "x=np.array([1,2,3,4])\n",
        "print(x)\n",
        "print(x.dtype)\n",
        "print()\n",
        "new=np.float64(x)\n",
        "print(new)\n",
        "print(new.dtype)\n",
        "print()\n",
        "new_1=np.int64(new)\n",
        "print(new_1)\n",
        "print(new_1.dtype)"
      ],
      "metadata": {
        "id": "8CDpS5S8BsTY",
        "colab": {
          "base_uri": "https://localhost:8080/"
        },
        "outputId": "e05a639e-241a-4084-c48a-88c4b952d1d5"
      },
      "execution_count": null,
      "outputs": [
        {
          "output_type": "stream",
          "name": "stdout",
          "text": [
            "[1 2 3 4]\n",
            "int64\n",
            "\n",
            "[1. 2. 3. 4.]\n",
            "float64\n",
            "\n",
            "[1 2 3 4]\n",
            "int64\n"
          ]
        }
      ]
    },
    {
      "cell_type": "code",
      "source": [
        "# using astype function we can do conversion\n",
        "import numpy as np\n",
        "x=np.array([1,2,3,4])\n",
        "print(x)\n",
        "y=x.astype(float)\n",
        "print(y)\n",
        "print(y.dtype)"
      ],
      "metadata": {
        "colab": {
          "base_uri": "https://localhost:8080/"
        },
        "id": "Cp7CGiC1R4C3",
        "outputId": "3ee73566-4a3c-4d11-8454-a91fe003815b"
      },
      "execution_count": null,
      "outputs": [
        {
          "output_type": "stream",
          "name": "stdout",
          "text": [
            "[1 2 3 4]\n",
            "[1. 2. 3. 4.]\n",
            "float64\n"
          ]
        }
      ]
    },
    {
      "cell_type": "code",
      "source": [
        "# Arithmetic operations in Numpy"
      ],
      "metadata": {
        "id": "VDC_nscLS8_o"
      },
      "execution_count": null,
      "outputs": []
    },
    {
      "cell_type": "code",
      "source": [
        "# Addition\n",
        "# To add a particular no to all the elements of an array\n",
        "import numpy as np\n",
        "x=np.array([1,2,3,4])\n",
        "y=x+3\n",
        "print(y)\n",
        "# using function it will be like\n",
        "print()\n",
        "y=np.add(x,3)\n",
        "print(y)\n",
        "# To add two arrays\n",
        "z=np.array([2,4,5,7])\n",
        "s=x+z\n",
        "# it will result in adding the corresponding values\n",
        "print()\n",
        "print(s)\n",
        "# Using function\n",
        "print()\n",
        "y=np.add(x,z)\n",
        "print(y)\n",
        "# for 2D array\n",
        "print()\n",
        "x=np.array([[1,2,3,4],[2,3,4,5]])\n",
        "y=np.array([[2,3,4,5],[5,6,7,8]])\n",
        "z=x+y\n",
        "print(z)"
      ],
      "metadata": {
        "colab": {
          "base_uri": "https://localhost:8080/"
        },
        "id": "wUv7rwosTB_1",
        "outputId": "6a5d5434-d5dd-4007-b0d5-7ebdbfde39dd"
      },
      "execution_count": null,
      "outputs": [
        {
          "output_type": "stream",
          "name": "stdout",
          "text": [
            "[4 5 6 7]\n",
            "\n",
            "[4 5 6 7]\n",
            "\n",
            "[ 3  6  8 11]\n",
            "\n",
            "[ 3  6  8 11]\n",
            "\n",
            "[[ 3  5  7  9]\n",
            " [ 7  9 11 13]]\n"
          ]
        }
      ]
    },
    {
      "cell_type": "code",
      "source": [
        "# Subtraction\n",
        "# To subtract a particular no from all the elements of an array\n",
        "import numpy as np\n",
        "x=np.array([1,2,3,4])\n",
        "y=x-3\n",
        "print(y)\n",
        "# To subtract two arrays\n",
        "z=np.array([2,4,5,7])\n",
        "s=x-z\n",
        "# it will result in subtracting the corresponding values\n",
        "print(s)\n",
        "# using function\n",
        "y=np.subtract(x,z)\n",
        "print(y)\n",
        "print()\n",
        "# for 2D array\n",
        "x=np.array([[1,2,3,4],[2,3,4,5]])\n",
        "y=np.array([[2,3,4,5],[5,6,7,8]])\n",
        "z=x-y\n",
        "print(z)"
      ],
      "metadata": {
        "colab": {
          "base_uri": "https://localhost:8080/"
        },
        "id": "8Ng0BeycUZaY",
        "outputId": "d2f5572a-47ae-4b2a-c122-a09507b49b93"
      },
      "execution_count": null,
      "outputs": [
        {
          "output_type": "stream",
          "name": "stdout",
          "text": [
            "[-2 -1  0  1]\n",
            "[-1 -2 -2 -3]\n",
            "[-1 -2 -2 -3]\n",
            "\n",
            "[[-1 -1 -1 -1]\n",
            " [-3 -3 -3 -3]]\n"
          ]
        }
      ]
    },
    {
      "cell_type": "code",
      "source": [
        "# Multiplication\n",
        "# To multiply particular no to all the elements of an array\n",
        "import numpy as np\n",
        "x=np.array([1,2,3,4])\n",
        "y=x*3\n",
        "print(y)\n",
        "# To multiply two arrays\n",
        "z=np.array([2,4,5,7])\n",
        "s=x*z\n",
        "# it will result in multiplying the corresponding values\n",
        "print(s)\n",
        "# using function\n",
        "y=np.multiply(x,z)\n",
        "print(y)\n",
        "# for 2D array\n",
        "print()\n",
        "x=np.array([[1,2,3,4],[2,3,4,5]])\n",
        "y=np.array([[2,3,4,5],[5,6,7,8]])\n",
        "z=x*y\n",
        "print(z)"
      ],
      "metadata": {
        "colab": {
          "base_uri": "https://localhost:8080/"
        },
        "id": "GP2r86QUUsYr",
        "outputId": "20e29b0a-08b7-430e-c79a-f3176988cf1e"
      },
      "execution_count": null,
      "outputs": [
        {
          "output_type": "stream",
          "name": "stdout",
          "text": [
            "[ 3  6  9 12]\n",
            "[ 2  8 15 28]\n",
            "[ 2  8 15 28]\n",
            "\n",
            "[[ 2  6 12 20]\n",
            " [10 18 28 40]]\n"
          ]
        }
      ]
    },
    {
      "cell_type": "code",
      "source": [
        "# Division\n",
        "# To divide a particular no from all the elements of an array\n",
        "import numpy as np\n",
        "x=np.array([3,6,9,12])\n",
        "y=x/3\n",
        "print(y)\n",
        "# To divide two arrays\n",
        "z=np.array([1,2,3,4])\n",
        "s=x/z\n",
        "# it will result in dividing the corresponding values\n",
        "print(s)\n",
        "# using function\n",
        "y=np.divide(x,z)\n",
        "print(y)\n",
        "# for 2D array\n",
        "print()\n",
        "x=np.array([[1,2,3,4],[2,3,4,5]])\n",
        "y=np.array([[2,3,4,5],[5,6,7,8]])\n",
        "z=x/y\n",
        "print(z)"
      ],
      "metadata": {
        "colab": {
          "base_uri": "https://localhost:8080/"
        },
        "id": "cKqFJrs2U_4j",
        "outputId": "6a4ce7b3-2543-4103-ece5-2fe1df3c2c2f"
      },
      "execution_count": null,
      "outputs": [
        {
          "output_type": "stream",
          "name": "stdout",
          "text": [
            "[1. 2. 3. 4.]\n",
            "[3. 3. 3. 3.]\n",
            "[3. 3. 3. 3.]\n",
            "\n",
            "[[0.5        0.66666667 0.75       0.8       ]\n",
            " [0.4        0.5        0.57142857 0.625     ]]\n"
          ]
        }
      ]
    },
    {
      "cell_type": "code",
      "source": [
        "# modulus\n",
        "# To divide a particular no from all the elements of an array and giving the remainder\n",
        "import numpy as np\n",
        "x=np.array([1,2,3,4])\n",
        "y=x%3\n",
        "print(y)\n",
        "# To divide two arrays and produce the remainder\n",
        "z=np.array([4,5,6,7])\n",
        "s=x%z\n",
        "# it will result in dividing the corresponding values and then producing the remainder\n",
        "print(s)\n",
        "# using function\n",
        "y=np.mod(x,z)\n",
        "print(y)\n",
        "# for 2D array\n",
        "print()\n",
        "x=np.array([[1,2,3,4],[2,3,4,5]])\n",
        "y=np.array([[2,3,4,5],[5,6,7,8]])\n",
        "z=x%y\n",
        "print(z)"
      ],
      "metadata": {
        "colab": {
          "base_uri": "https://localhost:8080/"
        },
        "id": "BzbUyewwV7A-",
        "outputId": "16a0aa03-a089-4dad-f315-e4a06ef5bb78"
      },
      "execution_count": null,
      "outputs": [
        {
          "output_type": "stream",
          "name": "stdout",
          "text": [
            "[1 2 0 1]\n",
            "[1 2 3 4]\n",
            "[1 2 3 4]\n",
            "\n",
            "[[1 2 3 4]\n",
            " [2 3 4 5]]\n"
          ]
        }
      ]
    },
    {
      "cell_type": "code",
      "source": [
        "# Power\n",
        "# To raise to the power of each element with a particular number\n",
        "import numpy as np\n",
        "x=np.array([3,6,9,12])\n",
        "y=x**3\n",
        "print(y)\n",
        "# for two arrays\n",
        "z=np.array([1,2,3,4])\n",
        "s=x**z\n",
        "# it will raise to the power to each corresponding element\n",
        "print(s)\n",
        "# using function\n",
        "y=np.power(x,z)\n",
        "print(y)\n",
        "# for 2D array\n",
        "print()\n",
        "x=np.array([[1,2,3,4],[2,3,4,5]])\n",
        "y=np.array([[2,3,4,5],[5,6,7,8]])\n",
        "z=x**y\n",
        "print(z)"
      ],
      "metadata": {
        "id": "nHtjo-fMWZTg",
        "colab": {
          "base_uri": "https://localhost:8080/"
        },
        "outputId": "646b75b2-af76-44e7-d2d1-5caaccf3b899"
      },
      "execution_count": null,
      "outputs": [
        {
          "output_type": "stream",
          "name": "stdout",
          "text": [
            "[  27  216  729 1728]\n",
            "[    3    36   729 20736]\n",
            "[    3    36   729 20736]\n",
            "\n",
            "[[     1      8     81   1024]\n",
            " [    32    729  16384 390625]]\n"
          ]
        }
      ]
    },
    {
      "cell_type": "code",
      "source": [
        "# Reciprocal\n",
        "import numpy as np\n",
        "x=np.array([3,6,9,12])\n",
        "y=1/x\n",
        "print(y)\n",
        "z=np.array([1,2,3,4])\n",
        "s=x/z\n",
        "t=1/s\n",
        "print(t)\n",
        "# using function\n",
        "y=np.reciprocal(s)\n",
        "print(y)\n",
        "# for 2D array\n",
        "print()\n",
        "x=np.array([[1,2,3,4],[2,3,4,5]])\n",
        "y=np.array([[2,3,4,5],[5,6,7,8]])\n",
        "z=x/y\n",
        "t=1/z\n",
        "print(t)"
      ],
      "metadata": {
        "colab": {
          "base_uri": "https://localhost:8080/"
        },
        "id": "AdgTiYGGZP-n",
        "outputId": "4c616164-e9da-4faa-c864-35e04c319311"
      },
      "execution_count": null,
      "outputs": [
        {
          "output_type": "stream",
          "name": "stdout",
          "text": [
            "[0.33333333 0.16666667 0.11111111 0.08333333]\n",
            "[0.33333333 0.33333333 0.33333333 0.33333333]\n",
            "[0.33333333 0.33333333 0.33333333 0.33333333]\n",
            "\n",
            "[[2.         1.5        1.33333333 1.25      ]\n",
            " [2.5        2.         1.75       1.6       ]]\n"
          ]
        }
      ]
    },
    {
      "cell_type": "code",
      "source": [
        "# Arithmetic Functions"
      ],
      "metadata": {
        "id": "-tYUij1oq4iF"
      },
      "execution_count": null,
      "outputs": []
    },
    {
      "cell_type": "code",
      "source": [
        "import numpy as np\n",
        "x=np.array([1,2,3,4])\n",
        "# max function\n",
        "print(np.max(x))\n",
        "# for 2D array\n",
        "y=np.array([[1,2,3],[3,4,5]])\n",
        "print(np.max(y,axis=1))\n",
        "print(np.max(y,axis=0))\n",
        "# min function\n",
        "print(np.min(x))\n",
        "# for 2D array\n",
        "print(np.min(y,axis=1))\n",
        "print(np.min(y,axis=0))\n",
        "# sqrt function\n",
        "z=np.array([1,4,9,16],dtype='i')\n",
        "print(np.sqrt(z))\n",
        "print(np.sqrt(y))\n",
        "# sin function\n",
        "print(np.sin(z))\n",
        "print(np.sin(y))\n",
        "# cos function\n",
        "print(np.cos(z))\n",
        "print(np.cos(y))\n",
        "# cumsum function (cumulative sum i.e. it is almost same as fibonacci series)\n",
        "print(np.cumsum(z))\n",
        "print(np.cumsum(y))"
      ],
      "metadata": {
        "id": "eLaxN6ik8XvU",
        "colab": {
          "base_uri": "https://localhost:8080/"
        },
        "outputId": "2fcbd9e3-eec7-4f97-ca1e-37eb472f90f0"
      },
      "execution_count": null,
      "outputs": [
        {
          "output_type": "stream",
          "name": "stdout",
          "text": [
            "4\n",
            "[3 5]\n",
            "[3 4 5]\n",
            "1\n",
            "[1 3]\n",
            "[1 2 3]\n",
            "[1. 2. 3. 4.]\n",
            "[[1.         1.41421356 1.73205081]\n",
            " [1.73205081 2.         2.23606798]]\n",
            "[ 0.84147098 -0.7568025   0.41211849 -0.28790332]\n",
            "[[ 0.84147098  0.90929743  0.14112001]\n",
            " [ 0.14112001 -0.7568025  -0.95892427]]\n",
            "[ 0.54030231 -0.65364362 -0.91113026 -0.95765948]\n",
            "[[ 0.54030231 -0.41614684 -0.9899925 ]\n",
            " [-0.9899925  -0.65364362  0.28366219]]\n",
            "[ 1  5 14 30]\n",
            "[ 1  3  6  9 13 18]\n"
          ]
        }
      ]
    },
    {
      "cell_type": "code",
      "source": [
        "# To get the position of maximum and minimum value we use argmin and argmax function respectively\n",
        "import numpy as np\n",
        "x=np.array([1,2,3,4])\n",
        "print(np.argmax(x))\n",
        "print(np.argmin(x))\n"
      ],
      "metadata": {
        "colab": {
          "base_uri": "https://localhost:8080/"
        },
        "id": "fNVzUx2WsZ3m",
        "outputId": "96e3bbaf-66ac-43c4-8500-4ab4a6b8e765"
      },
      "execution_count": null,
      "outputs": [
        {
          "output_type": "stream",
          "name": "stdout",
          "text": [
            "3\n",
            "0\n"
          ]
        }
      ]
    },
    {
      "cell_type": "code",
      "source": [
        " #shape and reshape of numpy array"
      ],
      "metadata": {
        "id": "13hTQyQDEn9k"
      },
      "execution_count": null,
      "outputs": []
    },
    {
      "cell_type": "code",
      "source": [
        "# Shape function\n",
        "import numpy as np\n",
        "x=np.array([[1,2,3,4],[2,3,4,5]])\n",
        "print(x)\n",
        "print(x.shape)\n",
        "# for multidimensional array\n",
        "y=np.array([1,2,3,4],ndmin=12)\n",
        "print(y)\n",
        "print(y.shape)"
      ],
      "metadata": {
        "colab": {
          "base_uri": "https://localhost:8080/"
        },
        "id": "Ki1mJihtE3Jv",
        "outputId": "3aad3bfc-f049-48e2-e63c-96e5e8103fdb"
      },
      "execution_count": null,
      "outputs": [
        {
          "output_type": "stream",
          "name": "stdout",
          "text": [
            "[[1 2 3 4]\n",
            " [2 3 4 5]]\n",
            "(2, 4)\n",
            "[[[[[[[[[[[[1 2 3 4]]]]]]]]]]]]\n",
            "(1, 1, 1, 1, 1, 1, 1, 1, 1, 1, 1, 4)\n"
          ]
        }
      ]
    },
    {
      "cell_type": "code",
      "source": [
        "# reshape function\n",
        "import numpy as np\n",
        "x=np.array([1,2,3,4])\n",
        "print(x.reshape(2,2))\n",
        "print()\n",
        "# for 3D array\n",
        "y=np.array([1,2,3,4,5,6,1,2,3,4,5,6])\n",
        "# first two represents the no of rows that are being separated out here second 2 represents the no. of rows inside each row and 3 represents no of elements in each row\n",
        "z=y.reshape(2,2,3)\n",
        "print(z)\n",
        "# Converting to 1D array\n",
        "print()\n",
        "print(z.reshape(-1))"
      ],
      "metadata": {
        "colab": {
          "base_uri": "https://localhost:8080/"
        },
        "id": "3gEJhr50H4ki",
        "outputId": "8cd9ae77-9530-4202-bbb3-92026c0e5f43"
      },
      "execution_count": null,
      "outputs": [
        {
          "output_type": "stream",
          "name": "stdout",
          "text": [
            "[[1 2]\n",
            " [3 4]]\n",
            "\n",
            "[[[1 2 3]\n",
            "  [4 5 6]]\n",
            "\n",
            " [[1 2 3]\n",
            "  [4 5 6]]]\n",
            "\n",
            "[1 2 3 4 5 6 1 2 3 4 5 6]\n"
          ]
        }
      ]
    },
    {
      "cell_type": "code",
      "source": [
        "\"\"\"Broadcasting\n",
        "when we try to add two arrays not having same dimensions we get broadcast error and to solve that there are two conditions either we should\n",
        "make the dimensions equal or compare them and if both have one 1 then the condition of broadcasting is applicable\n",
        "__ the arrays will be of the dimension of the number other than 1 eg:- the arrays are of 1*3 and 3*1 then the final array will be of 3*3\"\"\""
      ],
      "metadata": {
        "id": "m8i3Qn3jYKa6"
      },
      "execution_count": null,
      "outputs": []
    },
    {
      "cell_type": "code",
      "source": [
        "import numpy as np\n",
        "x=np.array([1,2,3,4,6])\n",
        "print(x)\n",
        "y=np.array([[1],[2],[3]])\n",
        "print()\n",
        "print(y)\n",
        "print()\n",
        "print(x+y)"
      ],
      "metadata": {
        "colab": {
          "base_uri": "https://localhost:8080/"
        },
        "id": "8WyzwBnCa1y-",
        "outputId": "d4b87f3a-222b-4d68-f57a-e81dc0cbfd78"
      },
      "execution_count": null,
      "outputs": [
        {
          "output_type": "stream",
          "name": "stdout",
          "text": [
            "[1 2 3 4 6]\n",
            "\n",
            "[[1]\n",
            " [2]\n",
            " [3]]\n",
            "\n",
            "[[2 3 4 5 7]\n",
            " [3 4 5 6 8]\n",
            " [4 5 6 7 9]]\n"
          ]
        }
      ]
    },
    {
      "cell_type": "code",
      "source": [
        "# indexing"
      ],
      "metadata": {
        "id": "EXW3GranMVap"
      },
      "execution_count": null,
      "outputs": []
    },
    {
      "cell_type": "code",
      "source": [
        "# for 1-D\n",
        "import numpy as np\n",
        "x=np.array([1,2,3,4])\n",
        "print(x[1])\n",
        "# -ve indexing\n",
        "print(x[-2])\n",
        "# for 2-D\n",
        "y=np.array([[1,2,3,4],[5,6,7,8]])\n",
        "print(y[0,3])\n",
        "# -ve indexing\n",
        "print(y[-1,-3])\n",
        "# for 3-D\n",
        "z=np.array([[[1,2,3,4],[6,7,8,9]],[[4,3,2,1],[5,6,7,8]]])\n",
        "print(z[1,0,1])\n",
        "# -ve indexing\n",
        "print(z[-1,-1,-1])\n"
      ],
      "metadata": {
        "colab": {
          "base_uri": "https://localhost:8080/"
        },
        "id": "9gyZIrbFMXQE",
        "outputId": "f263bc10-b28a-432e-8141-b1050d7585d3"
      },
      "execution_count": null,
      "outputs": [
        {
          "output_type": "stream",
          "name": "stdout",
          "text": [
            "2\n",
            "3\n",
            "4\n",
            "6\n",
            "3\n",
            "8\n"
          ]
        }
      ]
    },
    {
      "cell_type": "code",
      "source": [
        "# Slicing"
      ],
      "metadata": {
        "id": "OCeZTymUPZvu"
      },
      "execution_count": null,
      "outputs": []
    },
    {
      "cell_type": "code",
      "source": [
        "# For 1-D\n",
        "import numpy as np\n",
        "x=np.array([1,2,3,4])\n",
        "print(x[1:3])\n",
        "print(x[-3:-1])\n",
        "print(x[1:])\n",
        "print(x[:2])\n",
        "# taking more than one step\n",
        "print(x[::2])\n",
        "print(x[1::2])\n",
        "# for 2-D\n",
        "y=np.array([[1,2,3,4],[5,6,7,8],[9,8,7,6]])\n",
        "print(y[1,1:])\n",
        "print(y[-1,1:])\n",
        "print(y[1,0:4:2])\n",
        "# for 3-D\n",
        "z=np.array([[[1,2,3,4],[5,6,7,8],[9,7,6,5]]])\n",
        "print(z)\n",
        "print()\n",
        "print()\n",
        "print()\n",
        "print()\n",
        "print()\n",
        "print(z[0,1,:2])\n",
        "print(z[-1,-2,1:])\n",
        "print(z[0,1,0:4:2])\n",
        "# to grab everything in the slice\n",
        "print(z[:])\n",
        "# we can also change the value\n",
        "z[:]=44\n",
        "print(z)\n",
        "# if we want to have a sub-array in output\n",
        "print(z[1:,:2])"
      ],
      "metadata": {
        "colab": {
          "base_uri": "https://localhost:8080/"
        },
        "id": "BIHaL_WcPZ_6",
        "outputId": "7ab68bc0-8539-46da-dbfb-ef3660822be8"
      },
      "execution_count": null,
      "outputs": [
        {
          "output_type": "stream",
          "name": "stdout",
          "text": [
            "[2 3]\n",
            "[2 3]\n",
            "[2 3 4]\n",
            "[1 2]\n",
            "[1 3]\n",
            "[2 4]\n",
            "[6 7 8]\n",
            "[8 7 6]\n",
            "[5 7]\n",
            "[[[1 2 3 4]\n",
            "  [5 6 7 8]\n",
            "  [9 7 6 5]]]\n",
            "\n",
            "\n",
            "\n",
            "\n",
            "\n",
            "[5 6]\n",
            "[6 7 8]\n",
            "[5 7]\n",
            "[[[1 2 3 4]\n",
            "  [5 6 7 8]\n",
            "  [9 7 6 5]]]\n",
            "[[[44 44 44 44]\n",
            "  [44 44 44 44]\n",
            "  [44 44 44 44]]]\n",
            "[]\n"
          ]
        }
      ]
    },
    {
      "cell_type": "code",
      "source": [
        "#Iteration"
      ],
      "metadata": {
        "id": "17gIcjmWUFR-"
      },
      "execution_count": null,
      "outputs": []
    },
    {
      "cell_type": "code",
      "source": [
        "# 1-D\n",
        "import numpy as np\n",
        "x=np.array([1,2,3,4])\n",
        "for i in x:\n",
        "  print(i)"
      ],
      "metadata": {
        "colab": {
          "base_uri": "https://localhost:8080/"
        },
        "id": "agPafv9hUGzf",
        "outputId": "77966494-bdda-41ef-b771-e82b7b057f3b"
      },
      "execution_count": null,
      "outputs": [
        {
          "output_type": "stream",
          "name": "stdout",
          "text": [
            "1\n",
            "2\n",
            "3\n",
            "4\n"
          ]
        }
      ]
    },
    {
      "cell_type": "code",
      "source": [
        "# 2-D\n",
        "import numpy as np\n",
        "x=np.array([[1,2,3,4],[4,5,6,7]])\n",
        "for i in x :\n",
        "  print(i)\n",
        "print()\n",
        "for j in x:\n",
        "  for k in j:\n",
        "    print(k)"
      ],
      "metadata": {
        "colab": {
          "base_uri": "https://localhost:8080/"
        },
        "id": "BMluGRJUURoI",
        "outputId": "6b3e8312-e2cb-4993-c977-d56cd08f3162"
      },
      "execution_count": null,
      "outputs": [
        {
          "output_type": "stream",
          "name": "stdout",
          "text": [
            "[1 2 3 4]\n",
            "[4 5 6 7]\n",
            "\n",
            "1\n",
            "2\n",
            "3\n",
            "4\n",
            "4\n",
            "5\n",
            "6\n",
            "7\n"
          ]
        }
      ]
    },
    {
      "cell_type": "code",
      "source": [
        "# 3-D\n",
        "import numpy as np\n",
        "x=np.array([[[1,2,3,4],[5,6,7,8]]])\n",
        "for i in x:\n",
        "  print(i)\n",
        "print()\n",
        "for j in x:\n",
        "  for k in j:\n",
        "    print(k)\n",
        "print()\n",
        "for i in x:\n",
        "  for j in i:\n",
        "    for k in j:\n",
        "      print(k)"
      ],
      "metadata": {
        "colab": {
          "base_uri": "https://localhost:8080/"
        },
        "id": "9BvETLwsUplC",
        "outputId": "1fb64300-2c97-4f2f-983d-5c2a8bea6fad"
      },
      "execution_count": null,
      "outputs": [
        {
          "output_type": "stream",
          "name": "stdout",
          "text": [
            "[[1 2 3 4]\n",
            " [5 6 7 8]]\n",
            "\n",
            "[1 2 3 4]\n",
            "[5 6 7 8]\n",
            "\n",
            "1\n",
            "2\n",
            "3\n",
            "4\n",
            "5\n",
            "6\n",
            "7\n",
            "8\n"
          ]
        }
      ]
    },
    {
      "cell_type": "code",
      "source": [
        "# to reduce time complexity use nditer function\n",
        "import numpy as np\n",
        "x=np.array([[1,2,3,4],[2,3,4,5]])\n",
        "for i in np.nditer(x):\n",
        "  print(i)"
      ],
      "metadata": {
        "colab": {
          "base_uri": "https://localhost:8080/"
        },
        "id": "V-gA-ufnWiHD",
        "outputId": "40026c0e-d6be-4efd-e05b-898be9f563dc"
      },
      "execution_count": null,
      "outputs": [
        {
          "output_type": "stream",
          "name": "stdout",
          "text": [
            "1\n",
            "2\n",
            "3\n",
            "4\n",
            "2\n",
            "3\n",
            "4\n",
            "5\n"
          ]
        }
      ]
    },
    {
      "cell_type": "code",
      "source": [
        "# using flags to store data and the required data type to be string\n",
        "import numpy as np\n",
        "x=np.array([1,2,3,4])\n",
        "for i in np.nditer(x,flags=['buffered'],op_dtypes=['S']):\n",
        "  print(i)\n",
        "# in the output b shows byte format\n",
        "\n"
      ],
      "metadata": {
        "colab": {
          "base_uri": "https://localhost:8080/"
        },
        "id": "JC4pIAWipxg_",
        "outputId": "bfeab6cc-4a37-412e-bcf7-ce8dfcc7d7af"
      },
      "execution_count": null,
      "outputs": [
        {
          "output_type": "stream",
          "name": "stdout",
          "text": [
            "b'1'\n",
            "b'2'\n",
            "b'3'\n",
            "b'4'\n"
          ]
        }
      ]
    },
    {
      "cell_type": "code",
      "source": [
        "# to get the index along with the data\n",
        "import numpy as np\n",
        "x=np.array([[1,2,3,4],[5,6,7,8]])\n",
        "for i,d in np.ndenumerate(x):\n",
        "  print(i,d)"
      ],
      "metadata": {
        "colab": {
          "base_uri": "https://localhost:8080/"
        },
        "id": "UrZa3XLvtN8n",
        "outputId": "7820613c-e5b4-41de-8953-7324e8d8458d"
      },
      "execution_count": null,
      "outputs": [
        {
          "output_type": "stream",
          "name": "stdout",
          "text": [
            "(0, 0) 1\n",
            "(0, 1) 2\n",
            "(0, 2) 3\n",
            "(0, 3) 4\n",
            "(1, 0) 5\n",
            "(1, 1) 6\n",
            "(1, 2) 7\n",
            "(1, 3) 8\n"
          ]
        }
      ]
    },
    {
      "cell_type": "code",
      "source": [
        "# Copy v/s View"
      ],
      "metadata": {
        "id": "CD9kPIy3ur_n"
      },
      "execution_count": null,
      "outputs": []
    },
    {
      "cell_type": "code",
      "source": [
        "# Copy\n",
        "import numpy as np\n",
        "x=np.array([1,2,3,4])\n",
        "co=x.copy()\n",
        "co[2]=5\n",
        "print(\"var:\" , x)\n",
        "print(\"copy:\" , co)"
      ],
      "metadata": {
        "colab": {
          "base_uri": "https://localhost:8080/"
        },
        "id": "d3xW_RBpl3qH",
        "outputId": "8850929a-3be0-4cb8-f067-bf445def696d"
      },
      "execution_count": null,
      "outputs": [
        {
          "output_type": "stream",
          "name": "stdout",
          "text": [
            "var: [1 2 3 4]\n",
            "copy: [1 2 5 4]\n"
          ]
        }
      ]
    },
    {
      "cell_type": "code",
      "source": [
        "# View\n",
        "import numpy as np\n",
        "x=np.array([1,2,3,4])\n",
        "vi=x.view()\n",
        "x[2]=5\n",
        "print(\"view:\" , vi)\n",
        "\n",
        "# Difference between copy and view\n",
        "# when made changes using copy the original array does not get affected while in view the original array gets affected only"
      ],
      "metadata": {
        "colab": {
          "base_uri": "https://localhost:8080/"
        },
        "id": "wARCyzfAnoHo",
        "outputId": "a4abbbe1-a9df-49b4-abdd-18fcd72e9843"
      },
      "execution_count": null,
      "outputs": [
        {
          "output_type": "stream",
          "name": "stdout",
          "text": [
            "view: [1 2 5 4]\n"
          ]
        }
      ]
    },
    {
      "cell_type": "code",
      "source": [
        "# To join two arrays using concatenate and stack function and make a new array"
      ],
      "metadata": {
        "id": "a4mA3bFxs2pJ"
      },
      "execution_count": null,
      "outputs": []
    },
    {
      "cell_type": "code",
      "source": [
        "# for 1-D\n",
        "import numpy as np\n",
        "x=np.array([1,2,3,4])\n",
        "y=np.array([5,6,7,8])\n",
        "z=np.concatenate((x,y))\n",
        "print(z)\n",
        "# for 2-D\n",
        "a=np.array([[[1,2],[3,4]]])\n",
        "b=np.array([[[5,6],[7,8]]])\n",
        "c=np.concatenate((a,b),axis=0)\n",
        "print()\n",
        "print(c)\n",
        "d=np.concatenate((a,b),axis=1)\n",
        "print()\n",
        "print(d)\n",
        "print()\n",
        "\n",
        "f=np.concatenate((a,b),axis=2)\n",
        "print(f)\n",
        "print()\n",
        "\n",
        "g=np.concatenate((a,b),axis=0)\n",
        "print(g)"
      ],
      "metadata": {
        "colab": {
          "base_uri": "https://localhost:8080/"
        },
        "id": "iuOxzFU-s9dL",
        "outputId": "a83fc74d-6855-4371-b9fe-493ffc6ea59d"
      },
      "execution_count": null,
      "outputs": [
        {
          "output_type": "stream",
          "name": "stdout",
          "text": [
            "[1 2 3 4 5 6 7 8]\n",
            "\n",
            "[[[1 2]\n",
            "  [3 4]]\n",
            "\n",
            " [[5 6]\n",
            "  [7 8]]]\n",
            "\n",
            "[[[1 2]\n",
            "  [3 4]\n",
            "  [5 6]\n",
            "  [7 8]]]\n",
            "\n",
            "[[[1 2 5 6]\n",
            "  [3 4 7 8]]]\n",
            "\n",
            "[[[1 2]\n",
            "  [3 4]]\n",
            "\n",
            " [[5 6]\n",
            "  [7 8]]]\n"
          ]
        }
      ]
    },
    {
      "cell_type": "code",
      "source": [
        "# Stack function\n",
        "import numpy as np\n",
        "x=np.array([[1,2],[3,4]])\n",
        "y=np.array([[5,6],[7,8]])\n",
        "z=np.stack((x,y),axis=1)\n",
        "print(z)\n",
        "a=np.stack((x,y),axis=0)\n",
        "print()\n",
        "print()\n",
        "print(a)\n",
        "\n",
        "# Difference between concatenate and stack"
      ],
      "metadata": {
        "colab": {
          "base_uri": "https://localhost:8080/"
        },
        "id": "1Al6Exq5zz5Q",
        "outputId": "68d3eb74-c7c8-490e-d38f-85804840465d"
      },
      "execution_count": null,
      "outputs": [
        {
          "output_type": "stream",
          "name": "stdout",
          "text": [
            "[[[1 2]\n",
            "  [5 6]]\n",
            "\n",
            " [[3 4]\n",
            "  [7 8]]]\n",
            "\n",
            "\n",
            "[[[1 2]\n",
            "  [3 4]]\n",
            "\n",
            " [[5 6]\n",
            "  [7 8]]]\n"
          ]
        }
      ]
    },
    {
      "cell_type": "code",
      "source": [
        "# hstack function for joining along row\n",
        "import numpy as np\n",
        "x=np.array([[1,2],[3,4]])\n",
        "y=np.array([[5,6],[7,8]])\n",
        "z=np.hstack((x,y))\n",
        "print(z)"
      ],
      "metadata": {
        "colab": {
          "base_uri": "https://localhost:8080/"
        },
        "id": "5HTEgNkU1skq",
        "outputId": "3bd4ead1-6e08-49a4-aa26-fdafb3ce61d5"
      },
      "execution_count": null,
      "outputs": [
        {
          "output_type": "stream",
          "name": "stdout",
          "text": [
            "[[1 2 5 6]\n",
            " [3 4 7 8]]\n"
          ]
        }
      ]
    },
    {
      "cell_type": "code",
      "source": [
        "# vstack function for joining along column\n",
        "import numpy as np\n",
        "x=np.array([[1,2],[3,4]])\n",
        "y=np.array([[5,6],[7,8]])\n",
        "z=np.vstack((x,y))\n",
        "print(z)"
      ],
      "metadata": {
        "colab": {
          "base_uri": "https://localhost:8080/"
        },
        "id": "xBmdVoVa2NjZ",
        "outputId": "97dec36a-ab11-4d6d-d7d1-b8fb283f841d"
      },
      "execution_count": null,
      "outputs": [
        {
          "output_type": "stream",
          "name": "stdout",
          "text": [
            "[[1 2]\n",
            " [3 4]\n",
            " [5 6]\n",
            " [7 8]]\n"
          ]
        }
      ]
    },
    {
      "cell_type": "code",
      "source": [
        "# dstack function for joining along height\n",
        "import numpy as np\n",
        "x=np.array([[1,2],[3,4]])\n",
        "y=np.array([[5,6],[7,8]])\n",
        "z=np.dstack((x,y))\n",
        "print(z)"
      ],
      "metadata": {
        "colab": {
          "base_uri": "https://localhost:8080/"
        },
        "id": "wMDwFvoE2ZkV",
        "outputId": "15051581-11e1-40bb-8bb5-edbbddbb43d5"
      },
      "execution_count": null,
      "outputs": [
        {
          "output_type": "stream",
          "name": "stdout",
          "text": [
            "[[[1 5]\n",
            "  [2 6]]\n",
            "\n",
            " [[3 7]\n",
            "  [4 8]]]\n"
          ]
        }
      ]
    },
    {
      "cell_type": "code",
      "source": [
        "# split function"
      ],
      "metadata": {
        "id": "45mj4Ytl3YGy"
      },
      "execution_count": null,
      "outputs": []
    },
    {
      "cell_type": "code",
      "source": [
        "# for 1-D\n",
        "import numpy as np\n",
        "x=np.array([1,2,3,4,5,6])\n",
        "y=np.split(x,3)\n",
        "print(y)\n",
        "print(type(y))\n",
        "print(y[2])"
      ],
      "metadata": {
        "colab": {
          "base_uri": "https://localhost:8080/"
        },
        "id": "qacArfWP3bPD",
        "outputId": "4e4e9dbb-f369-45cc-8a95-165bf8f74202"
      },
      "execution_count": null,
      "outputs": [
        {
          "output_type": "stream",
          "name": "stdout",
          "text": [
            "[array([1, 2]), array([3, 4]), array([5, 6])]\n",
            "<class 'list'>\n",
            "[5 6]\n"
          ]
        }
      ]
    },
    {
      "cell_type": "code",
      "source": [
        "# for 2-D\n",
        "import numpy as np\n",
        "x=np.array([[1,2],[3,4],[5,6],[3,5],[6,7],[1,9]])\n",
        "y=np.split(x,2, axis = 1)\n",
        "print(y)"
      ],
      "metadata": {
        "id": "YZoqcF4U4rav",
        "colab": {
          "base_uri": "https://localhost:8080/"
        },
        "outputId": "4da9dc52-5f01-4d2d-daaf-8960c67a7983"
      },
      "execution_count": null,
      "outputs": [
        {
          "output_type": "stream",
          "name": "stdout",
          "text": [
            "[array([[1],\n",
            "       [3],\n",
            "       [5],\n",
            "       [3],\n",
            "       [6],\n",
            "       [1]]), array([[2],\n",
            "       [4],\n",
            "       [6],\n",
            "       [5],\n",
            "       [7],\n",
            "       [9]])]\n"
          ]
        }
      ]
    },
    {
      "cell_type": "code",
      "source": [
        "# functions in Numpy Arrays"
      ],
      "metadata": {
        "id": "ryE8ItV_rkIe"
      },
      "execution_count": null,
      "outputs": []
    },
    {
      "cell_type": "code",
      "source": [
        "# where function for search\n",
        "import numpy as np\n",
        "x=np.array([1,2,3,4,2,4,6,2,4,2])\n",
        "y=np.where( x==2)\n",
        "print(y)\n",
        "# here we can also specify any function like\n",
        "z=np.where(x%2==0)\n",
        "print(z)"
      ],
      "metadata": {
        "colab": {
          "base_uri": "https://localhost:8080/"
        },
        "id": "eg3QEy0kruSf",
        "outputId": "ca374835-0971-428f-b4ca-265ec147ac4a"
      },
      "execution_count": null,
      "outputs": [
        {
          "output_type": "stream",
          "name": "stdout",
          "text": [
            "(array([1, 4, 7, 9]),)\n",
            "(array([1, 3, 4, 5, 6, 7, 8, 9]),)\n"
          ]
        }
      ]
    },
    {
      "cell_type": "code",
      "source": [
        "# search sorted function for getting the position of the element to be placed in a sorted array\n",
        "import numpy as np\n",
        "x=np.array([1,2,3,4,6,7,8,9,10])\n",
        "y=np.searchsorted(x,5)\n",
        "print(y)\n",
        "# if we want to get the index from the right hand side we can use side\n",
        "z=np.searchsorted(x,8,side='right')\n",
        "print(z)"
      ],
      "metadata": {
        "colab": {
          "base_uri": "https://localhost:8080/"
        },
        "id": "3SEj3l90v7wl",
        "outputId": "95de59e0-d0ba-4a37-82ec-fedb1f9f9c1c"
      },
      "execution_count": null,
      "outputs": [
        {
          "output_type": "stream",
          "name": "stdout",
          "text": [
            "4\n",
            "7\n"
          ]
        }
      ]
    },
    {
      "cell_type": "code",
      "source": [
        "# Sort function to sort an array\n",
        "import numpy as np\n",
        "x=np.array([2,4,1,3,9,6,8,7])\n",
        "y=np.sort(x)\n",
        "print(y)\n",
        "# 2_D array\n",
        "d=np.array([[1,5,3],[4,2,5]])\n",
        "e=np.sort(d)\n",
        "print(e)\n",
        "# alphabets\n",
        "a=np.array(['f','r','a','w','u'])\n",
        "b=np.sort(a)\n",
        "print(b)"
      ],
      "metadata": {
        "colab": {
          "base_uri": "https://localhost:8080/"
        },
        "id": "xqjgAAQoyq29",
        "outputId": "12b95387-64bc-46a9-a43f-882f895a3873"
      },
      "execution_count": null,
      "outputs": [
        {
          "output_type": "stream",
          "name": "stdout",
          "text": [
            "[1 2 3 4 6 7 8 9]\n",
            "[[1 3 5]\n",
            " [2 4 5]]\n",
            "['a' 'f' 'r' 'u' 'w']\n"
          ]
        }
      ]
    },
    {
      "cell_type": "code",
      "source": [
        "# filter array (to get some elements from existing array and creating a new array out of them)\n",
        "import numpy as np\n",
        "x=np.array([1,2,3,5])\n",
        "f=[True,False,True,False]\n",
        "d=x[f]\n",
        "print(d)\n",
        "print(d.dtype)"
      ],
      "metadata": {
        "colab": {
          "base_uri": "https://localhost:8080/"
        },
        "id": "LYNxi_V50DRg",
        "outputId": "3829570a-9fb5-4d38-932f-e1d38eca4092"
      },
      "execution_count": null,
      "outputs": [
        {
          "output_type": "stream",
          "name": "stdout",
          "text": [
            "[1 3]\n",
            "int64\n"
          ]
        }
      ]
    },
    {
      "cell_type": "code",
      "source": [
        "# Shuffle function to change the arrangement of array\n",
        "import numpy as np\n",
        "x=np.array([1,2,3,4,5])\n",
        "np.random.shuffle(x)\n",
        "print(x)"
      ],
      "metadata": {
        "colab": {
          "base_uri": "https://localhost:8080/"
        },
        "id": "Avv-FVDFDctf",
        "outputId": "d0d0ed35-612d-424e-8bcb-0c17e75eb794"
      },
      "execution_count": null,
      "outputs": [
        {
          "output_type": "stream",
          "name": "stdout",
          "text": [
            "[4 3 1 5 2]\n"
          ]
        }
      ]
    },
    {
      "cell_type": "code",
      "source": [
        "# Unique function\n",
        "# to get the unique elements from an array containing repetitive elements\n",
        "import numpy as np\n",
        "x=np.array([1,2,3,4,3,2,2,3,2,4,5])\n",
        "y=np.unique(x,return_index=True,return_counts=True)\n",
        "print(y)"
      ],
      "metadata": {
        "colab": {
          "base_uri": "https://localhost:8080/"
        },
        "id": "ALERvDUsFxRQ",
        "outputId": "304140e3-7969-4a49-838f-55782952c873"
      },
      "execution_count": null,
      "outputs": [
        {
          "output_type": "stream",
          "name": "stdout",
          "text": [
            "(array([1, 2, 3, 4, 5]), array([ 0,  1,  2,  3, 10]), array([1, 4, 3, 2, 1]))\n"
          ]
        }
      ]
    },
    {
      "cell_type": "code",
      "source": [
        "# Resize Function\n",
        "import numpy as np\n",
        "x=np.array([1,2,3,4,5,6])\n",
        "y=np.resize(x,(2,3))\n",
        "print(y)"
      ],
      "metadata": {
        "colab": {
          "base_uri": "https://localhost:8080/"
        },
        "id": "YFpkyqjdHGwa",
        "outputId": "cde51f8a-d6b0-4221-c846-6361c486700c"
      },
      "execution_count": null,
      "outputs": [
        {
          "output_type": "stream",
          "name": "stdout",
          "text": [
            "[[1 2 3]\n",
            " [4 5 6]]\n"
          ]
        }
      ]
    },
    {
      "cell_type": "code",
      "source": [
        "# Flatten function ( to convert from 2-D to 1-D array or say any dimensional array to 1D)\n",
        "import numpy as np\n",
        "x=np.array([[1,2,3],[4,5,6]])\n",
        "print(x.flatten())\n",
        "print()\n",
        "print(x.flatten(order='C'))\n",
        "print()\n",
        "print(x.flatten(order='F'))\n",
        "print()\n",
        "print(x.flatten(order='A'))\n",
        "print()\n",
        "print(x.flatten(order='K'))"
      ],
      "metadata": {
        "colab": {
          "base_uri": "https://localhost:8080/"
        },
        "id": "ouJonjWyHU-S",
        "outputId": "7dff7bb8-0882-4019-9862-b882ca357571"
      },
      "execution_count": null,
      "outputs": [
        {
          "output_type": "stream",
          "name": "stdout",
          "text": [
            "[1 2 3 4 5 6]\n",
            "\n",
            "[1 2 3 4 5 6]\n",
            "\n",
            "[1 4 2 5 3 6]\n",
            "\n",
            "[1 2 3 4 5 6]\n",
            "\n",
            "[1 2 3 4 5 6]\n"
          ]
        }
      ]
    },
    {
      "cell_type": "code",
      "source": [
        "# Ravel Function\n",
        "import numpy as np\n",
        "x=np.array([[1,2,3],[4,5,6]])\n",
        "print(x.ravel())\n",
        "print()\n",
        "print(x.ravel(order='C'))\n",
        "print()\n",
        "print(x.ravel(order='F'))\n",
        "print()\n",
        "print(x.ravel(order='A'))\n",
        "print()\n",
        "print(x.ravel(order='K'))"
      ],
      "metadata": {
        "colab": {
          "base_uri": "https://localhost:8080/"
        },
        "id": "LJPs0IFOMGi2",
        "outputId": "1646ab60-e8d3-4958-f064-6e66a5a26110"
      },
      "execution_count": null,
      "outputs": [
        {
          "output_type": "stream",
          "name": "stdout",
          "text": [
            "[1 2 3 4 5 6]\n",
            "\n",
            "[1 2 3 4 5 6]\n",
            "\n",
            "[1 4 2 5 3 6]\n",
            "\n",
            "[1 2 3 4 5 6]\n",
            "\n",
            "[1 2 3 4 5 6]\n"
          ]
        }
      ]
    },
    {
      "cell_type": "code",
      "source": [
        "# Insertion"
      ],
      "metadata": {
        "id": "PXEWYxSqPDcE"
      },
      "execution_count": null,
      "outputs": []
    },
    {
      "cell_type": "code",
      "source": [
        "import numpy as np\n",
        "x=np.array([1,2,3,4,5,6])\n",
        "y=np.insert(x,2,30)\n",
        "print(y)"
      ],
      "metadata": {
        "colab": {
          "base_uri": "https://localhost:8080/"
        },
        "id": "ycax7J7gPHQ0",
        "outputId": "2ea7df0d-2e9d-4e1b-98a2-15b1ef440269"
      },
      "execution_count": null,
      "outputs": [
        {
          "output_type": "stream",
          "name": "stdout",
          "text": [
            "[ 1  2 30  3  4  5  6]\n"
          ]
        }
      ]
    },
    {
      "cell_type": "code",
      "source": [
        "# when we want to insert same value at multiple position\n",
        "import numpy as np\n",
        "x=np.array([1,2,3,4,5,6])\n",
        "y=np.insert(x,(2,4),30)\n",
        "print(y)\n"
      ],
      "metadata": {
        "colab": {
          "base_uri": "https://localhost:8080/"
        },
        "id": "GPCEGyF6PxZV",
        "outputId": "2814735c-bb37-4628-8bd2-9188dbb4b324"
      },
      "execution_count": null,
      "outputs": [
        {
          "output_type": "stream",
          "name": "stdout",
          "text": [
            "[ 1  2 30  3  4 30  5  6]\n"
          ]
        }
      ]
    },
    {
      "cell_type": "code",
      "source": [
        "# trying to imsert float value will only take integer part\n",
        "import numpy as np\n",
        "x=np.array([1,2,3,4,5,6])\n",
        "y=np.insert(x,(2,4),3.5)\n",
        "print(y)"
      ],
      "metadata": {
        "colab": {
          "base_uri": "https://localhost:8080/"
        },
        "id": "p5iBU70gQHQY",
        "outputId": "bbd4bb0c-43d5-44a0-9e02-af10f24807b3"
      },
      "execution_count": null,
      "outputs": [
        {
          "output_type": "stream",
          "name": "stdout",
          "text": [
            "[1 2 3 3 4 3 5 6]\n"
          ]
        }
      ]
    },
    {
      "cell_type": "code",
      "source": [
        "# Insertion for 2-D array\n",
        "import numpy as np\n",
        "x=np.array([[1,2,3],[4,5,6]])\n",
        "y=np.insert(x,2,3.5,axis=1)\n",
        "print(y)\n",
        "z=np.insert(x,2,(3.5,4,5),axis=0)\n",
        "print()\n",
        "print(z)\n",
        "a=np.insert(x,2,3.5,axis=1)\n",
        "print()\n",
        "print(a)"
      ],
      "metadata": {
        "colab": {
          "base_uri": "https://localhost:8080/"
        },
        "id": "P-ADgT_XQoER",
        "outputId": "593d2a3a-0426-480f-d2fe-99366bb151d7"
      },
      "execution_count": null,
      "outputs": [
        {
          "output_type": "stream",
          "name": "stdout",
          "text": [
            "[[1 2 3 3]\n",
            " [4 5 3 6]]\n",
            "\n",
            "[[1 2 3]\n",
            " [4 5 6]\n",
            " [3 4 5]]\n",
            "\n",
            "[[1 2 3 3]\n",
            " [4 5 3 6]]\n"
          ]
        }
      ]
    },
    {
      "cell_type": "code",
      "source": [
        "# Append function\n",
        "import numpy as np\n",
        "x=np.array([1,2,3,4,5])\n",
        "y=np.append(x,6)\n",
        "print(y)\n",
        "# 2-D\n",
        "a=np.array([[1,2,3],[4,5,6]])\n",
        "#b=np.append(a,2)\n",
        "#print(b)\n",
        "d=np.array([[2],[3],[4]])\n",
        "c=np.append(a,d,axis=1)\n",
        "print(c)"
      ],
      "metadata": {
        "colab": {
          "base_uri": "https://localhost:8080/",
          "height": 322
        },
        "id": "a3WpgPt1R4UO",
        "outputId": "860f1893-2127-4eba-fd48-310eb26eec7c"
      },
      "execution_count": null,
      "outputs": [
        {
          "output_type": "stream",
          "name": "stdout",
          "text": [
            "[1 2 3 4 5 6]\n"
          ]
        },
        {
          "output_type": "error",
          "ename": "ValueError",
          "evalue": "ignored",
          "traceback": [
            "\u001b[0;31m---------------------------------------------------------------------------\u001b[0m",
            "\u001b[0;31mValueError\u001b[0m                                Traceback (most recent call last)",
            "\u001b[0;32m<ipython-input-66-4b30a912d0a5>\u001b[0m in \u001b[0;36m<cell line: 11>\u001b[0;34m()\u001b[0m\n\u001b[1;32m      9\u001b[0m \u001b[0;31m#print(b)\u001b[0m\u001b[0;34m\u001b[0m\u001b[0;34m\u001b[0m\u001b[0m\n\u001b[1;32m     10\u001b[0m \u001b[0md\u001b[0m\u001b[0;34m=\u001b[0m\u001b[0mnp\u001b[0m\u001b[0;34m.\u001b[0m\u001b[0marray\u001b[0m\u001b[0;34m(\u001b[0m\u001b[0;34m[\u001b[0m\u001b[0;34m[\u001b[0m\u001b[0;36m2\u001b[0m\u001b[0;34m]\u001b[0m\u001b[0;34m,\u001b[0m\u001b[0;34m[\u001b[0m\u001b[0;36m3\u001b[0m\u001b[0;34m]\u001b[0m\u001b[0;34m,\u001b[0m\u001b[0;34m[\u001b[0m\u001b[0;36m4\u001b[0m\u001b[0;34m]\u001b[0m\u001b[0;34m]\u001b[0m\u001b[0;34m)\u001b[0m\u001b[0;34m\u001b[0m\u001b[0;34m\u001b[0m\u001b[0m\n\u001b[0;32m---> 11\u001b[0;31m \u001b[0mc\u001b[0m\u001b[0;34m=\u001b[0m\u001b[0mnp\u001b[0m\u001b[0;34m.\u001b[0m\u001b[0mappend\u001b[0m\u001b[0;34m(\u001b[0m\u001b[0ma\u001b[0m\u001b[0;34m,\u001b[0m\u001b[0md\u001b[0m\u001b[0;34m,\u001b[0m\u001b[0maxis\u001b[0m\u001b[0;34m=\u001b[0m\u001b[0;36m1\u001b[0m\u001b[0;34m)\u001b[0m\u001b[0;34m\u001b[0m\u001b[0;34m\u001b[0m\u001b[0m\n\u001b[0m\u001b[1;32m     12\u001b[0m \u001b[0mprint\u001b[0m\u001b[0;34m(\u001b[0m\u001b[0mc\u001b[0m\u001b[0;34m)\u001b[0m\u001b[0;34m\u001b[0m\u001b[0;34m\u001b[0m\u001b[0m\n",
            "\u001b[0;32m/usr/local/lib/python3.10/dist-packages/numpy/core/overrides.py\u001b[0m in \u001b[0;36mappend\u001b[0;34m(*args, **kwargs)\u001b[0m\n",
            "\u001b[0;32m/usr/local/lib/python3.10/dist-packages/numpy/lib/function_base.py\u001b[0m in \u001b[0;36mappend\u001b[0;34m(arr, values, axis)\u001b[0m\n\u001b[1;32m   5442\u001b[0m         \u001b[0mvalues\u001b[0m \u001b[0;34m=\u001b[0m \u001b[0mravel\u001b[0m\u001b[0;34m(\u001b[0m\u001b[0mvalues\u001b[0m\u001b[0;34m)\u001b[0m\u001b[0;34m\u001b[0m\u001b[0;34m\u001b[0m\u001b[0m\n\u001b[1;32m   5443\u001b[0m         \u001b[0maxis\u001b[0m \u001b[0;34m=\u001b[0m \u001b[0marr\u001b[0m\u001b[0;34m.\u001b[0m\u001b[0mndim\u001b[0m\u001b[0;34m-\u001b[0m\u001b[0;36m1\u001b[0m\u001b[0;34m\u001b[0m\u001b[0;34m\u001b[0m\u001b[0m\n\u001b[0;32m-> 5444\u001b[0;31m     \u001b[0;32mreturn\u001b[0m \u001b[0mconcatenate\u001b[0m\u001b[0;34m(\u001b[0m\u001b[0;34m(\u001b[0m\u001b[0marr\u001b[0m\u001b[0;34m,\u001b[0m \u001b[0mvalues\u001b[0m\u001b[0;34m)\u001b[0m\u001b[0;34m,\u001b[0m \u001b[0maxis\u001b[0m\u001b[0;34m=\u001b[0m\u001b[0maxis\u001b[0m\u001b[0;34m)\u001b[0m\u001b[0;34m\u001b[0m\u001b[0;34m\u001b[0m\u001b[0m\n\u001b[0m\u001b[1;32m   5445\u001b[0m \u001b[0;34m\u001b[0m\u001b[0m\n\u001b[1;32m   5446\u001b[0m \u001b[0;34m\u001b[0m\u001b[0m\n",
            "\u001b[0;32m/usr/local/lib/python3.10/dist-packages/numpy/core/overrides.py\u001b[0m in \u001b[0;36mconcatenate\u001b[0;34m(*args, **kwargs)\u001b[0m\n",
            "\u001b[0;31mValueError\u001b[0m: all the input array dimensions for the concatenation axis must match exactly, but along dimension 0, the array at index 0 has size 2 and the array at index 1 has size 3"
          ]
        }
      ]
    },
    {
      "cell_type": "code",
      "source": [
        "# Deletion"
      ],
      "metadata": {
        "id": "JLfYHzuKUtXW"
      },
      "execution_count": null,
      "outputs": []
    },
    {
      "cell_type": "code",
      "source": [
        "import numpy as np\n",
        "x=np.array([1,2,3,4])\n",
        "y=np.delete(x,3)\n",
        "print(y)"
      ],
      "metadata": {
        "colab": {
          "base_uri": "https://localhost:8080/"
        },
        "id": "oqKs_x0PUu_a",
        "outputId": "31405229-13da-4c4c-ae4b-46d56789d45a"
      },
      "execution_count": null,
      "outputs": [
        {
          "output_type": "stream",
          "name": "stdout",
          "text": [
            "[1 2 3]\n"
          ]
        }
      ]
    },
    {
      "cell_type": "code",
      "source": [
        "# Matrix"
      ],
      "metadata": {
        "id": "sxUFPF_olb3f"
      },
      "execution_count": null,
      "outputs": []
    },
    {
      "cell_type": "code",
      "source": [
        "# Creating matrix\n",
        "import numpy as np\n",
        "x=np.matrix([[1,2,3],[4,5,6]])\n",
        "print(x)\n",
        "print()\n",
        "y=np.array([[1,2,3],[4,5,6]])\n",
        "print(y)\n",
        "print()\n",
        "print(type(x))\n",
        "print(type(y))"
      ],
      "metadata": {
        "colab": {
          "base_uri": "https://localhost:8080/"
        },
        "id": "k9MyEd9Jldnd",
        "outputId": "cefe8665-eb8e-460d-c88d-e54ca795674e"
      },
      "execution_count": null,
      "outputs": [
        {
          "output_type": "stream",
          "name": "stdout",
          "text": [
            "[[1 2 3]\n",
            " [4 5 6]]\n",
            "\n",
            "[[1 2 3]\n",
            " [4 5 6]]\n",
            "\n",
            "<class 'numpy.matrix'>\n",
            "<class 'numpy.ndarray'>\n"
          ]
        }
      ]
    },
    {
      "cell_type": "code",
      "source": [
        "# difference between matrix and numpy array\n",
        "--no difference in addition"
      ],
      "metadata": {
        "id": "DvsE1h6jmfh8"
      },
      "execution_count": null,
      "outputs": []
    },
    {
      "cell_type": "code",
      "source": [
        "# matrix multiplication\n",
        "# .dot function is used for the same\n",
        "import numpy as np\n",
        "x=np.matrix([[1,2,3,4]])\n",
        "print(x.shape)\n",
        "y=np.matrix([[1],[2],[3],[4]])\n",
        "print(y.shape)\n",
        "print()\n",
        "print(x.dot(y))"
      ],
      "metadata": {
        "id": "n7HqjBodmpCs",
        "colab": {
          "base_uri": "https://localhost:8080/"
        },
        "outputId": "cdaee6d9-2f6a-4256-ae83-5f2737b82390"
      },
      "execution_count": null,
      "outputs": [
        {
          "output_type": "stream",
          "name": "stdout",
          "text": [
            "(1, 4)\n",
            "(4, 1)\n",
            "\n",
            "[[30]]\n"
          ]
        }
      ]
    },
    {
      "cell_type": "code",
      "source": [
        "# Matrix functions in numpy arrays\n",
        "# Transpose of a matrix\n",
        "import numpy as np\n",
        "x=np.array([[1,2,3],[4,5,6]])\n",
        "print(x)\n",
        "print()\n",
        "print(np.transpose(x))\n",
        "# transpose using shortcut\n",
        "print()\n",
        "print(x.T)"
      ],
      "metadata": {
        "colab": {
          "base_uri": "https://localhost:8080/"
        },
        "id": "wzOLCbzEnAW0",
        "outputId": "74bc9494-ea93-4838-f1bc-c9ef31a3327a"
      },
      "execution_count": null,
      "outputs": [
        {
          "output_type": "stream",
          "name": "stdout",
          "text": [
            "[[1 2 3]\n",
            " [4 5 6]]\n",
            "\n",
            "[[1 4]\n",
            " [2 5]\n",
            " [3 6]]\n",
            "\n",
            "[[1 4]\n",
            " [2 5]\n",
            " [3 6]]\n"
          ]
        }
      ]
    },
    {
      "cell_type": "code",
      "source": [
        "# swapaxes function\n",
        "import numpy as np\n",
        "x=np.array([[1,2,3,4],[5,6,7,8]])\n",
        "print(x)\n",
        "print()\n",
        "print(np.swapaxes(x,0,1))"
      ],
      "metadata": {
        "colab": {
          "base_uri": "https://localhost:8080/"
        },
        "id": "gwl_uWiuoMcc",
        "outputId": "985af2ad-38de-4ad7-b473-2cbb84425822"
      },
      "execution_count": null,
      "outputs": [
        {
          "output_type": "stream",
          "name": "stdout",
          "text": [
            "[[1 2 3 4]\n",
            " [5 6 7 8]]\n",
            "\n",
            "[[1 5]\n",
            " [2 6]\n",
            " [3 7]\n",
            " [4 8]]\n"
          ]
        }
      ]
    },
    {
      "cell_type": "code",
      "source": [
        "# inverse function\n",
        "import numpy as np\n",
        "x=np.array([[1,2],[5,6]])\n",
        "print(x)\n",
        "print()\n",
        "print(np.linalg.inv(x))"
      ],
      "metadata": {
        "colab": {
          "base_uri": "https://localhost:8080/"
        },
        "id": "ZUobvHbNpKHb",
        "outputId": "c1166680-2ae2-4cc5-d49e-4dd481641daa"
      },
      "execution_count": null,
      "outputs": [
        {
          "output_type": "stream",
          "name": "stdout",
          "text": [
            "[[1 2]\n",
            " [5 6]]\n",
            "\n",
            "[[-1.5   0.5 ]\n",
            " [ 1.25 -0.25]]\n"
          ]
        }
      ]
    },
    {
      "cell_type": "code",
      "source": [
        "# Power of a matrix\n",
        "import numpy as np\n",
        "x=np.matrix([[1,2],[3,4]])\n",
        "print(x)\n",
        "print()\n",
        "\n",
        "print(np.linalg.matrix_power(x,0))\n",
        "print()\n",
        "print(np.linalg.matrix_power(x,-2))\n",
        "print()\n",
        "print(np.linalg.matrix_power(x,2))"
      ],
      "metadata": {
        "colab": {
          "base_uri": "https://localhost:8080/"
        },
        "id": "nSjJPGxzsPCr",
        "outputId": "7f0a9ef3-ad1d-4c61-8eb4-b330eda2675e"
      },
      "execution_count": null,
      "outputs": [
        {
          "output_type": "stream",
          "name": "stdout",
          "text": [
            "[[1 2]\n",
            " [3 4]]\n",
            "\n",
            "[[1 0]\n",
            " [0 1]]\n",
            "\n",
            "[[ 5.5  -2.5 ]\n",
            " [-3.75  1.75]]\n",
            "\n",
            "[[ 7 10]\n",
            " [15 22]]\n"
          ]
        }
      ]
    },
    {
      "cell_type": "code",
      "source": [
        "# determinant of a matrix\n",
        "import numpy as np\n",
        "x=np.matrix([[1,2],[3,4]])\n",
        "print(x)\n",
        "print()\n",
        "print(np.linalg.det(x))"
      ],
      "metadata": {
        "colab": {
          "base_uri": "https://localhost:8080/"
        },
        "id": "WpTiWWh1tIdG",
        "outputId": "ecb7123d-6537-4f05-c9dd-6aafd5105846"
      },
      "execution_count": null,
      "outputs": [
        {
          "output_type": "stream",
          "name": "stdout",
          "text": [
            "[[1 2]\n",
            " [3 4]]\n",
            "\n",
            "-2.0000000000000004\n"
          ]
        }
      ]
    },
    {
      "cell_type": "code",
      "source": [
        "# Comparison between array and list"
      ],
      "metadata": {
        "id": "c1hvUo4iTY_B"
      },
      "execution_count": null,
      "outputs": []
    },
    {
      "cell_type": "code",
      "source": [
        "# array takes less memory than a list\n",
        "#sys library\n",
        "import numpy as np\n",
        "import sys\n",
        "u=range(1000)\n",
        "print(sys.getsizeof(u)) # this method is used to get the memory size of u\n",
        "print(sys.getsizeof(len(u))) # here the memory size of len(u)\n",
        "# to get the memory address of an array\n",
        "import numpy as np\n",
        "a=np.array([1,2,3,4,5])\n",
        "print(a.size*a.itemsize)"
      ],
      "metadata": {
        "colab": {
          "base_uri": "https://localhost:8080/"
        },
        "id": "O5i3WgdKLOSY",
        "outputId": "133a930f-b586-446c-e08d-9191a4cc71e6"
      },
      "execution_count": null,
      "outputs": [
        {
          "output_type": "stream",
          "name": "stdout",
          "text": [
            "48\n",
            "28\n",
            "40\n"
          ]
        }
      ]
    },
    {
      "cell_type": "code",
      "source": [
        "# boolean function\n",
        "import numpy as np\n",
        "a=np.array([1,2,3,4,5])\n",
        "print(a<3)\n",
        "# we can also get the value directly\n",
        "print(a[a<3])"
      ],
      "metadata": {
        "colab": {
          "base_uri": "https://localhost:8080/"
        },
        "id": "dv6SqkWWR5JL",
        "outputId": "7e42233e-a37b-4b44-90e7-1c0b1fb959cc"
      },
      "execution_count": 2,
      "outputs": [
        {
          "output_type": "stream",
          "name": "stdout",
          "text": [
            "[ True  True False False False]\n",
            "[1 2]\n"
          ]
        }
      ]
    },
    {
      "cell_type": "code",
      "source": [
        "# Statistical operations"
      ],
      "metadata": {
        "id": "8DQd1ZSB8yH6"
      },
      "execution_count": null,
      "outputs": []
    },
    {
      "cell_type": "code",
      "source": [
        "import numpy as np\n",
        "A=np.array([1,2,3,4,5])\n",
        "print(np.mean(A))\n",
        "print(np.mean(A[0:3]))\n",
        "print(np.median(A))\n",
        "# correlation\n",
        "print(np.corrcoef(A[0:2],A[1:3]))\n",
        "# Standard Deviation\n",
        "print(np.std(A[1:]))\n",
        "# Variance\n",
        "print(A.var())"
      ],
      "metadata": {
        "colab": {
          "base_uri": "https://localhost:8080/"
        },
        "id": "DIObU9F683Bc",
        "outputId": "1fbc6bd0-0530-4f6a-86aa-20b6bb215583"
      },
      "execution_count": null,
      "outputs": [
        {
          "output_type": "stream",
          "name": "stdout",
          "text": [
            "3.0\n",
            "2.0\n",
            "3.0\n",
            "[[1. 1.]\n",
            " [1. 1.]]\n",
            "1.118033988749895\n",
            "2.0\n"
          ]
        }
      ]
    },
    {
      "cell_type": "code",
      "source": [
        "# Practice problems"
      ],
      "metadata": {
        "id": "oNdPToRN7yD3"
      },
      "execution_count": null,
      "outputs": []
    },
    {
      "cell_type": "code",
      "source": [
        "import numpy as np\n",
        "from numpy import array\n",
        "a=np.zeros(10)\n",
        "print(a)\n",
        "b=np.ones(10)\n",
        "print(b)\n",
        "a[:]=5\n",
        "print(a)\n",
        "c=np.arange(10,51)\n",
        "z=c[c%2==0]\n",
        "print(z)\n",
        "d=np.eye(3,3)\n",
        "print(d)\n",
        "e=np.random.rand(1)\n",
        "print(e)\n",
        "f=np.random.randn(25).reshape(5,5)\n",
        "print(f)\n",
        "g=np.linspace(0,1,100).reshape(10,10)\n",
        "np.set_printoptions(precision=2)\n",
        "print(g)\n",
        "h=np.linspace(0,1,20).reshape(4,5)\n",
        "print(h)"
      ],
      "metadata": {
        "id": "vV3tCB1l-kpG",
        "collapsed": true
      },
      "execution_count": null,
      "outputs": []
    },
    {
      "cell_type": "code",
      "source": [
        "import numpy as np\n",
        "a=np.arange(1,26).reshape(5,5)\n",
        "print(a)\n",
        "b=np.std(a)\n",
        "for i in a[,0:]:\n",
        "  print(sum)"
      ],
      "metadata": {
        "colab": {
          "base_uri": "https://localhost:8080/",
          "height": 142
        },
        "id": "dZZbSs0-FUmg",
        "outputId": "75abed7b-63c9-4564-d020-8e27bcc01ecf"
      },
      "execution_count": null,
      "outputs": [
        {
          "output_type": "error",
          "ename": "SyntaxError",
          "evalue": "ignored",
          "traceback": [
            "\u001b[0;36m  File \u001b[0;32m\"<ipython-input-2-fbb576070042>\"\u001b[0;36m, line \u001b[0;32m5\u001b[0m\n\u001b[0;31m    for i in a[,0:]:\u001b[0m\n\u001b[0m               ^\u001b[0m\n\u001b[0;31mSyntaxError\u001b[0m\u001b[0;31m:\u001b[0m invalid syntax\n"
          ]
        }
      ]
    },
    {
      "cell_type": "code",
      "source": [
        "import numpy as np\n",
        "a=np.arange(0,9).reshape(3,3)\n",
        "print(a)"
      ],
      "metadata": {
        "id": "Hf2PcuXyGfzo",
        "colab": {
          "base_uri": "https://localhost:8080/"
        },
        "outputId": "af53269e-5fa9-4e45-d975-eb821f6b62ec"
      },
      "execution_count": null,
      "outputs": [
        {
          "output_type": "stream",
          "name": "stdout",
          "text": [
            "[[0 1 2]\n",
            " [3 4 5]\n",
            " [6 7 8]]\n"
          ]
        }
      ]
    },
    {
      "cell_type": "code",
      "source": [
        "z=np.array([[[1,2,3,4],[5,6,7,8],[9,7,6,5]]])\n",
        "print(z[0,1,1:])"
      ],
      "metadata": {
        "colab": {
          "base_uri": "https://localhost:8080/"
        },
        "id": "4A6HRCtIUT7J",
        "outputId": "44197127-1e74-4e17-badc-ea917681b8d2"
      },
      "execution_count": null,
      "outputs": [
        {
          "output_type": "stream",
          "name": "stdout",
          "text": [
            "[6 7 8]\n"
          ]
        }
      ]
    },
    {
      "cell_type": "code",
      "source": [],
      "metadata": {
        "id": "zD0cP3FmUoo2"
      },
      "execution_count": null,
      "outputs": []
    }
  ]
}